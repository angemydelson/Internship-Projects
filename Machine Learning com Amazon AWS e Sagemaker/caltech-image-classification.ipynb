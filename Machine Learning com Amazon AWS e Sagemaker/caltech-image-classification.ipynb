{
 "cells": [
  {
   "cell_type": "markdown",
   "metadata": {},
   "source": [
    "# Base de dados Caltech 256\n",
    "\n",
    "- Base de dados: https://www.kaggle.com/datasets/jessicali9530/caltech256\n",
    "- Código baseado em: https://sagemaker-examples.readthedocs.io/en/latest/introduction_to_amazon_algorithms/imageclassification_caltech/Image-classification-fulltraining-highlevel.html e https://sagemaker-examples.readthedocs.io/en/latest/introduction_to_amazon_algorithms/imageclassification_caltech/Image-classification-fulltraining.html"
   ]
  },
  {
   "cell_type": "code",
   "execution_count": 10,
   "metadata": {},
   "outputs": [],
   "source": [
    "import urllib.request\n",
    "import sagemaker\n",
    "from sagemaker import get_execution_role\n",
    "import boto3\n",
    "import json\n",
    "import numpy as np\n",
    "import os"
   ]
  },
  {
   "cell_type": "code",
   "execution_count": 11,
   "metadata": {},
   "outputs": [],
   "source": [
    "def download(url):\n",
    "    arquivo = url.split('/')[-1]\n",
    "    #print(arquivo)\n",
    "    if not os.path.exists(arquivo):\n",
    "        urllib.request.urlretrieve(url, arquivo)"
   ]
  },
  {
   "cell_type": "code",
   "execution_count": 12,
   "metadata": {},
   "outputs": [],
   "source": [
    "download('http://data.mxnet.io/data/caltech-256/caltech-256-60-train.rec')"
   ]
  },
  {
   "cell_type": "code",
   "execution_count": 13,
   "metadata": {},
   "outputs": [],
   "source": [
    "download('http://data.mxnet.io/data/caltech-256/caltech-256-60-val.rec')"
   ]
  },
  {
   "cell_type": "code",
   "execution_count": 14,
   "metadata": {},
   "outputs": [
    {
     "name": "stdout",
     "output_type": "stream",
     "text": [
      "Localização da base de treinamento:  s3://redeneural/caltech/train/\n",
      "Localização da base de teste:  s3://redeneural/caltech/validation/\n",
      "Localização do modelo final:  s3://redeneural/caltech/output\n"
     ]
    }
   ],
   "source": [
    "session = sagemaker.Session()\n",
    "role = get_execution_role()\n",
    "bucket = 'redeneural'\n",
    "subpasta_dataset = 'caltech'\n",
    "s3_treinamento = 's3://{}/{}/train/'.format(bucket, subpasta_dataset)\n",
    "s3_teste = 's3://{}/{}/validation/'.format(bucket, subpasta_dataset)\n",
    "s3_output_location = 's3://{}/{}/output'.format(bucket, subpasta_dataset)\n",
    "print('Localização da base de treinamento: ', s3_treinamento)\n",
    "print('Localização da base de teste: ', s3_teste)\n",
    "print('Localização do modelo final: ', s3_output_location)"
   ]
  },
  {
   "cell_type": "code",
   "execution_count": 16,
   "metadata": {},
   "outputs": [],
   "source": [
    "!aws s3 cp caltech-256-60-train.rec $s3_treinamento --quiet\n",
    "!aws s3 cp caltech-256-60-val.rec $s3_teste --quiet"
   ]
  },
  {
   "cell_type": "markdown",
   "metadata": {},
   "source": [
    "# Configurações e treinamento da rede neural"
   ]
  },
  {
   "cell_type": "code",
   "execution_count": 17,
   "metadata": {},
   "outputs": [],
   "source": [
    "# https://docs.aws.amazon.com/sagemaker/latest/dg/image-classification.html\n",
    "# https://docs.aws.amazon.com/sagemaker/latest/dg/ecr-sa-east-1.html\n",
    "container = sagemaker.image_uris.retrieve(framework = 'image-classification', \n",
    "                                          region = boto3.Session().region_name)"
   ]
  },
  {
   "cell_type": "code",
   "execution_count": 19,
   "metadata": {},
   "outputs": [],
   "source": [
    "# https://sagemaker.readthedocs.io/en/stable/api/training/estimators.html\n",
    "rede_neural = sagemaker.estimator.Estimator(image_uri = container,\n",
    "                                            role = role,\n",
    "                                            instance_count = 1,\n",
    "                                            instance_type = 'ml.p3.2xlarge',\n",
    "                                            input_mode = 'File',\n",
    "                                            output_path = s3_output_location) # spot instances"
   ]
  },
  {
   "cell_type": "code",
   "execution_count": 21,
   "metadata": {},
   "outputs": [],
   "source": [
    "# https://docs.aws.amazon.com/sagemaker/latest/dg/IC-Hyperparameter.html\n",
    "# Resnet: https://arxiv.org/pdf/1512.03385.pdf\n",
    "rede_neural.set_hyperparameters(num_layers = 18,\n",
    "                                image_shape = '3,224,224',\n",
    "                                num_classes = 257,\n",
    "                                num_training_samples = 15420,\n",
    "                                mini_batch_size = 128,\n",
    "                                epochs = 5,\n",
    "                                learning_rate = 0.01)"
   ]
  },
  {
   "cell_type": "code",
   "execution_count": 22,
   "metadata": {},
   "outputs": [],
   "source": [
    "train_data = sagemaker.inputs.TrainingInput(s3_treinamento,\n",
    "                                            content_type = 'application/x-recordio',\n",
    "                                            s3_data_type = 'S3Prefix')\n",
    "test_data = sagemaker.inputs.TrainingInput(s3_teste,\n",
    "                                            content_type = 'application/x-recordio',\n",
    "                                            s3_data_type = 'S3Prefix')"
   ]
  },
  {
   "cell_type": "code",
   "execution_count": 24,
   "metadata": {},
   "outputs": [
    {
     "name": "stdout",
     "output_type": "stream",
     "text": [
      "2022-05-31 14:27:20 Starting - Starting the training job...\n",
      "2022-05-31 14:27:49 Starting - Preparing the instances for trainingProfilerReport-1654007240: InProgress\n",
      ".........\n",
      "2022-05-31 14:29:10 Downloading - Downloading input data...\n",
      "2022-05-31 14:29:47 Training - Downloading the training image........\u001b[34mDocker entrypoint called with argument(s): train\u001b[0m\n",
      "\u001b[34m[05/31/2022 14:31:09 INFO 139664079087424] Reading default configuration from /opt/amazon/lib/python3.7/site-packages/image_classification/default-input.json: {'use_pretrained_model': 0, 'num_layers': 152, 'epochs': 30, 'learning_rate': 0.1, 'lr_scheduler_factor': 0.1, 'optimizer': 'sgd', 'momentum': 0, 'weight_decay': 0.0001, 'beta_1': 0.9, 'beta_2': 0.999, 'eps': 1e-08, 'gamma': 0.9, 'mini_batch_size': 32, 'image_shape': '3,224,224', 'precision_dtype': 'float32'}\u001b[0m\n",
      "\u001b[34m[05/31/2022 14:31:09 INFO 139664079087424] Merging with provided configuration from /opt/ml/input/config/hyperparameters.json: {'epochs': '5', 'image_shape': '3,224,224', 'learning_rate': '0.01', 'mini_batch_size': '128', 'num_classes': '257', 'num_layers': '18', 'num_training_samples': '15420'}\u001b[0m\n",
      "\u001b[34m[05/31/2022 14:31:09 INFO 139664079087424] Final configuration: {'use_pretrained_model': 0, 'num_layers': '18', 'epochs': '5', 'learning_rate': '0.01', 'lr_scheduler_factor': 0.1, 'optimizer': 'sgd', 'momentum': 0, 'weight_decay': 0.0001, 'beta_1': 0.9, 'beta_2': 0.999, 'eps': 1e-08, 'gamma': 0.9, 'mini_batch_size': '128', 'image_shape': '3,224,224', 'precision_dtype': 'float32', 'num_classes': '257', 'num_training_samples': '15420'}\u001b[0m\n",
      "\u001b[34m[05/31/2022 14:31:09 INFO 139664079087424] Searching for .rec files in /opt/ml/input/data/train.\u001b[0m\n",
      "\u001b[34m[05/31/2022 14:31:09 INFO 139664079087424] Searching for .rec files in /opt/ml/input/data/validation.\u001b[0m\n",
      "\u001b[34m[05/31/2022 14:31:09 INFO 139664079087424] use_pretrained_model: 0\u001b[0m\n",
      "\u001b[34m[05/31/2022 14:31:09 INFO 139664079087424] multi_label: 0\u001b[0m\n",
      "\u001b[34m[05/31/2022 14:31:09 INFO 139664079087424] Performing random weight initialization\u001b[0m\n",
      "\u001b[34m[05/31/2022 14:31:09 INFO 139664079087424] ---- Parameters ----\u001b[0m\n",
      "\u001b[34m[05/31/2022 14:31:09 INFO 139664079087424] num_layers: 18\u001b[0m\n",
      "\u001b[34m[05/31/2022 14:31:09 INFO 139664079087424] data type: <class 'numpy.float32'>\u001b[0m\n",
      "\u001b[34m[05/31/2022 14:31:09 INFO 139664079087424] epochs: 5\u001b[0m\n",
      "\u001b[34m[05/31/2022 14:31:09 INFO 139664079087424] optimizer: sgd\u001b[0m\n",
      "\u001b[34m[05/31/2022 14:31:09 INFO 139664079087424] momentum: 0.9\u001b[0m\n",
      "\u001b[34m[05/31/2022 14:31:09 INFO 139664079087424] weight_decay: 0.0001\u001b[0m\n",
      "\u001b[34m[05/31/2022 14:31:09 INFO 139664079087424] learning_rate: 0.01\u001b[0m\n",
      "\u001b[34m[05/31/2022 14:31:09 INFO 139664079087424] num_training_samples: 15420\u001b[0m\n",
      "\u001b[34m[05/31/2022 14:31:09 INFO 139664079087424] mini_batch_size: 128\u001b[0m\n",
      "\u001b[34m[05/31/2022 14:31:09 INFO 139664079087424] image_shape: 3,224,224\u001b[0m\n",
      "\u001b[34m[05/31/2022 14:31:09 INFO 139664079087424] num_classes: 257\u001b[0m\n",
      "\u001b[34m[05/31/2022 14:31:09 INFO 139664079087424] augmentation_type: None\u001b[0m\n",
      "\u001b[34m[05/31/2022 14:31:09 INFO 139664079087424] kv_store: device\u001b[0m\n",
      "\u001b[34m[05/31/2022 14:31:09 INFO 139664079087424] checkpoint_frequency not set, will store the best model\u001b[0m\n",
      "\u001b[34m[05/31/2022 14:31:09 INFO 139664079087424] --------------------\u001b[0m\n",
      "\u001b[34m[05/31/2022 14:31:09 INFO 139664079087424] Setting number of threads: 7\u001b[0m\n",
      "\n",
      "2022-05-31 14:31:07 Training - Training image download completed. Training in progress.\u001b[34m[14:31:20] /opt/brazil-pkg-cache/packages/AIAlgorithmsMXNet/AIAlgorithmsMXNet-1.3.x_ecl_Cuda_10.1.x.11282.0/AL2_x86_64/generic-flavor/src/src/operator/nn/./cudnn/./cudnn_algoreg-inl.h:97: Running performance tests to find the best convolution algorithm, this can take a while... (setting env variable MXNET_CUDNN_AUTOTUNE_DEFAULT to 0 to disable)\u001b[0m\n",
      "\u001b[34m[05/31/2022 14:31:23 INFO 139664079087424] Epoch[0] Batch [20]#011Speed: 662.164 samples/sec#011accuracy=0.004464\u001b[0m\n",
      "\u001b[34m[05/31/2022 14:31:26 INFO 139664079087424] Epoch[0] Batch [40]#011Speed: 818.528 samples/sec#011accuracy=0.008384\u001b[0m\n",
      "\u001b[34m[05/31/2022 14:31:28 INFO 139664079087424] Epoch[0] Batch [60]#011Speed: 887.750 samples/sec#011accuracy=0.014472\u001b[0m\n",
      "\u001b[34m[05/31/2022 14:31:31 INFO 139664079087424] Epoch[0] Batch [80]#011Speed: 926.586 samples/sec#011accuracy=0.017650\u001b[0m\n",
      "\u001b[34m[05/31/2022 14:31:33 INFO 139664079087424] Epoch[0] Batch [100]#011Speed: 952.178 samples/sec#011accuracy=0.022819\u001b[0m\n",
      "\u001b[34m[05/31/2022 14:31:35 INFO 139664079087424] Epoch[0] Train-accuracy=0.026628\u001b[0m\n",
      "\u001b[34m[05/31/2022 14:31:35 INFO 139664079087424] Epoch[0] Time cost=15.696\u001b[0m\n",
      "\u001b[34m[05/31/2022 14:31:45 INFO 139664079087424] Epoch[0] Validation-accuracy=0.067358\u001b[0m\n",
      "\u001b[34m[05/31/2022 14:31:45 INFO 139664079087424] Storing the best model with validation accuracy: 0.067358\u001b[0m\n",
      "\u001b[34m[05/31/2022 14:31:45 INFO 139664079087424] Saved checkpoint to \"/opt/ml/model/image-classification-0001.params\"\u001b[0m\n",
      "\u001b[34m[05/31/2022 14:31:47 INFO 139664079087424] Epoch[1] Batch [20]#011Speed: 1044.244 samples/sec#011accuracy=0.051339\u001b[0m\n",
      "\u001b[34m[05/31/2022 14:31:50 INFO 139664079087424] Epoch[1] Batch [40]#011Speed: 1056.302 samples/sec#011accuracy=0.058308\u001b[0m\n",
      "\u001b[34m[05/31/2022 14:31:52 INFO 139664079087424] Epoch[1] Batch [60]#011Speed: 1060.599 samples/sec#011accuracy=0.061091\u001b[0m\n",
      "\u001b[34m[05/31/2022 14:31:55 INFO 139664079087424] Epoch[1] Batch [80]#011Speed: 1062.817 samples/sec#011accuracy=0.065201\u001b[0m\n",
      "\u001b[34m[05/31/2022 14:31:57 INFO 139664079087424] Epoch[1] Batch [100]#011Speed: 1064.055 samples/sec#011accuracy=0.066909\u001b[0m\n",
      "\u001b[34m[05/31/2022 14:31:59 INFO 139664079087424] Epoch[1] Train-accuracy=0.070964\u001b[0m\n",
      "\u001b[34m[05/31/2022 14:31:59 INFO 139664079087424] Epoch[1] Time cost=14.283\u001b[0m\n",
      "\u001b[34m[05/31/2022 14:32:09 INFO 139664079087424] Epoch[1] Validation-accuracy=0.124015\u001b[0m\n",
      "\u001b[34m[05/31/2022 14:32:10 INFO 139664079087424] Storing the best model with validation accuracy: 0.124015\u001b[0m\n",
      "\u001b[34m[05/31/2022 14:32:10 INFO 139664079087424] Saved checkpoint to \"/opt/ml/model/image-classification-0002.params\"\u001b[0m\n",
      "\u001b[34m[05/31/2022 14:32:12 INFO 139664079087424] Epoch[2] Batch [20]#011Speed: 1043.001 samples/sec#011accuracy=0.087798\u001b[0m\n",
      "\u001b[34m[05/31/2022 14:32:15 INFO 139664079087424] Epoch[2] Batch [40]#011Speed: 1054.628 samples/sec#011accuracy=0.092988\u001b[0m\n",
      "\u001b[34m[05/31/2022 14:32:17 INFO 139664079087424] Epoch[2] Batch [60]#011Speed: 1059.691 samples/sec#011accuracy=0.094903\u001b[0m\n",
      "\u001b[34m[05/31/2022 14:32:19 INFO 139664079087424] Epoch[2] Batch [80]#011Speed: 1061.358 samples/sec#011accuracy=0.102238\u001b[0m\n",
      "\u001b[34m[05/31/2022 14:32:22 INFO 139664079087424] Epoch[2] Batch [100]#011Speed: 1063.253 samples/sec#011accuracy=0.105275\u001b[0m\n",
      "\u001b[34m[05/31/2022 14:32:24 INFO 139664079087424] Epoch[2] Train-accuracy=0.108529\u001b[0m\n",
      "\u001b[34m[05/31/2022 14:32:24 INFO 139664079087424] Epoch[2] Time cost=14.294\u001b[0m\n",
      "\u001b[34m[05/31/2022 14:32:34 INFO 139664079087424] Epoch[2] Validation-accuracy=0.165056\u001b[0m\n",
      "\u001b[34m[05/31/2022 14:32:34 INFO 139664079087424] Storing the best model with validation accuracy: 0.165056\u001b[0m\n",
      "\u001b[34m[05/31/2022 14:32:34 INFO 139664079087424] Saved checkpoint to \"/opt/ml/model/image-classification-0003.params\"\u001b[0m\n",
      "\u001b[34m[05/31/2022 14:32:36 INFO 139664079087424] Epoch[3] Batch [20]#011Speed: 1045.191 samples/sec#011accuracy=0.117188\u001b[0m\n",
      "\u001b[34m[05/31/2022 14:32:39 INFO 139664079087424] Epoch[3] Batch [40]#011Speed: 1056.363 samples/sec#011accuracy=0.118712\u001b[0m\n",
      "\u001b[34m[05/31/2022 14:32:41 INFO 139664079087424] Epoch[3] Batch [60]#011Speed: 1060.897 samples/sec#011accuracy=0.123463\u001b[0m\n",
      "\u001b[34m[05/31/2022 14:32:43 INFO 139664079087424] Epoch[3] Batch [80]#011Speed: 1063.472 samples/sec#011accuracy=0.130498\u001b[0m\n",
      "\u001b[34m[05/31/2022 14:32:46 INFO 139664079087424] Epoch[3] Batch [100]#011Speed: 1064.732 samples/sec#011accuracy=0.133663\u001b[0m\n",
      "\u001b[34m[05/31/2022 14:32:48 INFO 139664079087424] Epoch[3] Train-accuracy=0.138086\u001b[0m\n",
      "\u001b[34m[05/31/2022 14:32:48 INFO 139664079087424] Epoch[3] Time cost=14.268\u001b[0m\n",
      "\u001b[34m[05/31/2022 14:32:57 INFO 139664079087424] Epoch[3] Validation-accuracy=0.184086\u001b[0m\n",
      "\u001b[34m[05/31/2022 14:32:58 INFO 139664079087424] Storing the best model with validation accuracy: 0.184086\u001b[0m\n",
      "\u001b[34m[05/31/2022 14:32:58 INFO 139664079087424] Saved checkpoint to \"/opt/ml/model/image-classification-0004.params\"\u001b[0m\n",
      "\u001b[34m[05/31/2022 14:33:00 INFO 139664079087424] Epoch[4] Batch [20]#011Speed: 1046.689 samples/sec#011accuracy=0.151786\u001b[0m\n",
      "\u001b[34m[05/31/2022 14:33:03 INFO 139664079087424] Epoch[4] Batch [40]#011Speed: 1052.516 samples/sec#011accuracy=0.150724\u001b[0m\n",
      "\u001b[34m[05/31/2022 14:33:05 INFO 139664079087424] Epoch[4] Batch [60]#011Speed: 1056.504 samples/sec#011accuracy=0.155610\u001b[0m\n",
      "\u001b[34m[05/31/2022 14:33:07 INFO 139664079087424] Epoch[4] Batch [80]#011Speed: 1058.515 samples/sec#011accuracy=0.162519\u001b[0m\n",
      "\u001b[34m[05/31/2022 14:33:10 INFO 139664079087424] Epoch[4] Batch [100]#011Speed: 1060.933 samples/sec#011accuracy=0.165764\u001b[0m\n",
      "\u001b[34m[05/31/2022 14:33:12 INFO 139664079087424] Epoch[4] Train-accuracy=0.168164\u001b[0m\n",
      "\u001b[34m[05/31/2022 14:33:12 INFO 139664079087424] Epoch[4] Time cost=14.318\u001b[0m\n",
      "\u001b[34m[05/31/2022 14:33:22 INFO 139664079087424] Epoch[4] Validation-accuracy=0.191570\u001b[0m\n",
      "\u001b[34m[05/31/2022 14:33:22 INFO 139664079087424] Storing the best model with validation accuracy: 0.191570\u001b[0m\n",
      "\u001b[34m[05/31/2022 14:33:22 INFO 139664079087424] Saved checkpoint to \"/opt/ml/model/image-classification-0005.params\"\u001b[0m\n",
      "\n",
      "2022-05-31 14:33:48 Uploading - Uploading generated training model\n",
      "2022-05-31 14:33:48 Completed - Training job completed\n",
      "Training seconds: 268\n",
      "Billable seconds: 268\n"
     ]
    }
   ],
   "source": [
    "data_channels = {'train': train_data, 'validation': test_data}\n",
    "rede_neural.fit(inputs = data_channels, logs = True)"
   ]
  },
  {
   "cell_type": "markdown",
   "metadata": {},
   "source": [
    "# Deploy e previsões"
   ]
  },
  {
   "cell_type": "code",
   "execution_count": 25,
   "metadata": {},
   "outputs": [
    {
     "name": "stdout",
     "output_type": "stream",
     "text": [
      "-------!"
     ]
    }
   ],
   "source": [
    "rede_neural_classificador = rede_neural.deploy(initial_instance_count = 1, \n",
    "                                               instance_type = 'ml.m4.xlarge')"
   ]
  },
  {
   "cell_type": "code",
   "execution_count": 26,
   "metadata": {},
   "outputs": [],
   "source": [
    "imagem = open('test.jpg', 'rb').read()"
   ]
  },
  {
   "cell_type": "code",
   "execution_count": 29,
   "metadata": {},
   "outputs": [],
   "source": [
    "runtime = boto3.Session().client(service_name = 'sagemaker-runtime')\n",
    "resposta = runtime.invoke_endpoint(EndpointName = 'image-classification-2022-05-31-14-41-13-204',\n",
    "                                   ContentType = 'application/x-image',\n",
    "                                   Body = bytearray(imagem))"
   ]
  },
  {
   "cell_type": "code",
   "execution_count": 30,
   "metadata": {},
   "outputs": [
    {
     "data": {
      "text/plain": [
       "{'ResponseMetadata': {'RequestId': 'b5fbfcad-43d2-4f59-9113-4217d16611ef',\n",
       "  'HTTPStatusCode': 200,\n",
       "  'HTTPHeaders': {'x-amzn-requestid': 'b5fbfcad-43d2-4f59-9113-4217d16611ef',\n",
       "   'x-amzn-invoked-production-variant': 'AllTraffic',\n",
       "   'date': 'Tue, 31 May 2022 14:49:28 GMT',\n",
       "   'content-type': 'application/json',\n",
       "   'content-length': '5808'},\n",
       "  'RetryAttempts': 0},\n",
       " 'ContentType': 'application/json',\n",
       " 'InvokedProductionVariant': 'AllTraffic',\n",
       " 'Body': <botocore.response.StreamingBody at 0x7f308087a8d0>}"
      ]
     },
     "execution_count": 30,
     "metadata": {},
     "output_type": "execute_result"
    }
   ],
   "source": [
    "resposta"
   ]
  },
  {
   "cell_type": "code",
   "execution_count": 31,
   "metadata": {},
   "outputs": [
    {
     "data": {
      "text/plain": [
       "[0.0019974715542048216,\n",
       " 0.0002946134191006422,\n",
       " 0.00028446977376006544,\n",
       " 0.006339970976114273,\n",
       " 0.0011686066864058375,\n",
       " 0.0010097363265231252,\n",
       " 0.001309880055487156,\n",
       " 0.01974247395992279,\n",
       " 0.008100583218038082,\n",
       " 0.003078090725466609,\n",
       " 0.0006036317790858448,\n",
       " 0.00015049017383717,\n",
       " 0.003128022886812687,\n",
       " 0.0005472539342008531,\n",
       " 0.0009612985304556787,\n",
       " 5.4310909035848454e-05,\n",
       " 0.0017858338542282581,\n",
       " 0.00262169586494565,\n",
       " 0.00031083906651474535,\n",
       " 0.011439608410000801,\n",
       " 0.001308924751356244,\n",
       " 0.000738618487957865,\n",
       " 0.0006177397444844246,\n",
       " 0.0005302262725308537,\n",
       " 0.0004987695720046759,\n",
       " 0.004640379920601845,\n",
       " 0.00048101108404807746,\n",
       " 0.002151242457330227,\n",
       " 0.00022024611826054752,\n",
       " 0.0035133911296725273,\n",
       " 0.00027948542265221477,\n",
       " 0.00359237939119339,\n",
       " 0.0008572120568715036,\n",
       " 0.00336466240696609,\n",
       " 0.00015572071424685419,\n",
       " 0.0011712850537151098,\n",
       " 0.00023849365243222564,\n",
       " 0.0005042092525400221,\n",
       " 0.00279337540268898,\n",
       " 0.006062807980924845,\n",
       " 0.002882768865674734,\n",
       " 0.022409098222851753,\n",
       " 0.0026150161866098642,\n",
       " 0.0026749647222459316,\n",
       " 0.0005763930967077613,\n",
       " 0.0007491607102565467,\n",
       " 0.0018754444317892194,\n",
       " 0.0259366724640131,\n",
       " 0.0013629841851070523,\n",
       " 0.0013464377261698246,\n",
       " 0.008149622939527035,\n",
       " 0.0056426809169352055,\n",
       " 0.00860432256013155,\n",
       " 0.001190794282592833,\n",
       " 0.0009749038727022707,\n",
       " 0.005800430662930012,\n",
       " 0.0007198677631095052,\n",
       " 0.005342987831681967,\n",
       " 0.008954993449151516,\n",
       " 0.00396874500438571,\n",
       " 0.00044590252218768,\n",
       " 0.0007656951784156263,\n",
       " 0.0018522924510762095,\n",
       " 0.0018835561349987984,\n",
       " 0.0030480532441288233,\n",
       " 0.0076758055947721004,\n",
       " 0.003254194976761937,\n",
       " 0.00020631305233109742,\n",
       " 0.0023989735636860132,\n",
       " 0.0005976351094432175,\n",
       " 0.0018933993997052312,\n",
       " 0.0001369178353343159,\n",
       " 0.0012091378448531032,\n",
       " 0.0005387800629250705,\n",
       " 0.0056399572640657425,\n",
       " 0.0005615205154754221,\n",
       " 0.0012144544161856174,\n",
       " 0.008223430253565311,\n",
       " 0.0011608933564275503,\n",
       " 0.008760344237089157,\n",
       " 0.0003610112762544304,\n",
       " 0.0008504186989739537,\n",
       " 0.0007061829674057662,\n",
       " 0.002358549740165472,\n",
       " 0.008389950729906559,\n",
       " 0.0009369932231493294,\n",
       " 0.003734786994755268,\n",
       " 0.0024514293763786554,\n",
       " 0.002508120611310005,\n",
       " 0.0002797546039801091,\n",
       " 0.0010229027830064297,\n",
       " 0.0008015838684514165,\n",
       " 0.004127991385757923,\n",
       " 0.0007714622188359499,\n",
       " 0.0035163043066859245,\n",
       " 0.00032902488601394,\n",
       " 0.0016243485733866692,\n",
       " 0.004397870972752571,\n",
       " 0.002373121678829193,\n",
       " 0.000438075017882511,\n",
       " 0.00084381562191993,\n",
       " 0.00047586322762072086,\n",
       " 0.0017151248175650835,\n",
       " 0.00020867922285106033,\n",
       " 0.0014697141014039516,\n",
       " 0.004437537398189306,\n",
       " 0.0007326423074118793,\n",
       " 0.010223418474197388,\n",
       " 0.003616458736360073,\n",
       " 0.0019010120304301381,\n",
       " 0.005252600181847811,\n",
       " 0.0011826221598312259,\n",
       " 0.006886122282594442,\n",
       " 0.0007873113499954343,\n",
       " 0.01415746845304966,\n",
       " 0.0014707797672599554,\n",
       " 0.0013134200125932693,\n",
       " 0.0013389354571700096,\n",
       " 0.001712491735816002,\n",
       " 0.001205506268888712,\n",
       " 0.0050374954007565975,\n",
       " 0.0003780318074859679,\n",
       " 0.0010209030006080866,\n",
       " 0.00033714031451381743,\n",
       " 0.0018947740318253636,\n",
       " 0.0014914229977875948,\n",
       " 0.0005533004296012223,\n",
       " 0.0006593900034204125,\n",
       " 0.004670771770179272,\n",
       " 0.0003207600093446672,\n",
       " 0.01916596293449402,\n",
       " 0.000814344035461545,\n",
       " 0.0031153864692896605,\n",
       " 0.0029789009131491184,\n",
       " 0.0010868486715480685,\n",
       " 0.0026037744246423244,\n",
       " 0.12991592288017273,\n",
       " 0.0364459790289402,\n",
       " 0.003462218213826418,\n",
       " 0.0006672066519968212,\n",
       " 0.003026982070878148,\n",
       " 0.0034932608250528574,\n",
       " 0.0029292351100593805,\n",
       " 0.0014930317411199212,\n",
       " 8.653386612422764e-05,\n",
       " 0.00023454034817405045,\n",
       " 0.003245094558224082,\n",
       " 0.0008095018565654755,\n",
       " 0.003681425703689456,\n",
       " 0.001727171242237091,\n",
       " 0.013546070083975792,\n",
       " 0.0016350493533536792,\n",
       " 0.0011200333246961236,\n",
       " 0.000728550658095628,\n",
       " 0.003589284373447299,\n",
       " 0.002259594853967428,\n",
       " 0.0001545402774354443,\n",
       " 0.0029585862066596746,\n",
       " 0.00675426609814167,\n",
       " 0.0006048684590496123,\n",
       " 0.0016804819460958242,\n",
       " 0.0008858321816660464,\n",
       " 0.0009171598358079791,\n",
       " 0.0004936526529490948,\n",
       " 0.0006451773224398494,\n",
       " 0.010517949238419533,\n",
       " 0.012779711745679379,\n",
       " 0.00041428845725022256,\n",
       " 0.0011173241073265672,\n",
       " 0.03349311277270317,\n",
       " 0.001856928109191358,\n",
       " 0.00412725331261754,\n",
       " 0.0011068013263866305,\n",
       " 0.0007575840572826564,\n",
       " 0.00021476139954756945,\n",
       " 0.0036580117885023355,\n",
       " 0.004149117972701788,\n",
       " 7.300745346583426e-05,\n",
       " 0.0057639009319245815,\n",
       " 0.004941171035170555,\n",
       " 0.0010788403451442719,\n",
       " 0.00020777914323844016,\n",
       " 0.00041403903742320836,\n",
       " 0.0011629356304183602,\n",
       " 0.008431736379861832,\n",
       " 0.0010318421991541982,\n",
       " 0.0005304596852511168,\n",
       " 0.002141498029232025,\n",
       " 0.010021865367889404,\n",
       " 0.0006661359802819788,\n",
       " 0.00032717734575271606,\n",
       " 0.00034734970540739596,\n",
       " 0.000426990824053064,\n",
       " 0.003071274608373642,\n",
       " 0.000305007939459756,\n",
       " 0.002408555243164301,\n",
       " 0.0016311260405927896,\n",
       " 0.006208921782672405,\n",
       " 0.04022786766290665,\n",
       " 6.651402509305626e-05,\n",
       " 0.0024293563328683376,\n",
       " 0.00037582864752039313,\n",
       " 0.006325811613351107,\n",
       " 0.00012582939234562218,\n",
       " 0.0002689459652174264,\n",
       " 0.0024202275089919567,\n",
       " 0.00668796431273222,\n",
       " 0.0001964471593964845,\n",
       " 0.004661427810788155,\n",
       " 0.0021785784047096968,\n",
       " 0.01710447110235691,\n",
       " 0.00442226929590106,\n",
       " 0.013285472057759762,\n",
       " 0.001023489749059081,\n",
       " 0.0006144169601611793,\n",
       " 0.0014314792351797223,\n",
       " 0.0011837815400213003,\n",
       " 0.0032558587845414877,\n",
       " 0.0004280676366761327,\n",
       " 0.0006791567429900169,\n",
       " 0.001969860401004553,\n",
       " 0.0018484551692381501,\n",
       " 0.002086126711219549,\n",
       " 0.0001298038987442851,\n",
       " 0.00022949221602175385,\n",
       " 0.00028828575159423053,\n",
       " 0.0007147165015339851,\n",
       " 0.0005340142524801195,\n",
       " 0.000349718815414235,\n",
       " 0.0005213118274696171,\n",
       " 0.0016903509385883808,\n",
       " 0.0017396006733179092,\n",
       " 0.00801260769367218,\n",
       " 0.002866021590307355,\n",
       " 0.0024043249431997538,\n",
       " 0.0021549477241933346,\n",
       " 0.0006252258899621665,\n",
       " 0.00024728861171752214,\n",
       " 0.0026762867346405983,\n",
       " 0.0007502754451707006,\n",
       " 0.0003767870075535029,\n",
       " 0.003926959820091724,\n",
       " 0.0018805487779900432,\n",
       " 0.001199518796056509,\n",
       " 0.0009555762517265975,\n",
       " 0.0013839610619470477,\n",
       " 0.0005179398576729,\n",
       " 0.0016834879061207175,\n",
       " 0.0025166261475533247,\n",
       " 0.001362789305858314,\n",
       " 0.0009535644203424454,\n",
       " 0.00012203313235659152,\n",
       " 0.010223450139164925,\n",
       " 0.008947440423071384,\n",
       " 0.0015493982937186956,\n",
       " 0.001093972590751946,\n",
       " 0.054562922567129135]"
      ]
     },
     "execution_count": 31,
     "metadata": {},
     "output_type": "execute_result"
    }
   ],
   "source": [
    "resultado = resposta['Body'].read()\n",
    "resultado = json.loads(resultado)\n",
    "resultado"
   ]
  },
  {
   "cell_type": "code",
   "execution_count": 32,
   "metadata": {},
   "outputs": [
    {
     "data": {
      "text/plain": [
       "0.9999998895691533"
      ]
     },
     "execution_count": 32,
     "metadata": {},
     "output_type": "execute_result"
    }
   ],
   "source": [
    "sum(resultado)"
   ]
  },
  {
   "cell_type": "code",
   "execution_count": 33,
   "metadata": {},
   "outputs": [
    {
     "data": {
      "text/plain": [
       "257"
      ]
     },
     "execution_count": 33,
     "metadata": {},
     "output_type": "execute_result"
    }
   ],
   "source": [
    "len(resultado)"
   ]
  },
  {
   "cell_type": "code",
   "execution_count": 34,
   "metadata": {},
   "outputs": [
    {
     "data": {
      "text/plain": [
       "136"
      ]
     },
     "execution_count": 34,
     "metadata": {},
     "output_type": "execute_result"
    }
   ],
   "source": [
    "probabilidade_maior = np.argmax(resultado)\n",
    "probabilidade_maior"
   ]
  },
  {
   "cell_type": "code",
   "execution_count": 35,
   "metadata": {},
   "outputs": [],
   "source": [
    "categorias = [\"ak47\", \"american-flag\", \"backpack\", \"baseball-bat\", \"baseball-glove\",\n",
    "    \"basketball-hoop\", \"bat\", \"bathtub\", \"bear\", \"beer-mug\", \"billiards\", \"binoculars\",\n",
    "    \"birdbath\", \"blimp\", \"bonsai-101\", \"boom-box\", \"bowling-ball\", \"bowling-pin\",\n",
    "    \"boxing-glove\", \"brain-101\", \"breadmaker\", \"buddha-101\", \"bulldozer\", \"butterfly\",\n",
    "    \"cactus\", \"cake\", \"calculator\", \"camel\", \"cannon\", \"canoe\", \"car-tire\",\n",
    "    \"cartman\", \"cd\", \"centipede\", \"cereal-box\", \"chandelier-101\", \"chess-board\",\n",
    "    \"chimp\", \"chopsticks\", \"cockroach\", \"coffee-mug\", \"coffin\", \"coin\", \"comet\",\n",
    "    \"computer-keyboard\", \"computer-monitor\", \"computer-mouse\", \"conch\", \"cormorant\",\n",
    "    \"covered-wagon\", \"cowboy-hat\", \"crab-101\", \"desk-globe\", \"diamond-ring\",\n",
    "    \"dice\", \"dog\", \"dolphin-101\", \"doorknob\", \"drinking-straw\", \"duck\", \"dumb-bell\",\n",
    "    \"eiffel-tower\", \"electric-guitar-101\", \"elephant-101\", \"elk\", \"ewer-101\",\n",
    "    \"eyeglasses\", \"fern\", \"fighter-jet\", \"fire-extinguisher\", \"fire-hydrant\",\n",
    "    \"fire-truck\", \"fireworks\", \"flashlight\", \"floppy-disk\", \"football-helmet\",\n",
    "    \"french-horn\", \"fried-egg\", \"frisbee\", \"frog\", \"frying-pan\", \"galaxy\",\n",
    "    \"gas-pump\", \"giraffe\", \"goat\", \"golden-gate-bridge\", \"goldfish\", \"golf-ball\",\n",
    "    \"goose\", \"gorilla\", \"grand-piano-101\", \"grapes\", \"grasshopper\", \"guitar-pick\",\n",
    "    \"hamburger\", \"hammock\", \"harmonica\", \"harp\", \"harpsichord\", \"hawksbill-101\",\n",
    "    \"head-phones\", \"helicopter-101\", \"hibiscus\", \"homer-simpson\", \"horse\",\n",
    "    \"horseshoe-crab\", \"hot-air-balloon\", \"hot-dog\", \"hot-tub\", \"hourglass\",\n",
    "    \"house-fly\", \"human-skeleton\", \"hummingbird\", \"ibis-101\", \"ice-cream-cone\",\n",
    "    \"iguana\", \"ipod\", \"iris\", \"jesus-christ\", \"joy-stick\", \"kangaroo-101\",\n",
    "    \"kayak\", \"ketch-101\", \"killer-whale\", \"knife\", \"ladder\", \"laptop-101\", \"lathe\",\n",
    "    \"leopards-101\", \"license-plate\", \"lightbulb\", \"light-house\", \"lightning\",\n",
    "    \"llama-101\", \"mailbox\", \"mandolin\", \"mars\", \"mattress\", \"megaphone\", \"menorah-101\",\n",
    "    \"microscope\", \"microwave\", \"minaret\", \"minotaur\", \"motorbikes-101\", \"mountain-bike\",\n",
    "    \"mushroom\", \"mussels\", \"necktie\", \"octopus\", \"ostrich\", \"owl\", \"palm-pilot\",\n",
    "    \"palm-tree\", \"paperclip\", \"paper-shredder\", \"pci-card\", \"penguin\", \"people\",\n",
    "    \"pez-dispenser\", \"photocopier\", \"picnic-table\", \"playing-card\", \"porcupine\",\n",
    "    \"pram\", \"praying-mantis\", \"pyramid\", \"raccoon\", \"radio-telescope\", \"rainbow\",\n",
    "    \"refrigerator\", \"revolver-101\", \"rifle\", \"rotary-phone\", \"roulette-wheel\",\n",
    "    \"saddle\", \"saturn\", \"school-bus\", \"scorpion-101\", \"screwdriver\", \"segway\",\n",
    "    \"self-propelled-lawn-mower\", \"sextant\", \"sheet-music\", \"skateboard\", \"skunk\",\n",
    "    \"skyscraper\", \"smokestack\", \"snail\", \"snake\", \"sneaker\", \"snowmobile\", \"soccer-ball\",\n",
    "    \"socks\", \"soda-can\", \"spaghetti\", \"speed-boat\", \"spider\", \"spoon\", \"stained-glass\",\n",
    "    \"starfish-101\", \"steering-wheel\", \"stirrups\", \"sunflower-101\", \"superman\", \"sushi\",\n",
    "    \"swan\", \"swiss-army-knife\", \"sword\", \"syringe\", \"tambourine\", \"teapot\", \"teddy-bear\",\n",
    "    \"teepee\", \"telephone-box\", \"tennis-ball\", \"tennis-court\", \"tennis-racket\",\n",
    "    \"theodolite\", \"toaster\", \"tomato\", \"tombstone\", \"top-hat\", \"touring-bike\",\n",
    "    \"tower-pisa\", \"traffic-light\", \"treadmill\", \"triceratops\", \"tricycle\", \"trilobite-101\",\n",
    "    \"tripod\", \"t-shirt\", \"tuning-fork\", \"tweezer\", \"umbrella-101\", \"unicorn\", \"vcr\",\n",
    "    \"video-projector\", \"washing-machine\", \"watch-101\", \"waterfall\", \"watermelon\", \"welding-mask\",\n",
    "    \"wheelbarrow\", \"windmill\", \"wine-bottle\", \"xylophone\", \"yarmulke\", \"yo-yo\", \"zebra\",\n",
    "    \"airplanes-101\", \"car-side-101\", \"faces-easy-101\", \"greyhound\", \"tennis-shoes\",\n",
    "    \"toad\", \"clutter\"]"
   ]
  },
  {
   "cell_type": "code",
   "execution_count": 36,
   "metadata": {},
   "outputs": [
    {
     "data": {
      "text/plain": [
       "'mars'"
      ]
     },
     "execution_count": 36,
     "metadata": {},
     "output_type": "execute_result"
    }
   ],
   "source": [
    "rotulo = categorias[probabilidade_maior]\n",
    "rotulo"
   ]
  },
  {
   "cell_type": "code",
   "execution_count": 37,
   "metadata": {},
   "outputs": [],
   "source": [
    "rede_neural_classificador.delete_endpoint()"
   ]
  },
  {
   "cell_type": "code",
   "execution_count": null,
   "metadata": {},
   "outputs": [],
   "source": []
  }
 ],
 "metadata": {
  "instance_type": "ml.t3.medium",
  "kernelspec": {
   "display_name": "Python 3 (Data Science)",
   "language": "python",
   "name": "python3__SAGEMAKER_INTERNAL__arn:aws:sagemaker:us-east-1:081325390199:image/datascience-1.0"
  },
  "language_info": {
   "codemirror_mode": {
    "name": "ipython",
    "version": 3
   },
   "file_extension": ".py",
   "mimetype": "text/x-python",
   "name": "python",
   "nbconvert_exporter": "python",
   "pygments_lexer": "ipython3",
   "version": "3.7.10"
  }
 },
 "nbformat": 4,
 "nbformat_minor": 4
}
