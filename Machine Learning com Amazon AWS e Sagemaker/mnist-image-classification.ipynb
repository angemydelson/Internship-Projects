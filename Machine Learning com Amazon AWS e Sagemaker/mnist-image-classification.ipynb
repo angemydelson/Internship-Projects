{
 "cells": [
  {
   "cell_type": "markdown",
   "metadata": {},
   "source": [
    "# Base de dados MNIST\n",
    "\n",
    "- Imagens: https://github.com/myleott/mnist_png"
   ]
  },
  {
   "cell_type": "code",
   "execution_count": null,
   "metadata": {},
   "outputs": [],
   "source": [
    "import numpy as np\n",
    "import tarfile\n",
    "import urllib\n",
    "import mxnet as mx\n",
    "import json"
   ]
  },
  {
   "cell_type": "code",
   "execution_count": null,
   "metadata": {},
   "outputs": [],
   "source": [
    "base = tarfile.open('mnist_png.tar.gz')\n",
    "base.extractall('./')\n",
    "base.close()"
   ]
  },
  {
   "cell_type": "code",
   "execution_count": 4,
   "metadata": {},
   "outputs": [
    {
     "data": {
      "text/plain": [
       "('im2rec.py', <http.client.HTTPMessage at 0x7f0d70115210>)"
      ]
     },
     "execution_count": 4,
     "metadata": {},
     "output_type": "execute_result"
    }
   ],
   "source": [
    "# https://awstip.com/make-recordio-files-for-training-on-amazon-sagemaker-a5fe2e6c22eb\n",
    "script_url = \"https://raw.githubusercontent.com/apache/incubator-mxnet/master/tools/im2rec.py\"\n",
    "urllib.request.urlretrieve(script_url, 'im2rec.py')"
   ]
  },
  {
   "cell_type": "code",
   "execution_count": 3,
   "metadata": {},
   "outputs": [
    {
     "name": "stdout",
     "output_type": "stream",
     "text": [
      "0 0\n",
      "0/.ipynb_checkpoints 1\n",
      "1 2\n",
      "2 3\n",
      "3 4\n",
      "4 5\n",
      "5 6\n",
      "6 7\n",
      "7 8\n",
      "8 9\n",
      "9 10\n"
     ]
    }
   ],
   "source": [
    "# lst -> rec\n",
    "!python im2rec.py --list --recursive train_data_mnist mnist_png/training"
   ]
  },
  {
   "cell_type": "code",
   "execution_count": 4,
   "metadata": {},
   "outputs": [
    {
     "name": "stdout",
     "output_type": "stream",
     "text": [
      "0 0\n",
      "1 1\n",
      "1/.ipynb_checkpoints 2\n",
      "2 3\n",
      "3 4\n",
      "4 5\n",
      "5 6\n",
      "6 7\n",
      "7 8\n",
      "8 9\n",
      "9 10\n"
     ]
    }
   ],
   "source": [
    "!python im2rec.py --list --recursive test_data_mnist mnist_png/testing"
   ]
  },
  {
   "cell_type": "code",
   "execution_count": 5,
   "metadata": {},
   "outputs": [
    {
     "name": "stdout",
     "output_type": "stream",
     "text": [
      "Creating .rec file from /root/train_data_mnist.lst in /root\n",
      "time: 0.0287168025970459  count: 0\n",
      "time: 1.3190088272094727  count: 1000\n",
      "time: 1.2087807655334473  count: 2000\n",
      "time: 1.2867724895477295  count: 3000\n",
      "time: 1.1990466117858887  count: 4000\n",
      "time: 1.5538105964660645  count: 5000\n",
      "time: 1.200986623764038  count: 6000\n",
      "time: 1.220735788345337  count: 7000\n",
      "time: 1.2321898937225342  count: 8000\n",
      "time: 1.2060832977294922  count: 9000\n",
      "time: 1.1984918117523193  count: 10000\n",
      "time: 1.2423968315124512  count: 11000\n",
      "time: 1.221233606338501  count: 12000\n",
      "time: 1.1989657878875732  count: 13000\n",
      "time: 1.1868062019348145  count: 14000\n",
      "time: 1.2001667022705078  count: 15000\n",
      "time: 1.217623233795166  count: 16000\n",
      "time: 1.2024447917938232  count: 17000\n",
      "time: 1.1769509315490723  count: 18000\n",
      "time: 1.1879234313964844  count: 19000\n",
      "time: 1.1901576519012451  count: 20000\n",
      "time: 1.1850402355194092  count: 21000\n",
      "time: 1.1825652122497559  count: 22000\n",
      "time: 1.1819119453430176  count: 23000\n",
      "time: 1.1945388317108154  count: 24000\n",
      "time: 1.1956698894500732  count: 25000\n",
      "time: 1.2209529876708984  count: 26000\n",
      "time: 1.2072525024414062  count: 27000\n",
      "time: 1.265916347503662  count: 28000\n",
      "time: 1.203815221786499  count: 29000\n",
      "time: 1.1763012409210205  count: 30000\n",
      "time: 1.1864957809448242  count: 31000\n",
      "time: 1.1858248710632324  count: 32000\n",
      "time: 1.211268663406372  count: 33000\n",
      "time: 1.2096309661865234  count: 34000\n",
      "time: 1.2281224727630615  count: 35000\n",
      "time: 1.1924207210540771  count: 36000\n",
      "time: 1.1976194381713867  count: 37000\n",
      "time: 1.19694185256958  count: 38000\n",
      "time: 1.1823878288269043  count: 39000\n",
      "time: 1.210601806640625  count: 40000\n",
      "time: 1.2257328033447266  count: 41000\n",
      "time: 1.198775053024292  count: 42000\n",
      "time: 1.1914150714874268  count: 43000\n",
      "time: 1.2139744758605957  count: 44000\n",
      "time: 1.2240104675292969  count: 45000\n",
      "time: 1.1913142204284668  count: 46000\n",
      "time: 1.2075376510620117  count: 47000\n",
      "time: 1.1896038055419922  count: 48000\n",
      "time: 1.535536289215088  count: 49000\n",
      "time: 1.189192533493042  count: 50000\n",
      "time: 1.1864120960235596  count: 51000\n",
      "time: 1.187342643737793  count: 52000\n",
      "time: 1.4335520267486572  count: 53000\n",
      "time: 1.1874423027038574  count: 54000\n",
      "time: 1.1904256343841553  count: 55000\n",
      "time: 1.1925663948059082  count: 56000\n",
      "time: 1.2426817417144775  count: 57000\n",
      "time: 1.2149293422698975  count: 58000\n",
      "time: 1.1630890369415283  count: 59000\n",
      "time: 1.2255516052246094  count: 60000\n"
     ]
    }
   ],
   "source": [
    "!python im2rec.py --num-thread 2 train_data_mnist mnist_png/training"
   ]
  },
  {
   "cell_type": "code",
   "execution_count": 6,
   "metadata": {},
   "outputs": [
    {
     "name": "stdout",
     "output_type": "stream",
     "text": [
      "Creating .rec file from /root/test_data_mnist.lst in /root\n",
      "time: 0.016930341720581055  count: 0\n",
      "time: 1.858625888824463  count: 1000\n",
      "time: 1.9015929698944092  count: 2000\n",
      "time: 1.8985190391540527  count: 3000\n",
      "time: 2.0030171871185303  count: 4000\n",
      "time: 1.888801097869873  count: 5000\n",
      "time: 1.8992176055908203  count: 6000\n",
      "time: 2.013458251953125  count: 7000\n",
      "time: 1.9226741790771484  count: 8000\n",
      "time: 1.9774811267852783  count: 9000\n",
      "time: 1.940140962600708  count: 10000\n"
     ]
    }
   ],
   "source": [
    "!python im2rec.py --num-thread 2 test_data_mnist mnist_png/testing"
   ]
  },
  {
   "cell_type": "markdown",
   "metadata": {},
   "source": [
    "# Configurações do SageMaker"
   ]
  },
  {
   "cell_type": "code",
   "execution_count": 26,
   "metadata": {},
   "outputs": [],
   "source": [
    "import boto3\n",
    "import sagemaker\n",
    "from sagemaker import get_execution_role"
   ]
  },
  {
   "cell_type": "code",
   "execution_count": 27,
   "metadata": {},
   "outputs": [
    {
     "name": "stdout",
     "output_type": "stream",
     "text": [
      "Localização da base de treinamento:  s3://redeneural/mnist/train\n",
      "Localização da base de teste:  s3://redeneural/mnist/test\n",
      "Localização do modelo:  s3://redeneural/mnist/output\n"
     ]
    }
   ],
   "source": [
    "bucket = 'redeneural'\n",
    "subpasta_dataset = 'mnist'\n",
    "role = get_execution_role()\n",
    "s3_treinamento = 's3://{}/{}/train'.format(bucket, subpasta_dataset)\n",
    "s3_teste = 's3://{}/{}/test'.format(bucket, subpasta_dataset)\n",
    "output_location = 's3://{}/{}/output'.format(bucket, subpasta_dataset)\n",
    "print('Localização da base de treinamento: ', s3_treinamento)\n",
    "print('Localização da base de teste: ', s3_teste)\n",
    "print('Localização do modelo: ', output_location)"
   ]
  },
  {
   "cell_type": "markdown",
   "metadata": {},
   "source": [
    "# Definição e treinamento da rede neural"
   ]
  },
  {
   "cell_type": "code",
   "execution_count": 28,
   "metadata": {},
   "outputs": [],
   "source": [
    "# https://docs.aws.amazon.com/sagemaker/latest/dg/ecr-sa-east-1.html\n",
    "container = sagemaker.image_uris.retrieve(framework = 'image-classification',\n",
    "                                          region = boto3.Session().region_name)"
   ]
  },
  {
   "cell_type": "code",
   "execution_count": 29,
   "metadata": {},
   "outputs": [],
   "source": [
    "# https://sagemaker.readthedocs.io/en/stable/api/training/estimators.html\n",
    "rede_neural = sagemaker.estimator.Estimator(image_uri = container,\n",
    "                                            role = role,\n",
    "                                            instance_count = 1,\n",
    "                                            instance_type = 'ml.p3.2xlarge',\n",
    "                                            input_mode = 'File',\n",
    "                                            output_path = output_location)"
   ]
  },
  {
   "cell_type": "code",
   "execution_count": 30,
   "metadata": {},
   "outputs": [],
   "source": [
    "# https://docs.aws.amazon.com/sagemaker/latest/dg/IC-Hyperparameter.html\n",
    "rede_neural.set_hyperparameters(num_layers = 110,\n",
    "                                image_shape = '1,28,28',\n",
    "                                num_classes = 10,\n",
    "                                num_training_samples = 50000,\n",
    "                                mini_batch_size = 128,\n",
    "                                epochs = 10,\n",
    "                                learning_rate = 0.001)"
   ]
  },
  {
   "cell_type": "code",
   "execution_count": 31,
   "metadata": {},
   "outputs": [],
   "source": [
    "train_data = sagemaker.inputs.TrainingInput(s3_treinamento,\n",
    "                                            content_type = 'application/x-recordio',\n",
    "                                            s3_data_type = 'S3Prefix')\n",
    "test_data = sagemaker.inputs.TrainingInput(s3_teste,\n",
    "                                            content_type = 'application/x-recordio',\n",
    "                                            s3_data_type = 'S3Prefix')"
   ]
  },
  {
   "cell_type": "code",
   "execution_count": 32,
   "metadata": {},
   "outputs": [
    {
     "name": "stdout",
     "output_type": "stream",
     "text": [
      "2022-06-02 20:04:39 Starting - Starting the training job...ProfilerReport-1654200279: InProgress\n",
      "...\n",
      "2022-06-02 20:05:34 Starting - Preparing the instances for training.........\n",
      "2022-06-02 20:06:56 Downloading - Downloading input data...\n",
      "2022-06-02 20:07:31 Training - Downloading the training image...........\u001b[34mDocker entrypoint called with argument(s): train\u001b[0m\n",
      "\u001b[34m[06/02/2022 20:09:20 INFO 140535754454848] Reading default configuration from /opt/amazon/lib/python3.7/site-packages/image_classification/default-input.json: {'use_pretrained_model': 0, 'num_layers': 152, 'epochs': 30, 'learning_rate': 0.1, 'lr_scheduler_factor': 0.1, 'optimizer': 'sgd', 'momentum': 0, 'weight_decay': 0.0001, 'beta_1': 0.9, 'beta_2': 0.999, 'eps': 1e-08, 'gamma': 0.9, 'mini_batch_size': 32, 'image_shape': '3,224,224', 'precision_dtype': 'float32'}\u001b[0m\n",
      "\u001b[34m[06/02/2022 20:09:20 INFO 140535754454848] Merging with provided configuration from /opt/ml/input/config/hyperparameters.json: {'epochs': '10', 'image_shape': '1,28,28', 'learning_rate': '0.001', 'mini_batch_size': '128', 'num_classes': '10', 'num_layers': '110', 'num_training_samples': '50000'}\u001b[0m\n",
      "\u001b[34m[06/02/2022 20:09:20 INFO 140535754454848] Final configuration: {'use_pretrained_model': 0, 'num_layers': '110', 'epochs': '10', 'learning_rate': '0.001', 'lr_scheduler_factor': 0.1, 'optimizer': 'sgd', 'momentum': 0, 'weight_decay': 0.0001, 'beta_1': 0.9, 'beta_2': 0.999, 'eps': 1e-08, 'gamma': 0.9, 'mini_batch_size': '128', 'image_shape': '1,28,28', 'precision_dtype': 'float32', 'num_classes': '10', 'num_training_samples': '50000'}\u001b[0m\n",
      "\u001b[34m[06/02/2022 20:09:20 INFO 140535754454848] Searching for .rec files in /opt/ml/input/data/train.\u001b[0m\n",
      "\u001b[34m[06/02/2022 20:09:20 INFO 140535754454848] Searching for .rec files in /opt/ml/input/data/validation.\u001b[0m\n",
      "\u001b[34m[06/02/2022 20:09:20 INFO 140535754454848] use_pretrained_model: 0\u001b[0m\n",
      "\u001b[34m[06/02/2022 20:09:20 INFO 140535754454848] multi_label: 0\u001b[0m\n",
      "\u001b[34m[06/02/2022 20:09:20 INFO 140535754454848] Performing random weight initialization\u001b[0m\n",
      "\u001b[34m[06/02/2022 20:09:20 INFO 140535754454848] ---- Parameters ----\u001b[0m\n",
      "\u001b[34m[06/02/2022 20:09:20 INFO 140535754454848] num_layers: 110\u001b[0m\n",
      "\u001b[34m[06/02/2022 20:09:20 INFO 140535754454848] data type: <class 'numpy.float32'>\u001b[0m\n",
      "\u001b[34m[06/02/2022 20:09:20 INFO 140535754454848] epochs: 10\u001b[0m\n",
      "\u001b[34m[06/02/2022 20:09:20 INFO 140535754454848] optimizer: sgd\u001b[0m\n",
      "\u001b[34m[06/02/2022 20:09:20 INFO 140535754454848] momentum: 0.9\u001b[0m\n",
      "\u001b[34m[06/02/2022 20:09:20 INFO 140535754454848] weight_decay: 0.0001\u001b[0m\n",
      "\u001b[34m[06/02/2022 20:09:20 INFO 140535754454848] learning_rate: 0.001\u001b[0m\n",
      "\u001b[34m[06/02/2022 20:09:20 INFO 140535754454848] num_training_samples: 50000\u001b[0m\n",
      "\u001b[34m[06/02/2022 20:09:20 INFO 140535754454848] mini_batch_size: 128\u001b[0m\n",
      "\u001b[34m[06/02/2022 20:09:20 INFO 140535754454848] image_shape: 1,28,28\u001b[0m\n",
      "\u001b[34m[06/02/2022 20:09:20 INFO 140535754454848] num_classes: 10\u001b[0m\n",
      "\u001b[34m[06/02/2022 20:09:20 INFO 140535754454848] augmentation_type: None\u001b[0m\n",
      "\u001b[34m[06/02/2022 20:09:20 INFO 140535754454848] kv_store: device\u001b[0m\n",
      "\u001b[34m[06/02/2022 20:09:20 INFO 140535754454848] checkpoint_frequency not set, will store the best model\u001b[0m\n",
      "\u001b[34m[06/02/2022 20:09:20 INFO 140535754454848] --------------------\u001b[0m\n",
      "\u001b[34m[06/02/2022 20:09:20 INFO 140535754454848] Setting number of threads: 7\u001b[0m\n",
      "\n",
      "2022-06-02 20:09:31 Training - Training image download completed. Training in progress.\u001b[34m[20:09:29] /opt/brazil-pkg-cache/packages/AIAlgorithmsMXNet/AIAlgorithmsMXNet-1.3.x_ecl_Cuda_10.1.x.11282.0/AL2_x86_64/generic-flavor/src/src/operator/nn/./cudnn/./cudnn_algoreg-inl.h:97: Running performance tests to find the best convolution algorithm, this can take a while... (setting env variable MXNET_CUDNN_AUTOTUNE_DEFAULT to 0 to disable)\u001b[0m\n",
      "\u001b[34m[06/02/2022 20:09:30 INFO 140535754454848] Epoch[0] Batch [20]#011Speed: 1531.818 samples/sec#011accuracy=0.100074\u001b[0m\n",
      "\u001b[34m[06/02/2022 20:09:31 INFO 140535754454848] Epoch[0] Batch [40]#011Speed: 1701.954 samples/sec#011accuracy=0.105755\u001b[0m\n",
      "\u001b[34m[06/02/2022 20:09:33 INFO 140535754454848] Epoch[0] Batch [60]#011Speed: 1763.481 samples/sec#011accuracy=0.115266\u001b[0m\n",
      "\u001b[34m[06/02/2022 20:09:34 INFO 140535754454848] Epoch[0] Batch [80]#011Speed: 1795.529 samples/sec#011accuracy=0.124904\u001b[0m\n",
      "\u001b[34m[06/02/2022 20:09:36 INFO 140535754454848] Epoch[0] Batch [100]#011Speed: 1810.542 samples/sec#011accuracy=0.149598\u001b[0m\n",
      "\u001b[34m[06/02/2022 20:09:37 INFO 140535754454848] Epoch[0] Batch [120]#011Speed: 1822.138 samples/sec#011accuracy=0.170519\u001b[0m\n",
      "\u001b[34m[06/02/2022 20:09:38 INFO 140535754454848] Epoch[0] Batch [140]#011Speed: 1833.179 samples/sec#011accuracy=0.184896\u001b[0m\n",
      "\u001b[34m[06/02/2022 20:09:40 INFO 140535754454848] Epoch[0] Batch [160]#011Speed: 1838.453 samples/sec#011accuracy=0.197642\u001b[0m\n",
      "\u001b[34m[06/02/2022 20:09:41 INFO 140535754454848] Epoch[0] Batch [180]#011Speed: 1844.187 samples/sec#011accuracy=0.209384\u001b[0m\n",
      "\u001b[34m[06/02/2022 20:09:42 INFO 140535754454848] Epoch[0] Batch [200]#011Speed: 1847.443 samples/sec#011accuracy=0.224308\u001b[0m\n",
      "\u001b[34m[06/02/2022 20:09:44 INFO 140535754454848] Epoch[0] Batch [220]#011Speed: 1851.588 samples/sec#011accuracy=0.238476\u001b[0m\n",
      "\u001b[34m[06/02/2022 20:09:45 INFO 140535754454848] Epoch[0] Batch [240]#011Speed: 1856.124 samples/sec#011accuracy=0.253987\u001b[0m\n",
      "\u001b[34m[06/02/2022 20:09:46 INFO 140535754454848] Epoch[0] Batch [260]#011Speed: 1859.049 samples/sec#011accuracy=0.270744\u001b[0m\n",
      "\u001b[34m[06/02/2022 20:09:48 INFO 140535754454848] Epoch[0] Batch [280]#011Speed: 1861.750 samples/sec#011accuracy=0.286143\u001b[0m\n",
      "\u001b[34m[06/02/2022 20:09:49 INFO 140535754454848] Epoch[0] Batch [300]#011Speed: 1864.865 samples/sec#011accuracy=0.303000\u001b[0m\n",
      "\u001b[34m[06/02/2022 20:09:50 INFO 140535754454848] Epoch[0] Batch [320]#011Speed: 1865.576 samples/sec#011accuracy=0.318852\u001b[0m\n",
      "\u001b[34m[06/02/2022 20:09:52 INFO 140535754454848] Epoch[0] Batch [340]#011Speed: 1866.244 samples/sec#011accuracy=0.335938\u001b[0m\n",
      "\u001b[34m[06/02/2022 20:09:53 INFO 140535754454848] Epoch[0] Batch [360]#011Speed: 1868.910 samples/sec#011accuracy=0.351865\u001b[0m\n",
      "\u001b[34m[06/02/2022 20:09:54 INFO 140535754454848] Epoch[0] Batch [380]#011Speed: 1870.037 samples/sec#011accuracy=0.366654\u001b[0m\n",
      "\u001b[34m[06/02/2022 20:09:55 INFO 140535754454848] Epoch[0] Train-accuracy=0.373658\u001b[0m\n",
      "\u001b[34m[06/02/2022 20:09:55 INFO 140535754454848] Epoch[0] Time cost=26.624\u001b[0m\n",
      "\u001b[34m[06/02/2022 20:09:57 INFO 140535754454848] Epoch[0] Validation-accuracy=0.650514\u001b[0m\n",
      "\u001b[34m[06/02/2022 20:09:57 INFO 140535754454848] Storing the best model with validation accuracy: 0.650514\u001b[0m\n",
      "\u001b[34m[06/02/2022 20:09:57 INFO 140535754454848] Saved checkpoint to \"/opt/ml/model/image-classification-0001.params\"\u001b[0m\n",
      "\u001b[34m[06/02/2022 20:09:59 INFO 140535754454848] Epoch[1] Batch [20]#011Speed: 1751.112 samples/sec#011accuracy=0.680432\u001b[0m\n",
      "\u001b[34m[06/02/2022 20:10:00 INFO 140535754454848] Epoch[1] Batch [40]#011Speed: 1822.215 samples/sec#011accuracy=0.684832\u001b[0m\n",
      "\u001b[34m[06/02/2022 20:10:01 INFO 140535754454848] Epoch[1] Batch [60]#011Speed: 1832.080 samples/sec#011accuracy=0.696081\u001b[0m\n",
      "\u001b[34m[06/02/2022 20:10:03 INFO 140535754454848] Epoch[1] Batch [80]#011Speed: 1832.891 samples/sec#011accuracy=0.703704\u001b[0m\n",
      "\u001b[34m[06/02/2022 20:10:04 INFO 140535754454848] Epoch[1] Batch [100]#011Speed: 1832.757 samples/sec#011accuracy=0.708385\u001b[0m\n",
      "\u001b[34m[06/02/2022 20:10:06 INFO 140535754454848] Epoch[1] Batch [120]#011Speed: 1828.667 samples/sec#011accuracy=0.712293\u001b[0m\n",
      "\u001b[34m[06/02/2022 20:10:07 INFO 140535754454848] Epoch[1] Batch [140]#011Speed: 1834.042 samples/sec#011accuracy=0.715204\u001b[0m\n",
      "\u001b[34m[06/02/2022 20:10:08 INFO 140535754454848] Epoch[1] Batch [160]#011Speed: 1840.916 samples/sec#011accuracy=0.718313\u001b[0m\n",
      "\u001b[34m[06/02/2022 20:10:10 INFO 140535754454848] Epoch[1] Batch [180]#011Speed: 1843.683 samples/sec#011accuracy=0.723498\u001b[0m\n",
      "\u001b[34m[06/02/2022 20:10:11 INFO 140535754454848] Epoch[1] Batch [200]#011Speed: 1849.170 samples/sec#011accuracy=0.728661\u001b[0m\n",
      "\u001b[34m[06/02/2022 20:10:12 INFO 140535754454848] Epoch[1] Batch [220]#011Speed: 1854.128 samples/sec#011accuracy=0.734304\u001b[0m\n",
      "\u001b[34m[06/02/2022 20:10:14 INFO 140535754454848] Epoch[1] Batch [240]#011Speed: 1856.062 samples/sec#011accuracy=0.740502\u001b[0m\n",
      "\u001b[34m[06/02/2022 20:10:15 INFO 140535754454848] Epoch[1] Batch [260]#011Speed: 1858.732 samples/sec#011accuracy=0.745660\u001b[0m\n",
      "\u001b[34m[06/02/2022 20:10:17 INFO 140535754454848] Epoch[1] Batch [280]#011Speed: 1861.166 samples/sec#011accuracy=0.750528\u001b[0m\n",
      "\u001b[34m[06/02/2022 20:10:18 INFO 140535754454848] Epoch[1] Batch [300]#011Speed: 1864.505 samples/sec#011accuracy=0.754672\u001b[0m\n",
      "\u001b[34m[06/02/2022 20:10:19 INFO 140535754454848] Epoch[1] Batch [320]#011Speed: 1867.042 samples/sec#011accuracy=0.758835\u001b[0m\n",
      "\u001b[34m[06/02/2022 20:10:21 INFO 140535754454848] Epoch[1] Batch [340]#011Speed: 1869.158 samples/sec#011accuracy=0.763357\u001b[0m\n",
      "\u001b[34m[06/02/2022 20:10:22 INFO 140535754454848] Epoch[1] Batch [360]#011Speed: 1871.689 samples/sec#011accuracy=0.768179\u001b[0m\n",
      "\u001b[34m[06/02/2022 20:10:23 INFO 140535754454848] Epoch[1] Batch [380]#011Speed: 1873.580 samples/sec#011accuracy=0.772863\u001b[0m\n",
      "\u001b[34m[06/02/2022 20:10:24 INFO 140535754454848] Epoch[1] Train-accuracy=0.775080\u001b[0m\n",
      "\u001b[34m[06/02/2022 20:10:24 INFO 140535754454848] Epoch[1] Time cost=26.563\u001b[0m\n",
      "\u001b[34m[06/02/2022 20:10:25 INFO 140535754454848] Epoch[1] Validation-accuracy=0.872496\u001b[0m\n",
      "\u001b[34m[06/02/2022 20:10:26 INFO 140535754454848] Storing the best model with validation accuracy: 0.872496\u001b[0m\n",
      "\u001b[34m[06/02/2022 20:10:26 INFO 140535754454848] Saved checkpoint to \"/opt/ml/model/image-classification-0002.params\"\u001b[0m\n",
      "\u001b[34m[06/02/2022 20:10:27 INFO 140535754454848] Epoch[2] Batch [20]#011Speed: 1778.393 samples/sec#011accuracy=0.869420\u001b[0m\n",
      "\u001b[34m[06/02/2022 20:10:29 INFO 140535754454848] Epoch[2] Batch [40]#011Speed: 1822.622 samples/sec#011accuracy=0.876905\u001b[0m\n",
      "\u001b[34m[06/02/2022 20:10:30 INFO 140535754454848] Epoch[2] Batch [60]#011Speed: 1837.064 samples/sec#011accuracy=0.876409\u001b[0m\n",
      "\u001b[34m[06/02/2022 20:10:31 INFO 140535754454848] Epoch[2] Batch [80]#011Speed: 1852.920 samples/sec#011accuracy=0.877315\u001b[0m\n",
      "\u001b[34m[06/02/2022 20:10:33 INFO 140535754454848] Epoch[2] Batch [100]#011Speed: 1859.604 samples/sec#011accuracy=0.877785\u001b[0m\n",
      "\u001b[34m[06/02/2022 20:10:34 INFO 140535754454848] Epoch[2] Batch [120]#011Speed: 1867.686 samples/sec#011accuracy=0.880488\u001b[0m\n",
      "\u001b[34m[06/02/2022 20:10:35 INFO 140535754454848] Epoch[2] Batch [140]#011Speed: 1870.549 samples/sec#011accuracy=0.882535\u001b[0m\n",
      "\u001b[34m[06/02/2022 20:10:37 INFO 140535754454848] Epoch[2] Batch [160]#011Speed: 1875.423 samples/sec#011accuracy=0.885336\u001b[0m\n",
      "\u001b[34m[06/02/2022 20:10:38 INFO 140535754454848] Epoch[2] Batch [180]#011Speed: 1877.002 samples/sec#011accuracy=0.886913\u001b[0m\n",
      "\u001b[34m[06/02/2022 20:10:39 INFO 140535754454848] Epoch[2] Batch [200]#011Speed: 1877.668 samples/sec#011accuracy=0.889342\u001b[0m\n",
      "\u001b[34m[06/02/2022 20:10:41 INFO 140535754454848] Epoch[2] Batch [220]#011Speed: 1877.720 samples/sec#011accuracy=0.891650\u001b[0m\n",
      "\u001b[34m[06/02/2022 20:10:42 INFO 140535754454848] Epoch[2] Batch [240]#011Speed: 1877.505 samples/sec#011accuracy=0.894158\u001b[0m\n",
      "\u001b[34m[06/02/2022 20:10:44 INFO 140535754454848] Epoch[2] Batch [260]#011Speed: 1878.300 samples/sec#011accuracy=0.896462\u001b[0m\n",
      "\u001b[34m[06/02/2022 20:10:45 INFO 140535754454848] Epoch[2] Batch [280]#011Speed: 1879.268 samples/sec#011accuracy=0.898827\u001b[0m\n",
      "\u001b[34m[06/02/2022 20:10:46 INFO 140535754454848] Epoch[2] Batch [300]#011Speed: 1881.441 samples/sec#011accuracy=0.900929\u001b[0m\n",
      "\u001b[34m[06/02/2022 20:10:48 INFO 140535754454848] Epoch[2] Batch [320]#011Speed: 1883.316 samples/sec#011accuracy=0.902380\u001b[0m\n",
      "\u001b[34m[06/02/2022 20:10:49 INFO 140535754454848] Epoch[2] Batch [340]#011Speed: 1884.509 samples/sec#011accuracy=0.904005\u001b[0m\n",
      "\u001b[34m[06/02/2022 20:10:50 INFO 140535754454848] Epoch[2] Batch [360]#011Speed: 1885.473 samples/sec#011accuracy=0.905363\u001b[0m\n",
      "\u001b[34m[06/02/2022 20:10:52 INFO 140535754454848] Epoch[2] Batch [380]#011Speed: 1884.831 samples/sec#011accuracy=0.906988\u001b[0m\n",
      "\u001b[34m[06/02/2022 20:10:52 INFO 140535754454848] Epoch[2] Train-accuracy=0.907792\u001b[0m\n",
      "\u001b[34m[06/02/2022 20:10:52 INFO 140535754454848] Epoch[2] Time cost=26.419\u001b[0m\n",
      "\u001b[34m[06/02/2022 20:10:54 INFO 140535754454848] Epoch[2] Validation-accuracy=0.947616\u001b[0m\n",
      "\u001b[34m[06/02/2022 20:10:54 INFO 140535754454848] Storing the best model with validation accuracy: 0.947616\u001b[0m\n",
      "\u001b[34m[06/02/2022 20:10:54 INFO 140535754454848] Saved checkpoint to \"/opt/ml/model/image-classification-0003.params\"\u001b[0m\n",
      "\u001b[34m[06/02/2022 20:10:56 INFO 140535754454848] Epoch[3] Batch [20]#011Speed: 1798.938 samples/sec#011accuracy=0.944568\u001b[0m\n",
      "\u001b[34m[06/02/2022 20:10:57 INFO 140535754454848] Epoch[3] Batch [40]#011Speed: 1849.908 samples/sec#011accuracy=0.942264\u001b[0m\n",
      "\u001b[34m[06/02/2022 20:10:58 INFO 140535754454848] Epoch[3] Batch [60]#011Speed: 1859.059 samples/sec#011accuracy=0.942623\u001b[0m\n",
      "\u001b[34m[06/02/2022 20:11:00 INFO 140535754454848] Epoch[3] Batch [80]#011Speed: 1864.572 samples/sec#011accuracy=0.944059\u001b[0m\n",
      "\u001b[34m[06/02/2022 20:11:01 INFO 140535754454848] Epoch[3] Batch [100]#011Speed: 1865.915 samples/sec#011accuracy=0.944616\u001b[0m\n",
      "\u001b[34m[06/02/2022 20:11:03 INFO 140535754454848] Epoch[3] Batch [120]#011Speed: 1865.694 samples/sec#011accuracy=0.943957\u001b[0m\n",
      "\u001b[34m[06/02/2022 20:11:04 INFO 140535754454848] Epoch[3] Batch [140]#011Speed: 1860.817 samples/sec#011accuracy=0.944758\u001b[0m\n",
      "\u001b[34m[06/02/2022 20:11:05 INFO 140535754454848] Epoch[3] Batch [160]#011Speed: 1853.262 samples/sec#011accuracy=0.945361\u001b[0m\n",
      "\u001b[34m[06/02/2022 20:11:07 INFO 140535754454848] Epoch[3] Batch [180]#011Speed: 1856.266 samples/sec#011accuracy=0.945874\u001b[0m\n",
      "\u001b[34m[06/02/2022 20:11:08 INFO 140535754454848] Epoch[3] Batch [200]#011Speed: 1858.598 samples/sec#011accuracy=0.946634\u001b[0m\n",
      "\u001b[34m[06/02/2022 20:11:09 INFO 140535754454848] Epoch[3] Batch [220]#011Speed: 1862.614 samples/sec#011accuracy=0.947434\u001b[0m\n",
      "\u001b[34m[06/02/2022 20:11:11 INFO 140535754454848] Epoch[3] Batch [240]#011Speed: 1865.304 samples/sec#011accuracy=0.948392\u001b[0m\n",
      "\u001b[34m[06/02/2022 20:11:12 INFO 140535754454848] Epoch[3] Batch [260]#011Speed: 1868.671 samples/sec#011accuracy=0.949353\u001b[0m\n",
      "\u001b[34m[06/02/2022 20:11:13 INFO 140535754454848] Epoch[3] Batch [280]#011Speed: 1870.463 samples/sec#011accuracy=0.949483\u001b[0m\n",
      "\u001b[34m[06/02/2022 20:11:15 INFO 140535754454848] Epoch[3] Batch [300]#011Speed: 1872.642 samples/sec#011accuracy=0.949699\u001b[0m\n",
      "\u001b[34m[06/02/2022 20:11:16 INFO 140535754454848] Epoch[3] Batch [320]#011Speed: 1873.804 samples/sec#011accuracy=0.950083\u001b[0m\n",
      "\u001b[34m[06/02/2022 20:11:17 INFO 140535754454848] Epoch[3] Batch [340]#011Speed: 1874.168 samples/sec#011accuracy=0.950513\u001b[0m\n",
      "\u001b[34m[06/02/2022 20:11:19 INFO 140535754454848] Epoch[3] Batch [360]#011Speed: 1875.251 samples/sec#011accuracy=0.950788\u001b[0m\n",
      "\u001b[34m[06/02/2022 20:11:20 INFO 140535754454848] Epoch[3] Batch [380]#011Speed: 1876.165 samples/sec#011accuracy=0.951300\u001b[0m\n",
      "\u001b[34m[06/02/2022 20:11:21 INFO 140535754454848] Epoch[3] Train-accuracy=0.951462\u001b[0m\n",
      "\u001b[34m[06/02/2022 20:11:21 INFO 140535754454848] Epoch[3] Time cost=26.526\u001b[0m\n",
      "\u001b[34m[06/02/2022 20:11:22 INFO 140535754454848] Epoch[3] Validation-accuracy=0.968149\u001b[0m\n",
      "\u001b[34m[06/02/2022 20:11:23 INFO 140535754454848] Storing the best model with validation accuracy: 0.968149\u001b[0m\n",
      "\u001b[34m[06/02/2022 20:11:23 INFO 140535754454848] Saved checkpoint to \"/opt/ml/model/image-classification-0004.params\"\u001b[0m\n",
      "\u001b[34m[06/02/2022 20:11:24 INFO 140535754454848] Epoch[4] Batch [20]#011Speed: 1807.251 samples/sec#011accuracy=0.959821\u001b[0m\n",
      "\u001b[34m[06/02/2022 20:11:26 INFO 140535754454848] Epoch[4] Batch [40]#011Speed: 1862.252 samples/sec#011accuracy=0.963034\u001b[0m\n",
      "\u001b[34m[06/02/2022 20:11:27 INFO 140535754454848] Epoch[4] Batch [60]#011Speed: 1873.628 samples/sec#011accuracy=0.963243\u001b[0m\n",
      "\u001b[34m[06/02/2022 20:11:28 INFO 140535754454848] Epoch[4] Batch [80]#011Speed: 1879.044 samples/sec#011accuracy=0.962577\u001b[0m\n",
      "\u001b[34m[06/02/2022 20:11:30 INFO 140535754454848] Epoch[4] Batch [100]#011Speed: 1879.723 samples/sec#011accuracy=0.962098\u001b[0m\n",
      "\u001b[34m[06/02/2022 20:11:31 INFO 140535754454848] Epoch[4] Batch [120]#011Speed: 1874.883 samples/sec#011accuracy=0.963068\u001b[0m\n",
      "\u001b[34m[06/02/2022 20:11:32 INFO 140535754454848] Epoch[4] Batch [140]#011Speed: 1881.724 samples/sec#011accuracy=0.962988\u001b[0m\n",
      "\u001b[34m[06/02/2022 20:11:34 INFO 140535754454848] Epoch[4] Batch [160]#011Speed: 1883.495 samples/sec#011accuracy=0.962830\u001b[0m\n",
      "\u001b[34m[06/02/2022 20:11:35 INFO 140535754454848] Epoch[4] Batch [180]#011Speed: 1884.885 samples/sec#011accuracy=0.963225\u001b[0m\n",
      "\u001b[34m[06/02/2022 20:11:36 INFO 140535754454848] Epoch[4] Batch [200]#011Speed: 1884.930 samples/sec#011accuracy=0.962842\u001b[0m\n",
      "\u001b[34m[06/02/2022 20:11:38 INFO 140535754454848] Epoch[4] Batch [220]#011Speed: 1887.504 samples/sec#011accuracy=0.963624\u001b[0m\n",
      "\u001b[34m[06/02/2022 20:11:39 INFO 140535754454848] Epoch[4] Batch [240]#011Speed: 1887.851 samples/sec#011accuracy=0.964406\u001b[0m\n",
      "\u001b[34m[06/02/2022 20:11:40 INFO 140535754454848] Epoch[4] Batch [260]#011Speed: 1888.879 samples/sec#011accuracy=0.964230\u001b[0m\n",
      "\u001b[34m[06/02/2022 20:11:42 INFO 140535754454848] Epoch[4] Batch [280]#011Speed: 1890.113 samples/sec#011accuracy=0.964580\u001b[0m\n",
      "\u001b[34m[06/02/2022 20:11:43 INFO 140535754454848] Epoch[4] Batch [300]#011Speed: 1889.811 samples/sec#011accuracy=0.964883\u001b[0m\n",
      "\u001b[34m[06/02/2022 20:11:45 INFO 140535754454848] Epoch[4] Batch [320]#011Speed: 1890.227 samples/sec#011accuracy=0.964807\u001b[0m\n",
      "\u001b[34m[06/02/2022 20:11:46 INFO 140535754454848] Epoch[4] Batch [340]#011Speed: 1890.036 samples/sec#011accuracy=0.965245\u001b[0m\n",
      "\u001b[34m[06/02/2022 20:11:47 INFO 140535754454848] Epoch[4] Batch [360]#011Speed: 1890.364 samples/sec#011accuracy=0.965807\u001b[0m\n",
      "\u001b[34m[06/02/2022 20:11:49 INFO 140535754454848] Epoch[4] Batch [380]#011Speed: 1890.450 samples/sec#011accuracy=0.965572\u001b[0m\n",
      "\u001b[34m[06/02/2022 20:11:49 INFO 140535754454848] Epoch[4] Train-accuracy=0.965585\u001b[0m\n",
      "\u001b[34m[06/02/2022 20:11:49 INFO 140535754454848] Epoch[4] Time cost=26.327\u001b[0m\n",
      "\u001b[34m[06/02/2022 20:11:51 INFO 140535754454848] Epoch[4] Validation-accuracy=0.974159\u001b[0m\n",
      "\u001b[34m[06/02/2022 20:11:51 INFO 140535754454848] Storing the best model with validation accuracy: 0.974159\u001b[0m\n",
      "\u001b[34m[06/02/2022 20:11:51 INFO 140535754454848] Saved checkpoint to \"/opt/ml/model/image-classification-0005.params\"\u001b[0m\n",
      "\u001b[34m[06/02/2022 20:11:53 INFO 140535754454848] Epoch[5] Batch [20]#011Speed: 1772.780 samples/sec#011accuracy=0.972098\u001b[0m\n",
      "\u001b[34m[06/02/2022 20:11:54 INFO 140535754454848] Epoch[5] Batch [40]#011Speed: 1829.767 samples/sec#011accuracy=0.973895\u001b[0m\n",
      "\u001b[34m[06/02/2022 20:11:55 INFO 140535754454848] Epoch[5] Batch [60]#011Speed: 1847.113 samples/sec#011accuracy=0.973745\u001b[0m\n",
      "\u001b[34m[06/02/2022 20:11:57 INFO 140535754454848] Epoch[5] Batch [80]#011Speed: 1859.972 samples/sec#011accuracy=0.973958\u001b[0m\n",
      "\u001b[34m[06/02/2022 20:11:58 INFO 140535754454848] Epoch[5] Batch [100]#011Speed: 1868.136 samples/sec#011accuracy=0.974165\u001b[0m\n",
      "\u001b[34m[06/02/2022 20:11:59 INFO 140535754454848] Epoch[5] Batch [120]#011Speed: 1865.477 samples/sec#011accuracy=0.973786\u001b[0m\n",
      "\u001b[34m[06/02/2022 20:12:01 INFO 140535754454848] Epoch[5] Batch [140]#011Speed: 1868.728 samples/sec#011accuracy=0.973570\u001b[0m\n",
      "\u001b[34m[06/02/2022 20:12:02 INFO 140535754454848] Epoch[5] Batch [160]#011Speed: 1866.829 samples/sec#011accuracy=0.974185\u001b[0m\n",
      "\u001b[34m[06/02/2022 20:12:04 INFO 140535754454848] Epoch[5] Batch [180]#011Speed: 1865.048 samples/sec#011accuracy=0.973800\u001b[0m\n",
      "\u001b[34m[06/02/2022 20:12:05 INFO 140535754454848] Epoch[5] Batch [200]#011Speed: 1857.160 samples/sec#011accuracy=0.973842\u001b[0m\n",
      "\u001b[34m[06/02/2022 20:12:06 INFO 140535754454848] Epoch[5] Batch [220]#011Speed: 1860.193 samples/sec#011accuracy=0.974088\u001b[0m\n",
      "\u001b[34m[06/02/2022 20:12:08 INFO 140535754454848] Epoch[5] Batch [240]#011Speed: 1860.572 samples/sec#011accuracy=0.974196\u001b[0m\n",
      "\u001b[34m[06/02/2022 20:12:09 INFO 140535754454848] Epoch[5] Batch [260]#011Speed: 1863.153 samples/sec#011accuracy=0.974587\u001b[0m\n",
      "\u001b[34m[06/02/2022 20:12:10 INFO 140535754454848] Epoch[5] Batch [280]#011Speed: 1863.215 samples/sec#011accuracy=0.974394\u001b[0m\n",
      "\u001b[34m[06/02/2022 20:12:12 INFO 140535754454848] Epoch[5] Batch [300]#011Speed: 1865.252 samples/sec#011accuracy=0.974694\u001b[0m\n",
      "\u001b[34m[06/02/2022 20:12:13 INFO 140535754454848] Epoch[5] Batch [320]#011Speed: 1866.654 samples/sec#011accuracy=0.974883\u001b[0m\n",
      "\u001b[34m[06/02/2022 20:12:15 INFO 140535754454848] Epoch[5] Batch [340]#011Speed: 1866.376 samples/sec#011accuracy=0.974798\u001b[0m\n",
      "\u001b[34m[06/02/2022 20:12:16 INFO 140535754454848] Epoch[5] Batch [360]#011Speed: 1867.066 samples/sec#011accuracy=0.975004\u001b[0m\n",
      "\u001b[34m[06/02/2022 20:12:17 INFO 140535754454848] Epoch[5] Batch [380]#011Speed: 1868.968 samples/sec#011accuracy=0.975086\u001b[0m\n",
      "\u001b[34m[06/02/2022 20:12:18 INFO 140535754454848] Epoch[5] Train-accuracy=0.975000\u001b[0m\n",
      "\u001b[34m[06/02/2022 20:12:18 INFO 140535754454848] Epoch[5] Time cost=26.628\u001b[0m\n",
      "\u001b[34m[06/02/2022 20:12:19 INFO 140535754454848] Epoch[5] Validation-accuracy=0.979367\u001b[0m\n",
      "\u001b[34m[06/02/2022 20:12:20 INFO 140535754454848] Storing the best model with validation accuracy: 0.979367\u001b[0m\n",
      "\u001b[34m[06/02/2022 20:12:20 INFO 140535754454848] Saved checkpoint to \"/opt/ml/model/image-classification-0006.params\"\u001b[0m\n",
      "\u001b[34m[06/02/2022 20:12:21 INFO 140535754454848] Epoch[6] Batch [20]#011Speed: 1759.964 samples/sec#011accuracy=0.979539\u001b[0m\n",
      "\u001b[34m[06/02/2022 20:12:23 INFO 140535754454848] Epoch[6] Batch [40]#011Speed: 1830.193 samples/sec#011accuracy=0.980945\u001b[0m\n",
      "\u001b[34m[06/02/2022 20:12:24 INFO 140535754454848] Epoch[6] Batch [60]#011Speed: 1847.312 samples/sec#011accuracy=0.980789\u001b[0m\n",
      "\u001b[34m[06/02/2022 20:12:25 INFO 140535754454848] Epoch[6] Batch [80]#011Speed: 1857.086 samples/sec#011accuracy=0.980613\u001b[0m\n",
      "\u001b[34m[06/02/2022 20:12:27 INFO 140535754454848] Epoch[6] Batch [100]#011Speed: 1868.041 samples/sec#011accuracy=0.979966\u001b[0m\n",
      "\u001b[34m[06/02/2022 20:12:28 INFO 140535754454848] Epoch[6] Batch [120]#011Speed: 1873.195 samples/sec#011accuracy=0.980372\u001b[0m\n",
      "\u001b[34m[06/02/2022 20:12:29 INFO 140535754454848] Epoch[6] Batch [140]#011Speed: 1879.737 samples/sec#011accuracy=0.980718\u001b[0m\n",
      "\u001b[34m[06/02/2022 20:12:31 INFO 140535754454848] Epoch[6] Batch [160]#011Speed: 1882.208 samples/sec#011accuracy=0.980299\u001b[0m\n",
      "\u001b[34m[06/02/2022 20:12:32 INFO 140535754454848] Epoch[6] Batch [180]#011Speed: 1885.953 samples/sec#011accuracy=0.979886\u001b[0m\n",
      "\u001b[34m[06/02/2022 20:12:33 INFO 140535754454848] Epoch[6] Batch [200]#011Speed: 1886.069 samples/sec#011accuracy=0.980294\u001b[0m\n",
      "\u001b[34m[06/02/2022 20:12:35 INFO 140535754454848] Epoch[6] Batch [220]#011Speed: 1886.325 samples/sec#011accuracy=0.980310\u001b[0m\n",
      "\u001b[34m[06/02/2022 20:12:36 INFO 140535754454848] Epoch[6] Batch [240]#011Speed: 1886.400 samples/sec#011accuracy=0.980161\u001b[0m\n",
      "\u001b[34m[06/02/2022 20:12:37 INFO 140535754454848] Epoch[6] Batch [260]#011Speed: 1886.311 samples/sec#011accuracy=0.980484\u001b[0m\n",
      "\u001b[34m[06/02/2022 20:12:39 INFO 140535754454848] Epoch[6] Batch [280]#011Speed: 1888.153 samples/sec#011accuracy=0.980399\u001b[0m\n",
      "\u001b[34m[06/02/2022 20:12:40 INFO 140535754454848] Epoch[6] Batch [300]#011Speed: 1887.436 samples/sec#011accuracy=0.980222\u001b[0m\n",
      "\u001b[34m[06/02/2022 20:12:42 INFO 140535754454848] Epoch[6] Batch [320]#011Speed: 1888.416 samples/sec#011accuracy=0.980116\u001b[0m\n",
      "\u001b[34m[06/02/2022 20:12:43 INFO 140535754454848] Epoch[6] Batch [340]#011Speed: 1889.813 samples/sec#011accuracy=0.980137\u001b[0m\n",
      "\u001b[34m[06/02/2022 20:12:44 INFO 140535754454848] Epoch[6] Batch [360]#011Speed: 1890.942 samples/sec#011accuracy=0.980198\u001b[0m\n",
      "\u001b[34m[06/02/2022 20:12:46 INFO 140535754454848] Epoch[6] Batch [380]#011Speed: 1890.236 samples/sec#011accuracy=0.980151\u001b[0m\n",
      "\u001b[34m[06/02/2022 20:12:46 INFO 140535754454848] Epoch[6] Train-accuracy=0.980248\u001b[0m\n",
      "\u001b[34m[06/02/2022 20:12:46 INFO 140535754454848] Epoch[6] Time cost=26.340\u001b[0m\n",
      "\u001b[34m[06/02/2022 20:12:48 INFO 140535754454848] Epoch[6] Validation-accuracy=0.981871\u001b[0m\n",
      "\u001b[34m[06/02/2022 20:12:48 INFO 140535754454848] Storing the best model with validation accuracy: 0.981871\u001b[0m\n",
      "\u001b[34m[06/02/2022 20:12:48 INFO 140535754454848] Saved checkpoint to \"/opt/ml/model/image-classification-0007.params\"\u001b[0m\n",
      "\u001b[34m[06/02/2022 20:12:50 INFO 140535754454848] Epoch[7] Batch [20]#011Speed: 1801.878 samples/sec#011accuracy=0.980283\u001b[0m\n",
      "\u001b[34m[06/02/2022 20:12:51 INFO 140535754454848] Epoch[7] Batch [40]#011Speed: 1842.980 samples/sec#011accuracy=0.981136\u001b[0m\n",
      "\u001b[34m[06/02/2022 20:12:52 INFO 140535754454848] Epoch[7] Batch [60]#011Speed: 1859.529 samples/sec#011accuracy=0.980789\u001b[0m\n",
      "\u001b[34m[06/02/2022 20:12:54 INFO 140535754454848] Epoch[7] Batch [80]#011Speed: 1869.220 samples/sec#011accuracy=0.981578\u001b[0m\n",
      "\u001b[34m[06/02/2022 20:12:55 INFO 140535754454848] Epoch[7] Batch [100]#011Speed: 1873.939 samples/sec#011accuracy=0.981668\u001b[0m\n",
      "\u001b[34m[06/02/2022 20:12:56 INFO 140535754454848] Epoch[7] Batch [120]#011Speed: 1877.343 samples/sec#011accuracy=0.981921\u001b[0m\n",
      "\u001b[34m[06/02/2022 20:12:58 INFO 140535754454848] Epoch[7] Batch [140]#011Speed: 1879.121 samples/sec#011accuracy=0.982325\u001b[0m\n",
      "\u001b[34m[06/02/2022 20:12:59 INFO 140535754454848] Epoch[7] Batch [160]#011Speed: 1883.995 samples/sec#011accuracy=0.982531\u001b[0m\n",
      "\u001b[34m[06/02/2022 20:13:00 INFO 140535754454848] Epoch[7] Batch [180]#011Speed: 1881.848 samples/sec#011accuracy=0.982951\u001b[0m\n",
      "\u001b[34m[06/02/2022 20:13:02 INFO 140535754454848] Epoch[7] Batch [200]#011Speed: 1879.399 samples/sec#011accuracy=0.983481\u001b[0m\n",
      "\u001b[34m[06/02/2022 20:13:03 INFO 140535754454848] Epoch[7] Batch [220]#011Speed: 1876.506 samples/sec#011accuracy=0.983244\u001b[0m\n",
      "\u001b[34m[06/02/2022 20:13:05 INFO 140535754454848] Epoch[7] Batch [240]#011Speed: 1872.647 samples/sec#011accuracy=0.983240\u001b[0m\n",
      "\u001b[34m[06/02/2022 20:13:06 INFO 140535754454848] Epoch[7] Batch [260]#011Speed: 1872.523 samples/sec#011accuracy=0.983387\u001b[0m\n",
      "\u001b[34m[06/02/2022 20:13:07 INFO 140535754454848] Epoch[7] Batch [280]#011Speed: 1873.155 samples/sec#011accuracy=0.983430\u001b[0m\n",
      "\u001b[34m[06/02/2022 20:13:09 INFO 140535754454848] Epoch[7] Batch [300]#011Speed: 1875.559 samples/sec#011accuracy=0.983337\u001b[0m\n",
      "\u001b[34m[06/02/2022 20:13:10 INFO 140535754454848] Epoch[7] Batch [320]#011Speed: 1877.544 samples/sec#011accuracy=0.983377\u001b[0m\n",
      "\u001b[34m[06/02/2022 20:13:11 INFO 140535754454848] Epoch[7] Batch [340]#011Speed: 1878.236 samples/sec#011accuracy=0.983481\u001b[0m\n",
      "\u001b[34m[06/02/2022 20:13:13 INFO 140535754454848] Epoch[7] Batch [360]#011Speed: 1878.964 samples/sec#011accuracy=0.983358\u001b[0m\n",
      "\u001b[34m[06/02/2022 20:13:14 INFO 140535754454848] Epoch[7] Batch [380]#011Speed: 1879.843 samples/sec#011accuracy=0.983575\u001b[0m\n",
      "\u001b[34m[06/02/2022 20:13:15 INFO 140535754454848] Epoch[7] Train-accuracy=0.983433\u001b[0m\n",
      "\u001b[34m[06/02/2022 20:13:15 INFO 140535754454848] Epoch[7] Time cost=26.487\u001b[0m\n",
      "\u001b[34m[06/02/2022 20:13:16 INFO 140535754454848] Epoch[7] Validation-accuracy=0.982672\u001b[0m\n",
      "\u001b[34m[06/02/2022 20:13:16 INFO 140535754454848] Storing the best model with validation accuracy: 0.982672\u001b[0m\n",
      "\u001b[34m[06/02/2022 20:13:17 INFO 140535754454848] Saved checkpoint to \"/opt/ml/model/image-classification-0008.params\"\u001b[0m\n",
      "\u001b[34m[06/02/2022 20:13:18 INFO 140535754454848] Epoch[8] Batch [20]#011Speed: 1788.943 samples/sec#011accuracy=0.985119\u001b[0m\n",
      "\u001b[34m[06/02/2022 20:13:19 INFO 140535754454848] Epoch[8] Batch [40]#011Speed: 1836.196 samples/sec#011accuracy=0.984184\u001b[0m\n",
      "\u001b[34m[06/02/2022 20:13:21 INFO 140535754454848] Epoch[8] Batch [60]#011Speed: 1863.917 samples/sec#011accuracy=0.985784\u001b[0m\n",
      "\u001b[34m[06/02/2022 20:13:22 INFO 140535754454848] Epoch[8] Batch [80]#011Speed: 1873.451 samples/sec#011accuracy=0.984954\u001b[0m\n",
      "\u001b[34m[06/02/2022 20:13:23 INFO 140535754454848] Epoch[8] Batch [100]#011Speed: 1875.069 samples/sec#011accuracy=0.985922\u001b[0m\n",
      "\u001b[34m[06/02/2022 20:13:25 INFO 140535754454848] Epoch[8] Batch [120]#011Speed: 1878.430 samples/sec#011accuracy=0.985989\u001b[0m\n",
      "\u001b[34m[06/02/2022 20:13:26 INFO 140535754454848] Epoch[8] Batch [140]#011Speed: 1882.063 samples/sec#011accuracy=0.985816\u001b[0m\n",
      "\u001b[34m[06/02/2022 20:13:28 INFO 140535754454848] Epoch[8] Batch [160]#011Speed: 1885.728 samples/sec#011accuracy=0.985879\u001b[0m\n",
      "\u001b[34m[06/02/2022 20:13:29 INFO 140535754454848] Epoch[8] Batch [180]#011Speed: 1886.676 samples/sec#011accuracy=0.986058\u001b[0m\n",
      "\u001b[34m[06/02/2022 20:13:30 INFO 140535754454848] Epoch[8] Batch [200]#011Speed: 1886.652 samples/sec#011accuracy=0.986280\u001b[0m\n",
      "\u001b[34m[06/02/2022 20:13:32 INFO 140535754454848] Epoch[8] Batch [220]#011Speed: 1887.708 samples/sec#011accuracy=0.986319\u001b[0m\n",
      "\u001b[34m[06/02/2022 20:13:33 INFO 140535754454848] Epoch[8] Batch [240]#011Speed: 1885.717 samples/sec#011accuracy=0.986190\u001b[0m\n",
      "\u001b[34m[06/02/2022 20:13:34 INFO 140535754454848] Epoch[8] Batch [260]#011Speed: 1885.861 samples/sec#011accuracy=0.986381\u001b[0m\n",
      "\u001b[34m[06/02/2022 20:13:36 INFO 140535754454848] Epoch[8] Batch [280]#011Speed: 1884.715 samples/sec#011accuracy=0.986154\u001b[0m\n",
      "\u001b[34m[06/02/2022 20:13:37 INFO 140535754454848] Epoch[8] Batch [300]#011Speed: 1886.084 samples/sec#011accuracy=0.986192\u001b[0m\n",
      "\u001b[34m[06/02/2022 20:13:38 INFO 140535754454848] Epoch[8] Batch [320]#011Speed: 1886.489 samples/sec#011accuracy=0.986054\u001b[0m\n",
      "\u001b[34m[06/02/2022 20:13:40 INFO 140535754454848] Epoch[8] Batch [340]#011Speed: 1887.156 samples/sec#011accuracy=0.986093\u001b[0m\n",
      "\u001b[34m[06/02/2022 20:13:41 INFO 140535754454848] Epoch[8] Batch [360]#011Speed: 1887.339 samples/sec#011accuracy=0.985933\u001b[0m\n",
      "\u001b[34m[06/02/2022 20:13:42 INFO 140535754454848] Epoch[8] Batch [380]#011Speed: 1889.135 samples/sec#011accuracy=0.985851\u001b[0m\n",
      "\u001b[34m[06/02/2022 20:13:43 INFO 140535754454848] Epoch[8] Train-accuracy=0.985797\u001b[0m\n",
      "\u001b[34m[06/02/2022 20:13:43 INFO 140535754454848] Epoch[8] Time cost=26.358\u001b[0m\n",
      "\u001b[34m[06/02/2022 20:13:45 INFO 140535754454848] Epoch[8] Validation-accuracy=0.982892\u001b[0m\n",
      "\u001b[34m[06/02/2022 20:13:45 INFO 140535754454848] Storing the best model with validation accuracy: 0.982892\u001b[0m\n",
      "\u001b[34m[06/02/2022 20:13:45 INFO 140535754454848] Saved checkpoint to \"/opt/ml/model/image-classification-0009.params\"\u001b[0m\n",
      "\u001b[34m[06/02/2022 20:13:46 INFO 140535754454848] Epoch[9] Batch [20]#011Speed: 1786.701 samples/sec#011accuracy=0.984375\u001b[0m\n",
      "\u001b[34m[06/02/2022 20:13:48 INFO 140535754454848] Epoch[9] Batch [40]#011Speed: 1836.468 samples/sec#011accuracy=0.987995\u001b[0m\n",
      "\u001b[34m[06/02/2022 20:13:49 INFO 140535754454848] Epoch[9] Batch [60]#011Speed: 1851.953 samples/sec#011accuracy=0.988089\u001b[0m\n",
      "\u001b[34m[06/02/2022 20:13:51 INFO 140535754454848] Epoch[9] Batch [80]#011Speed: 1861.617 samples/sec#011accuracy=0.988908\u001b[0m\n",
      "\u001b[34m[06/02/2022 20:13:52 INFO 140535754454848] Epoch[9] Batch [100]#011Speed: 1873.172 samples/sec#011accuracy=0.988475\u001b[0m\n",
      "\u001b[34m[06/02/2022 20:13:53 INFO 140535754454848] Epoch[9] Batch [120]#011Speed: 1875.434 samples/sec#011accuracy=0.988507\u001b[0m\n",
      "\u001b[34m[06/02/2022 20:13:55 INFO 140535754454848] Epoch[9] Batch [140]#011Speed: 1878.451 samples/sec#011accuracy=0.988143\u001b[0m\n",
      "\u001b[34m[06/02/2022 20:13:56 INFO 140535754454848] Epoch[9] Batch [160]#011Speed: 1880.864 samples/sec#011accuracy=0.988014\u001b[0m\n",
      "\u001b[34m[06/02/2022 20:13:57 INFO 140535754454848] Epoch[9] Batch [180]#011Speed: 1880.718 samples/sec#011accuracy=0.988087\u001b[0m\n",
      "\u001b[34m[06/02/2022 20:13:59 INFO 140535754454848] Epoch[9] Batch [200]#011Speed: 1881.726 samples/sec#011accuracy=0.988262\u001b[0m\n",
      "\u001b[34m[06/02/2022 20:14:00 INFO 140535754454848] Epoch[9] Batch [220]#011Speed: 1881.612 samples/sec#011accuracy=0.988723\u001b[0m\n",
      "\u001b[34m[06/02/2022 20:14:01 INFO 140535754454848] Epoch[9] Batch [240]#011Speed: 1880.568 samples/sec#011accuracy=0.988524\u001b[0m\n",
      "\u001b[34m[06/02/2022 20:14:03 INFO 140535754454848] Epoch[9] Batch [260]#011Speed: 1879.069 samples/sec#011accuracy=0.988446\u001b[0m\n",
      "\u001b[34m[06/02/2022 20:14:04 INFO 140535754454848] Epoch[9] Batch [280]#011Speed: 1874.732 samples/sec#011accuracy=0.988657\u001b[0m\n",
      "\u001b[34m[06/02/2022 20:14:06 INFO 140535754454848] Epoch[9] Batch [300]#011Speed: 1870.746 samples/sec#011accuracy=0.988943\u001b[0m\n",
      "\u001b[34m[06/02/2022 20:14:07 INFO 140535754454848] Epoch[9] Batch [320]#011Speed: 1871.964 samples/sec#011accuracy=0.988926\u001b[0m\n",
      "\u001b[34m[06/02/2022 20:14:08 INFO 140535754454848] Epoch[9] Batch [340]#011Speed: 1872.288 samples/sec#011accuracy=0.988751\u001b[0m\n",
      "\u001b[34m[06/02/2022 20:14:10 INFO 140535754454848] Epoch[9] Batch [360]#011Speed: 1872.984 samples/sec#011accuracy=0.988638\u001b[0m\n",
      "\u001b[34m[06/02/2022 20:14:11 INFO 140535754454848] Epoch[9] Batch [380]#011Speed: 1874.413 samples/sec#011accuracy=0.988415\u001b[0m\n",
      "\u001b[34m[06/02/2022 20:14:12 INFO 140535754454848] Epoch[9] Train-accuracy=0.988341\u001b[0m\n",
      "\u001b[34m[06/02/2022 20:14:12 INFO 140535754454848] Epoch[9] Time cost=26.562\u001b[0m\n",
      "\u001b[34m[06/02/2022 20:14:13 INFO 140535754454848] Epoch[9] Validation-accuracy=0.984675\u001b[0m\n",
      "\u001b[34m[06/02/2022 20:14:13 INFO 140535754454848] Storing the best model with validation accuracy: 0.984675\u001b[0m\n",
      "\u001b[34m[06/02/2022 20:14:14 INFO 140535754454848] Saved checkpoint to \"/opt/ml/model/image-classification-0010.params\"\u001b[0m\n",
      "\n",
      "2022-06-02 20:15:15 Uploading - Uploading generated training model\n",
      "2022-06-02 20:15:32 Completed - Training job completed\n",
      "ProfilerReport-1654200279: NoIssuesFound\n",
      "Training seconds: 510\n",
      "Billable seconds: 510\n"
     ]
    }
   ],
   "source": [
    "rede_neural.fit({'train': train_data, 'validation': test_data})"
   ]
  },
  {
   "cell_type": "markdown",
   "metadata": {},
   "source": [
    "# Deploy e previsões"
   ]
  },
  {
   "cell_type": "code",
   "execution_count": 33,
   "metadata": {},
   "outputs": [
    {
     "name": "stdout",
     "output_type": "stream",
     "text": [
      "-----------!"
     ]
    }
   ],
   "source": [
    "rede_neural_classificador = rede_neural.deploy(initial_instance_count=1, \n",
    "                                               instance_type=\"ml.m4.xlarge\")"
   ]
  },
  {
   "cell_type": "code",
   "execution_count": 16,
   "metadata": {},
   "outputs": [],
   "source": [
    "imagem = open('digit.png', 'rb').read()"
   ]
  },
  {
   "cell_type": "code",
   "execution_count": 17,
   "metadata": {},
   "outputs": [],
   "source": [
    "runtime = boto3.Session().client(service_name='sagemaker-runtime') \n",
    "resposta = runtime.invoke_endpoint(EndpointName='image-classification-2022-05-31-16-53-26-506', \n",
    "                                  ContentType='application/x-image', \n",
    "                                  Body=bytearray(imagem))"
   ]
  },
  {
   "cell_type": "code",
   "execution_count": 18,
   "metadata": {},
   "outputs": [
    {
     "data": {
      "text/plain": [
       "{'ResponseMetadata': {'RequestId': '448baa2b-5324-4abf-a980-6107f68563b1',\n",
       "  'HTTPStatusCode': 200,\n",
       "  'HTTPHeaders': {'x-amzn-requestid': '448baa2b-5324-4abf-a980-6107f68563b1',\n",
       "   'x-amzn-invoked-production-variant': 'AllTraffic',\n",
       "   'date': 'Tue, 31 May 2022 16:58:01 GMT',\n",
       "   'content-type': 'application/json',\n",
       "   'content-length': '231'},\n",
       "  'RetryAttempts': 0},\n",
       " 'ContentType': 'application/json',\n",
       " 'InvokedProductionVariant': 'AllTraffic',\n",
       " 'Body': <botocore.response.StreamingBody at 0x7f58a3be1e80>}"
      ]
     },
     "execution_count": 18,
     "metadata": {},
     "output_type": "execute_result"
    }
   ],
   "source": [
    "resposta"
   ]
  },
  {
   "cell_type": "code",
   "execution_count": 19,
   "metadata": {},
   "outputs": [
    {
     "name": "stdout",
     "output_type": "stream",
     "text": [
      "[3.0299236186692724e-06, 9.434786989004351e-06, 0.00038098148070275784, 0.9989333748817444, 1.7930641433849814e-06, 0.0003537652373779565, 1.2996001714782324e-05, 4.513800740824081e-05, 0.0002288064279127866, 3.070539241889492e-05]\n"
     ]
    }
   ],
   "source": [
    "resultado = resposta['Body'].read()\n",
    "resultado = json.loads(resultado)\n",
    "print(resultado)"
   ]
  },
  {
   "cell_type": "code",
   "execution_count": 20,
   "metadata": {},
   "outputs": [
    {
     "data": {
      "text/plain": [
       "10"
      ]
     },
     "execution_count": 20,
     "metadata": {},
     "output_type": "execute_result"
    }
   ],
   "source": [
    "len(resultado)"
   ]
  },
  {
   "cell_type": "code",
   "execution_count": 21,
   "metadata": {},
   "outputs": [
    {
     "data": {
      "text/plain": [
       "3"
      ]
     },
     "execution_count": 21,
     "metadata": {},
     "output_type": "execute_result"
    }
   ],
   "source": [
    "probabilidade_maior = np.argmax(resultado)\n",
    "probabilidade_maior"
   ]
  },
  {
   "cell_type": "code",
   "execution_count": 22,
   "metadata": {},
   "outputs": [],
   "source": [
    "rede_neural_classificador.delete_endpoint()"
   ]
  },
  {
   "cell_type": "code",
   "execution_count": null,
   "metadata": {},
   "outputs": [],
   "source": []
  }
 ],
 "metadata": {
  "instance_type": "ml.t3.medium",
  "kernelspec": {
   "display_name": "Python 3 (Data Science)",
   "language": "python",
   "name": "python3__SAGEMAKER_INTERNAL__arn:aws:sagemaker:us-east-1:081325390199:image/datascience-1.0"
  },
  "language_info": {
   "codemirror_mode": {
    "name": "ipython",
    "version": 3
   },
   "file_extension": ".py",
   "mimetype": "text/x-python",
   "name": "python",
   "nbconvert_exporter": "python",
   "pygments_lexer": "ipython3",
   "version": "3.7.10"
  }
 },
 "nbformat": 4,
 "nbformat_minor": 4
}
