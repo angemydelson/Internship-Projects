{
 "cells": [
  {
   "cell_type": "markdown",
   "metadata": {},
   "source": [
    "# Tratamento da base de dados"
   ]
  },
  {
   "cell_type": "code",
   "execution_count": 112,
   "metadata": {},
   "outputs": [],
   "source": [
    "import pandas as pd\n",
    "import matplotlib.pyplot as plt\n",
    "%matplotlib inline\n",
    "import json\n",
    "import os\n",
    "import numpy as np\n",
    "import datetime"
   ]
  },
  {
   "cell_type": "code",
   "execution_count": 113,
   "metadata": {},
   "outputs": [
    {
     "data": {
      "text/html": [
       "<div>\n",
       "<style scoped>\n",
       "    .dataframe tbody tr th:only-of-type {\n",
       "        vertical-align: middle;\n",
       "    }\n",
       "\n",
       "    .dataframe tbody tr th {\n",
       "        vertical-align: top;\n",
       "    }\n",
       "\n",
       "    .dataframe thead th {\n",
       "        text-align: right;\n",
       "    }\n",
       "</style>\n",
       "<table border=\"1\" class=\"dataframe\">\n",
       "  <thead>\n",
       "    <tr style=\"text-align: right;\">\n",
       "      <th></th>\n",
       "      <th>Date</th>\n",
       "      <th>Open</th>\n",
       "      <th>High</th>\n",
       "      <th>Low</th>\n",
       "      <th>Close</th>\n",
       "      <th>Adj Close</th>\n",
       "      <th>Volume</th>\n",
       "    </tr>\n",
       "  </thead>\n",
       "  <tbody>\n",
       "    <tr>\n",
       "      <th>0</th>\n",
       "      <td>2013-01-02</td>\n",
       "      <td>19.990000</td>\n",
       "      <td>20.209999</td>\n",
       "      <td>19.690001</td>\n",
       "      <td>19.690001</td>\n",
       "      <td>18.086271</td>\n",
       "      <td>30182600.0</td>\n",
       "    </tr>\n",
       "    <tr>\n",
       "      <th>1</th>\n",
       "      <td>2013-01-03</td>\n",
       "      <td>19.809999</td>\n",
       "      <td>20.400000</td>\n",
       "      <td>19.700001</td>\n",
       "      <td>20.400000</td>\n",
       "      <td>18.738441</td>\n",
       "      <td>30552600.0</td>\n",
       "    </tr>\n",
       "    <tr>\n",
       "      <th>2</th>\n",
       "      <td>2013-01-04</td>\n",
       "      <td>20.330000</td>\n",
       "      <td>20.620001</td>\n",
       "      <td>20.170000</td>\n",
       "      <td>20.430000</td>\n",
       "      <td>18.766001</td>\n",
       "      <td>36141000.0</td>\n",
       "    </tr>\n",
       "    <tr>\n",
       "      <th>3</th>\n",
       "      <td>2013-01-07</td>\n",
       "      <td>20.480000</td>\n",
       "      <td>20.670000</td>\n",
       "      <td>19.950001</td>\n",
       "      <td>20.080000</td>\n",
       "      <td>18.444506</td>\n",
       "      <td>28069600.0</td>\n",
       "    </tr>\n",
       "    <tr>\n",
       "      <th>4</th>\n",
       "      <td>2013-01-08</td>\n",
       "      <td>20.110001</td>\n",
       "      <td>20.230000</td>\n",
       "      <td>19.459999</td>\n",
       "      <td>19.500000</td>\n",
       "      <td>17.911745</td>\n",
       "      <td>29091300.0</td>\n",
       "    </tr>\n",
       "    <tr>\n",
       "      <th>...</th>\n",
       "      <td>...</td>\n",
       "      <td>...</td>\n",
       "      <td>...</td>\n",
       "      <td>...</td>\n",
       "      <td>...</td>\n",
       "      <td>...</td>\n",
       "      <td>...</td>\n",
       "    </tr>\n",
       "    <tr>\n",
       "      <th>1340</th>\n",
       "      <td>2018-05-21</td>\n",
       "      <td>26.100000</td>\n",
       "      <td>26.290001</td>\n",
       "      <td>24.940001</td>\n",
       "      <td>25.049999</td>\n",
       "      <td>25.000000</td>\n",
       "      <td>75971900.0</td>\n",
       "    </tr>\n",
       "    <tr>\n",
       "      <th>1341</th>\n",
       "      <td>2018-05-22</td>\n",
       "      <td>24.809999</td>\n",
       "      <td>25.290001</td>\n",
       "      <td>24.150000</td>\n",
       "      <td>24.709999</td>\n",
       "      <td>24.709999</td>\n",
       "      <td>88109900.0</td>\n",
       "    </tr>\n",
       "    <tr>\n",
       "      <th>1342</th>\n",
       "      <td>2018-05-23</td>\n",
       "      <td>24.230000</td>\n",
       "      <td>24.480000</td>\n",
       "      <td>23.270000</td>\n",
       "      <td>23.270000</td>\n",
       "      <td>23.270000</td>\n",
       "      <td>74622500.0</td>\n",
       "    </tr>\n",
       "    <tr>\n",
       "      <th>1343</th>\n",
       "      <td>2018-05-24</td>\n",
       "      <td>20.049999</td>\n",
       "      <td>20.750000</td>\n",
       "      <td>19.650000</td>\n",
       "      <td>20.080000</td>\n",
       "      <td>20.080000</td>\n",
       "      <td>240343800.0</td>\n",
       "    </tr>\n",
       "    <tr>\n",
       "      <th>1344</th>\n",
       "      <td>2018-05-25</td>\n",
       "      <td>20.650000</td>\n",
       "      <td>21.270000</td>\n",
       "      <td>19.660000</td>\n",
       "      <td>19.799999</td>\n",
       "      <td>19.799999</td>\n",
       "      <td>131188100.0</td>\n",
       "    </tr>\n",
       "  </tbody>\n",
       "</table>\n",
       "<p>1345 rows × 7 columns</p>\n",
       "</div>"
      ],
      "text/plain": [
       "            Date       Open       High        Low      Close  Adj Close  \\\n",
       "0     2013-01-02  19.990000  20.209999  19.690001  19.690001  18.086271   \n",
       "1     2013-01-03  19.809999  20.400000  19.700001  20.400000  18.738441   \n",
       "2     2013-01-04  20.330000  20.620001  20.170000  20.430000  18.766001   \n",
       "3     2013-01-07  20.480000  20.670000  19.950001  20.080000  18.444506   \n",
       "4     2013-01-08  20.110001  20.230000  19.459999  19.500000  17.911745   \n",
       "...          ...        ...        ...        ...        ...        ...   \n",
       "1340  2018-05-21  26.100000  26.290001  24.940001  25.049999  25.000000   \n",
       "1341  2018-05-22  24.809999  25.290001  24.150000  24.709999  24.709999   \n",
       "1342  2018-05-23  24.230000  24.480000  23.270000  23.270000  23.270000   \n",
       "1343  2018-05-24  20.049999  20.750000  19.650000  20.080000  20.080000   \n",
       "1344  2018-05-25  20.650000  21.270000  19.660000  19.799999  19.799999   \n",
       "\n",
       "           Volume  \n",
       "0      30182600.0  \n",
       "1      30552600.0  \n",
       "2      36141000.0  \n",
       "3      28069600.0  \n",
       "4      29091300.0  \n",
       "...           ...  \n",
       "1340   75971900.0  \n",
       "1341   88109900.0  \n",
       "1342   74622500.0  \n",
       "1343  240343800.0  \n",
       "1344  131188100.0  \n",
       "\n",
       "[1345 rows x 7 columns]"
      ]
     },
     "execution_count": 113,
     "metadata": {},
     "output_type": "execute_result"
    }
   ],
   "source": [
    "base = pd.read_csv('petr4_treinamento_ex.csv')\n",
    "base"
   ]
  },
  {
   "cell_type": "code",
   "execution_count": 115,
   "metadata": {},
   "outputs": [
    {
     "data": {
      "text/html": [
       "<div>\n",
       "<style scoped>\n",
       "    .dataframe tbody tr th:only-of-type {\n",
       "        vertical-align: middle;\n",
       "    }\n",
       "\n",
       "    .dataframe tbody tr th {\n",
       "        vertical-align: top;\n",
       "    }\n",
       "\n",
       "    .dataframe thead th {\n",
       "        text-align: right;\n",
       "    }\n",
       "</style>\n",
       "<table border=\"1\" class=\"dataframe\">\n",
       "  <thead>\n",
       "    <tr style=\"text-align: right;\">\n",
       "      <th></th>\n",
       "      <th>Open</th>\n",
       "      <th>High</th>\n",
       "      <th>Low</th>\n",
       "      <th>Close</th>\n",
       "      <th>Adj Close</th>\n",
       "      <th>Volume</th>\n",
       "    </tr>\n",
       "    <tr>\n",
       "      <th>Date</th>\n",
       "      <th></th>\n",
       "      <th></th>\n",
       "      <th></th>\n",
       "      <th></th>\n",
       "      <th></th>\n",
       "      <th></th>\n",
       "    </tr>\n",
       "  </thead>\n",
       "  <tbody>\n",
       "    <tr>\n",
       "      <th>2013-01-02</th>\n",
       "      <td>19.990000</td>\n",
       "      <td>20.209999</td>\n",
       "      <td>19.690001</td>\n",
       "      <td>19.690001</td>\n",
       "      <td>18.086271</td>\n",
       "      <td>30182600.0</td>\n",
       "    </tr>\n",
       "    <tr>\n",
       "      <th>2013-01-03</th>\n",
       "      <td>19.809999</td>\n",
       "      <td>20.400000</td>\n",
       "      <td>19.700001</td>\n",
       "      <td>20.400000</td>\n",
       "      <td>18.738441</td>\n",
       "      <td>30552600.0</td>\n",
       "    </tr>\n",
       "    <tr>\n",
       "      <th>2013-01-04</th>\n",
       "      <td>20.330000</td>\n",
       "      <td>20.620001</td>\n",
       "      <td>20.170000</td>\n",
       "      <td>20.430000</td>\n",
       "      <td>18.766001</td>\n",
       "      <td>36141000.0</td>\n",
       "    </tr>\n",
       "    <tr>\n",
       "      <th>2013-01-07</th>\n",
       "      <td>20.480000</td>\n",
       "      <td>20.670000</td>\n",
       "      <td>19.950001</td>\n",
       "      <td>20.080000</td>\n",
       "      <td>18.444506</td>\n",
       "      <td>28069600.0</td>\n",
       "    </tr>\n",
       "    <tr>\n",
       "      <th>2013-01-08</th>\n",
       "      <td>20.110001</td>\n",
       "      <td>20.230000</td>\n",
       "      <td>19.459999</td>\n",
       "      <td>19.500000</td>\n",
       "      <td>17.911745</td>\n",
       "      <td>29091300.0</td>\n",
       "    </tr>\n",
       "    <tr>\n",
       "      <th>...</th>\n",
       "      <td>...</td>\n",
       "      <td>...</td>\n",
       "      <td>...</td>\n",
       "      <td>...</td>\n",
       "      <td>...</td>\n",
       "      <td>...</td>\n",
       "    </tr>\n",
       "    <tr>\n",
       "      <th>2018-05-21</th>\n",
       "      <td>26.100000</td>\n",
       "      <td>26.290001</td>\n",
       "      <td>24.940001</td>\n",
       "      <td>25.049999</td>\n",
       "      <td>25.000000</td>\n",
       "      <td>75971900.0</td>\n",
       "    </tr>\n",
       "    <tr>\n",
       "      <th>2018-05-22</th>\n",
       "      <td>24.809999</td>\n",
       "      <td>25.290001</td>\n",
       "      <td>24.150000</td>\n",
       "      <td>24.709999</td>\n",
       "      <td>24.709999</td>\n",
       "      <td>88109900.0</td>\n",
       "    </tr>\n",
       "    <tr>\n",
       "      <th>2018-05-23</th>\n",
       "      <td>24.230000</td>\n",
       "      <td>24.480000</td>\n",
       "      <td>23.270000</td>\n",
       "      <td>23.270000</td>\n",
       "      <td>23.270000</td>\n",
       "      <td>74622500.0</td>\n",
       "    </tr>\n",
       "    <tr>\n",
       "      <th>2018-05-24</th>\n",
       "      <td>20.049999</td>\n",
       "      <td>20.750000</td>\n",
       "      <td>19.650000</td>\n",
       "      <td>20.080000</td>\n",
       "      <td>20.080000</td>\n",
       "      <td>240343800.0</td>\n",
       "    </tr>\n",
       "    <tr>\n",
       "      <th>2018-05-25</th>\n",
       "      <td>20.650000</td>\n",
       "      <td>21.270000</td>\n",
       "      <td>19.660000</td>\n",
       "      <td>19.799999</td>\n",
       "      <td>19.799999</td>\n",
       "      <td>131188100.0</td>\n",
       "    </tr>\n",
       "  </tbody>\n",
       "</table>\n",
       "<p>1345 rows × 6 columns</p>\n",
       "</div>"
      ],
      "text/plain": [
       "                 Open       High        Low      Close  Adj Close       Volume\n",
       "Date                                                                          \n",
       "2013-01-02  19.990000  20.209999  19.690001  19.690001  18.086271   30182600.0\n",
       "2013-01-03  19.809999  20.400000  19.700001  20.400000  18.738441   30552600.0\n",
       "2013-01-04  20.330000  20.620001  20.170000  20.430000  18.766001   36141000.0\n",
       "2013-01-07  20.480000  20.670000  19.950001  20.080000  18.444506   28069600.0\n",
       "2013-01-08  20.110001  20.230000  19.459999  19.500000  17.911745   29091300.0\n",
       "...               ...        ...        ...        ...        ...          ...\n",
       "2018-05-21  26.100000  26.290001  24.940001  25.049999  25.000000   75971900.0\n",
       "2018-05-22  24.809999  25.290001  24.150000  24.709999  24.709999   88109900.0\n",
       "2018-05-23  24.230000  24.480000  23.270000  23.270000  23.270000   74622500.0\n",
       "2018-05-24  20.049999  20.750000  19.650000  20.080000  20.080000  240343800.0\n",
       "2018-05-25  20.650000  21.270000  19.660000  19.799999  19.799999  131188100.0\n",
       "\n",
       "[1345 rows x 6 columns]"
      ]
     },
     "execution_count": 115,
     "metadata": {},
     "output_type": "execute_result"
    }
   ],
   "source": [
    "from datetime import datetime\n",
    "dateparse = lambda dates: datetime.strptime(dates, '%Y-%m-%d')\n",
    "base = pd.read_csv('petr4_treinamento_ex.csv', parse_dates = ['Date'], index_col = 'Date', date_parser = dateparse)\n",
    "base"
   ]
  },
  {
   "cell_type": "code",
   "execution_count": 116,
   "metadata": {},
   "outputs": [
    {
     "data": {
      "text/html": [
       "<div>\n",
       "<style scoped>\n",
       "    .dataframe tbody tr th:only-of-type {\n",
       "        vertical-align: middle;\n",
       "    }\n",
       "\n",
       "    .dataframe tbody tr th {\n",
       "        vertical-align: top;\n",
       "    }\n",
       "\n",
       "    .dataframe thead th {\n",
       "        text-align: right;\n",
       "    }\n",
       "</style>\n",
       "<table border=\"1\" class=\"dataframe\">\n",
       "  <thead>\n",
       "    <tr style=\"text-align: right;\">\n",
       "      <th></th>\n",
       "      <th>Close</th>\n",
       "    </tr>\n",
       "    <tr>\n",
       "      <th>Date</th>\n",
       "      <th></th>\n",
       "    </tr>\n",
       "  </thead>\n",
       "  <tbody>\n",
       "    <tr>\n",
       "      <th>2013-01-02</th>\n",
       "      <td>19.690001</td>\n",
       "    </tr>\n",
       "    <tr>\n",
       "      <th>2013-01-03</th>\n",
       "      <td>20.400000</td>\n",
       "    </tr>\n",
       "    <tr>\n",
       "      <th>2013-01-04</th>\n",
       "      <td>20.430000</td>\n",
       "    </tr>\n",
       "    <tr>\n",
       "      <th>2013-01-07</th>\n",
       "      <td>20.080000</td>\n",
       "    </tr>\n",
       "    <tr>\n",
       "      <th>2013-01-08</th>\n",
       "      <td>19.500000</td>\n",
       "    </tr>\n",
       "    <tr>\n",
       "      <th>...</th>\n",
       "      <td>...</td>\n",
       "    </tr>\n",
       "    <tr>\n",
       "      <th>2018-05-21</th>\n",
       "      <td>25.049999</td>\n",
       "    </tr>\n",
       "    <tr>\n",
       "      <th>2018-05-22</th>\n",
       "      <td>24.709999</td>\n",
       "    </tr>\n",
       "    <tr>\n",
       "      <th>2018-05-23</th>\n",
       "      <td>23.270000</td>\n",
       "    </tr>\n",
       "    <tr>\n",
       "      <th>2018-05-24</th>\n",
       "      <td>20.080000</td>\n",
       "    </tr>\n",
       "    <tr>\n",
       "      <th>2018-05-25</th>\n",
       "      <td>19.799999</td>\n",
       "    </tr>\n",
       "  </tbody>\n",
       "</table>\n",
       "<p>1345 rows × 1 columns</p>\n",
       "</div>"
      ],
      "text/plain": [
       "                Close\n",
       "Date                 \n",
       "2013-01-02  19.690001\n",
       "2013-01-03  20.400000\n",
       "2013-01-04  20.430000\n",
       "2013-01-07  20.080000\n",
       "2013-01-08  19.500000\n",
       "...               ...\n",
       "2018-05-21  25.049999\n",
       "2018-05-22  24.709999\n",
       "2018-05-23  23.270000\n",
       "2018-05-24  20.080000\n",
       "2018-05-25  19.799999\n",
       "\n",
       "[1345 rows x 1 columns]"
      ]
     },
     "execution_count": 116,
     "metadata": {},
     "output_type": "execute_result"
    }
   ],
   "source": [
    "base.drop(columns = ['Open', 'High', 'Low', 'Adj Close', 'Volume'], axis = 1, inplace = True)\n",
    "base"
   ]
  },
  {
   "cell_type": "code",
   "execution_count": 117,
   "metadata": {},
   "outputs": [
    {
     "data": {
      "text/plain": [
       "(1345, 1)"
      ]
     },
     "execution_count": 117,
     "metadata": {},
     "output_type": "execute_result"
    }
   ],
   "source": [
    "base_teste = base.copy()\n",
    "base_teste.shape"
   ]
  },
  {
   "cell_type": "code",
   "execution_count": 118,
   "metadata": {},
   "outputs": [
    {
     "data": {
      "text/html": [
       "<div>\n",
       "<style scoped>\n",
       "    .dataframe tbody tr th:only-of-type {\n",
       "        vertical-align: middle;\n",
       "    }\n",
       "\n",
       "    .dataframe tbody tr th {\n",
       "        vertical-align: top;\n",
       "    }\n",
       "\n",
       "    .dataframe thead th {\n",
       "        text-align: right;\n",
       "    }\n",
       "</style>\n",
       "<table border=\"1\" class=\"dataframe\">\n",
       "  <thead>\n",
       "    <tr style=\"text-align: right;\">\n",
       "      <th></th>\n",
       "      <th>Close</th>\n",
       "    </tr>\n",
       "    <tr>\n",
       "      <th>Date</th>\n",
       "      <th></th>\n",
       "    </tr>\n",
       "  </thead>\n",
       "  <tbody>\n",
       "    <tr>\n",
       "      <th>2013-01-02</th>\n",
       "      <td>19.690001</td>\n",
       "    </tr>\n",
       "    <tr>\n",
       "      <th>2013-01-03</th>\n",
       "      <td>20.400000</td>\n",
       "    </tr>\n",
       "    <tr>\n",
       "      <th>2013-01-04</th>\n",
       "      <td>20.430000</td>\n",
       "    </tr>\n",
       "    <tr>\n",
       "      <th>2013-01-07</th>\n",
       "      <td>20.080000</td>\n",
       "    </tr>\n",
       "    <tr>\n",
       "      <th>2013-01-08</th>\n",
       "      <td>19.500000</td>\n",
       "    </tr>\n",
       "    <tr>\n",
       "      <th>...</th>\n",
       "      <td>...</td>\n",
       "    </tr>\n",
       "    <tr>\n",
       "      <th>2018-04-06</th>\n",
       "      <td>21.280001</td>\n",
       "    </tr>\n",
       "    <tr>\n",
       "      <th>2018-04-09</th>\n",
       "      <td>20.530001</td>\n",
       "    </tr>\n",
       "    <tr>\n",
       "      <th>2018-04-10</th>\n",
       "      <td>21.400000</td>\n",
       "    </tr>\n",
       "    <tr>\n",
       "      <th>2018-04-11</th>\n",
       "      <td>21.799999</td>\n",
       "    </tr>\n",
       "    <tr>\n",
       "      <th>2018-04-12</th>\n",
       "      <td>21.680000</td>\n",
       "    </tr>\n",
       "  </tbody>\n",
       "</table>\n",
       "<p>1315 rows × 1 columns</p>\n",
       "</div>"
      ],
      "text/plain": [
       "                Close\n",
       "Date                 \n",
       "2013-01-02  19.690001\n",
       "2013-01-03  20.400000\n",
       "2013-01-04  20.430000\n",
       "2013-01-07  20.080000\n",
       "2013-01-08  19.500000\n",
       "...               ...\n",
       "2018-04-06  21.280001\n",
       "2018-04-09  20.530001\n",
       "2018-04-10  21.400000\n",
       "2018-04-11  21.799999\n",
       "2018-04-12  21.680000\n",
       "\n",
       "[1315 rows x 1 columns]"
      ]
     },
     "execution_count": 118,
     "metadata": {},
     "output_type": "execute_result"
    }
   ],
   "source": [
    "base_treinamento = base.iloc[0:1315,:]\n",
    "base_treinamento"
   ]
  },
  {
   "cell_type": "code",
   "execution_count": 119,
   "metadata": {},
   "outputs": [
    {
     "data": {
      "text/plain": [
       "(Timestamp('2013-01-02 00:00:00'), Timestamp('2018-04-12 00:00:00'))"
      ]
     },
     "execution_count": 119,
     "metadata": {},
     "output_type": "execute_result"
    }
   ],
   "source": [
    "base_treinamento.index.min(), base_treinamento.index.max()"
   ]
  },
  {
   "cell_type": "code",
   "execution_count": 120,
   "metadata": {},
   "outputs": [
    {
     "data": {
      "text/plain": [
       "(Timestamp('2013-01-02 00:00:00'), Timestamp('2018-05-25 00:00:00'))"
      ]
     },
     "execution_count": 120,
     "metadata": {},
     "output_type": "execute_result"
    }
   ],
   "source": [
    "base_teste.index.min(), base_teste.index.max()"
   ]
  },
  {
   "cell_type": "code",
   "execution_count": 121,
   "metadata": {},
   "outputs": [],
   "source": [
    "dt_data_inicial = pd.Timestamp(\"2013-01-02\", freq = 'D')\n",
    "dt_data_final_treinamento = pd.Timestamp(\"2018-12-04\", freq = 'D')\n",
    "dt_previsao_maxima = pd.Timestamp(\"2018-05-25\", freq = 'D')\n",
    "\n",
    "faixa_treinamento = (dt_data_inicial, dt_data_final_treinamento)\n",
    "faixa_teste = (dt_data_inicial, dt_previsao_maxima)"
   ]
  },
  {
   "cell_type": "code",
   "execution_count": 122,
   "metadata": {},
   "outputs": [
    {
     "data": {
      "text/plain": [
       "(Timestamp('2013-01-02 00:00:00', freq='D'),\n",
       " Timestamp('2018-12-04 00:00:00', freq='D'))"
      ]
     },
     "execution_count": 122,
     "metadata": {},
     "output_type": "execute_result"
    }
   ],
   "source": [
    "faixa_treinamento"
   ]
  },
  {
   "cell_type": "code",
   "execution_count": 123,
   "metadata": {},
   "outputs": [
    {
     "data": {
      "text/plain": [
       "(Timestamp('2013-01-02 00:00:00', freq='D'),\n",
       " Timestamp('2018-05-25 00:00:00', freq='D'))"
      ]
     },
     "execution_count": 123,
     "metadata": {},
     "output_type": "execute_result"
    }
   ],
   "source": [
    "faixa_teste"
   ]
  },
  {
   "cell_type": "code",
   "execution_count": 124,
   "metadata": {},
   "outputs": [],
   "source": [
    "serie_temporal_treinamento = []\n",
    "serie_temporal_teste = []\n",
    "\n",
    "serie_temporal_treinamento.append(base_treinamento[faixa_treinamento[0]:faixa_treinamento[1]]['Close'])\n",
    "serie_temporal_teste.append(base_teste[faixa_teste[0]:faixa_teste[1]]['Close'])"
   ]
  },
  {
   "cell_type": "code",
   "execution_count": 125,
   "metadata": {},
   "outputs": [
    {
     "data": {
      "text/plain": [
       "(list, list)"
      ]
     },
     "execution_count": 125,
     "metadata": {},
     "output_type": "execute_result"
    }
   ],
   "source": [
    "type(serie_temporal_treinamento), type(serie_temporal_teste)"
   ]
  },
  {
   "cell_type": "code",
   "execution_count": 126,
   "metadata": {},
   "outputs": [
    {
     "data": {
      "text/plain": [
       "[Date\n",
       " 2013-01-02    19.690001\n",
       " 2013-01-03    20.400000\n",
       " 2013-01-04    20.430000\n",
       " 2013-01-07    20.080000\n",
       " 2013-01-08    19.500000\n",
       "                 ...    \n",
       " 2018-04-06    21.280001\n",
       " 2018-04-09    20.530001\n",
       " 2018-04-10    21.400000\n",
       " 2018-04-11    21.799999\n",
       " 2018-04-12    21.680000\n",
       " Name: Close, Length: 1315, dtype: float64]"
      ]
     },
     "execution_count": 126,
     "metadata": {},
     "output_type": "execute_result"
    }
   ],
   "source": [
    "serie_temporal_treinamento"
   ]
  },
  {
   "cell_type": "code",
   "execution_count": 127,
   "metadata": {},
   "outputs": [
    {
     "data": {
      "text/plain": [
       "[Date\n",
       " 2013-01-02    19.690001\n",
       " 2013-01-03    20.400000\n",
       " 2013-01-04    20.430000\n",
       " 2013-01-07    20.080000\n",
       " 2013-01-08    19.500000\n",
       "                 ...    \n",
       " 2018-05-21    25.049999\n",
       " 2018-05-22    24.709999\n",
       " 2018-05-23    23.270000\n",
       " 2018-05-24    20.080000\n",
       " 2018-05-25    19.799999\n",
       " Name: Close, Length: 1345, dtype: float64]"
      ]
     },
     "execution_count": 127,
     "metadata": {},
     "output_type": "execute_result"
    }
   ],
   "source": [
    "serie_temporal_teste"
   ]
  },
  {
   "cell_type": "code",
   "execution_count": 128,
   "metadata": {},
   "outputs": [
    {
     "data": {
      "text/plain": [
       "(1315, 1345)"
      ]
     },
     "execution_count": 128,
     "metadata": {},
     "output_type": "execute_result"
    }
   ],
   "source": [
    "len(serie_temporal_treinamento[0]), len(serie_temporal_teste[0])"
   ]
  },
  {
   "cell_type": "code",
   "execution_count": 129,
   "metadata": {},
   "outputs": [
    {
     "data": {
      "image/png": "[encoded data removed]",
      "text/plain": [
       "<Figure size 720x720 with 1 Axes>"
      ]
     },
     "metadata": {
      "needs_background": "light"
     },
     "output_type": "display_data"
    }
   ],
   "source": [
    "plt.figure(figsize=(10,10))\n",
    "serie_temporal_teste[0].plot(label = \"Teste\")\n",
    "serie_temporal_treinamento[0].plot(label = \"Treinamento\")\n",
    "plt.legend()\n",
    "plt.show()"
   ]
  },
  {
   "cell_type": "code",
   "execution_count": 130,
   "metadata": {},
   "outputs": [],
   "source": [
    "def encode_target(ts):\n",
    "    return [x if np.isfinite(x) else \"NaN\" for x in ts]"
   ]
  },
  {
   "cell_type": "code",
   "execution_count": 131,
   "metadata": {},
   "outputs": [
    {
     "data": {
      "text/plain": [
       "[19.690001000000002, 20.4, 20.43, 20.08, 19.5]"
      ]
     },
     "execution_count": 131,
     "metadata": {},
     "output_type": "execute_result"
    }
   ],
   "source": [
    "encode_target(serie_temporal_treinamento[0][0:5])"
   ]
  },
  {
   "cell_type": "code",
   "execution_count": 132,
   "metadata": {},
   "outputs": [],
   "source": [
    "def series_to_obj(ts):\n",
    "    obj = {\"start\": str(ts.index[0]), \"target\": encode_target(ts)}\n",
    "    return obj"
   ]
  },
  {
   "cell_type": "code",
   "execution_count": 133,
   "metadata": {},
   "outputs": [
    {
     "data": {
      "text/plain": [
       "{'start': '2013-01-02 00:00:00',\n",
       " 'target': [19.690001000000002, 20.4, 20.43, 20.08, 19.5]}"
      ]
     },
     "execution_count": 133,
     "metadata": {},
     "output_type": "execute_result"
    }
   ],
   "source": [
    "series_to_obj(serie_temporal_treinamento[0][0:5])"
   ]
  },
  {
   "cell_type": "code",
   "execution_count": 134,
   "metadata": {},
   "outputs": [],
   "source": [
    "def series_to_jsonline(ts):\n",
    "    return json.dumps(series_to_obj(ts))"
   ]
  },
  {
   "cell_type": "code",
   "execution_count": 135,
   "metadata": {},
   "outputs": [
    {
     "data": {
      "text/plain": [
       "'{\"start\": \"2013-01-02 00:00:00\", \"target\": [19.690001000000002, 20.4, 20.43, 20.08, 19.5]}'"
      ]
     },
     "execution_count": 135,
     "metadata": {},
     "output_type": "execute_result"
    }
   ],
   "source": [
    "series_to_jsonline(serie_temporal_treinamento[0][0:5])"
   ]
  },
  {
   "cell_type": "code",
   "execution_count": 136,
   "metadata": {},
   "outputs": [],
   "source": [
    "encoding = 'utf-8'\n",
    "arquivo_json_treinamento = 'train_petr.json'\n",
    "arquivo_json_teste = 'test_petr.json'\n",
    "with open(arquivo_json_treinamento, 'wb') as fp:\n",
    "    for ts in serie_temporal_treinamento:\n",
    "        fp.write(series_to_jsonline(ts).encode(encoding))\n",
    "        fp.write('\\n'.encode(encoding))\n",
    "\n",
    "with open(arquivo_json_teste, 'wb') as fp:\n",
    "    for ts in serie_temporal_teste:\n",
    "        fp.write(series_to_jsonline(ts).encode(encoding))\n",
    "        fp.write('\\n'.encode(encoding))"
   ]
  },
  {
   "cell_type": "markdown",
   "metadata": {},
   "source": [
    "# Configurações do SageMaker"
   ]
  },
  {
   "cell_type": "code",
   "execution_count": 137,
   "metadata": {},
   "outputs": [],
   "source": [
    "import boto3\n",
    "import sagemaker"
   ]
  },
  {
   "cell_type": "code",
   "execution_count": 138,
   "metadata": {},
   "outputs": [
    {
     "name": "stdout",
     "output_type": "stream",
     "text": [
      "Role: arn:aws:iam::936535973187:role/service-role/AmazonSageMaker-ExecutionRole-20220510T125992\n",
      "Localização da base de treinamento: s3://cursoawssagemaker/datasets/petr/train/train_petr.json\n",
      "Localização da base de teste: s3://cursoawssagemaker/datasets/petr/test/test_petr.json\n",
      "Modelo será salvo em: s3://cursoawssagemaker/modelos/petr/deepar/output\n"
     ]
    }
   ],
   "source": [
    "session = sagemaker.Session()\n",
    "role = sagemaker.get_execution_role()\n",
    "job_name = 'deepar-petr'\n",
    "bucket = 'cursoawssagemaker'\n",
    "subpasta_dataset = 'datasets/petr'\n",
    "subpasta_modelo = 'modelos/petr/deepar'\n",
    "s3_train_data = 's3://{}/{}/train/{}'.format(bucket, subpasta_dataset, 'train_petr.json')\n",
    "s3_test_data = 's3://{}/{}/test/{}'.format(bucket, subpasta_dataset, 'test_petr.json')\n",
    "output_location = 's3://{}/{}/output'.format(bucket, subpasta_modelo)\n",
    "\n",
    "print('Role: {}'.format(role))\n",
    "print('Localização da base de treinamento: {}'.format(s3_train_data))\n",
    "print('Localização da base de teste: {}'.format(s3_test_data))\n",
    "print('Modelo será salvo em: {}'.format(output_location))"
   ]
  },
  {
   "cell_type": "code",
   "execution_count": 139,
   "metadata": {},
   "outputs": [],
   "source": [
    "def escreve_s3(arquivo, bucket, nome):\n",
    "    with open(arquivo, 'rb') as f:\n",
    "        return boto3.Session().resource('s3').Bucket(bucket).Object(nome).upload_fileobj(f)"
   ]
  },
  {
   "cell_type": "code",
   "execution_count": 140,
   "metadata": {},
   "outputs": [],
   "source": [
    "escreve_s3('train_petr.json', bucket, os.path.join(subpasta_dataset, 'train', 'train_petr.json'))\n",
    "escreve_s3('test_petr.json', bucket, os.path.join(subpasta_dataset, 'test', 'test_petr.json'))"
   ]
  },
  {
   "cell_type": "markdown",
   "metadata": {},
   "source": [
    "# Treinamento do DeepAR"
   ]
  },
  {
   "cell_type": "code",
   "execution_count": 141,
   "metadata": {},
   "outputs": [],
   "source": [
    "# https://docs.aws.amazon.com/sagemaker/latest/dg/ecr-sa-east-1.html\n",
    "container = sagemaker.image_uris.retrieve(framework = 'forecasting-deepar', region = session.boto_region_name)"
   ]
  },
  {
   "cell_type": "code",
   "execution_count": 142,
   "metadata": {},
   "outputs": [],
   "source": [
    "# https://sagemaker.readthedocs.io/en/stable/api/training/estimators.html\n",
    "# https://github.com/aws-samples/amazon-sagemaker-managed-spot-training/blob/main/xgboost_built_in_managed_spot_training_checkpointing/xgboost_built_in_managed_spot_training_checkpointing.ipynb\n",
    "deepar = sagemaker.estimator.Estimator(image_uri = container,\n",
    "                                       role = role,\n",
    "                                       instance_count = 1,\n",
    "                                       instance_type = 'ml.m5.large',\n",
    "                                       output_path = output_location,\n",
    "                                       sagemaker_session = session,\n",
    "                                       base_job_name = job_name,\n",
    "                                       use_spot_instances = True,\n",
    "                                       max_run = 3600,\n",
    "                                       max_wait = 3600)"
   ]
  },
  {
   "cell_type": "code",
   "execution_count": 143,
   "metadata": {},
   "outputs": [],
   "source": [
    "# https://docs.aws.amazon.com/sagemaker/latest/dg/deepar_hyperparameters.html\n",
    "freq = 'D'\n",
    "prediction_length = 30\n",
    "context_length = 30"
   ]
  },
  {
   "cell_type": "code",
   "execution_count": 145,
   "metadata": {},
   "outputs": [],
   "source": [
    "hyperparametros = {\n",
    "    'time_freq': freq,\n",
    "    'epochs': \"20\",\n",
    "    'context_length': str(context_length),\n",
    "    'prediction_length': str(prediction_length)\n",
    "}"
   ]
  },
  {
   "cell_type": "code",
   "execution_count": 146,
   "metadata": {},
   "outputs": [],
   "source": [
    "deepar.set_hyperparameters(**hyperparametros)"
   ]
  },
  {
   "cell_type": "code",
   "execution_count": 147,
   "metadata": {},
   "outputs": [
    {
     "data": {
      "text/plain": [
       "{'train': 's3://cursoawssagemaker/datasets/petr/train/train_petr.json',\n",
       " 'test': 's3://cursoawssagemaker/datasets/petr/test/test_petr.json'}"
      ]
     },
     "execution_count": 147,
     "metadata": {},
     "output_type": "execute_result"
    }
   ],
   "source": [
    "data_channels = {'train': s3_train_data, 'test': s3_test_data}\n",
    "data_channels"
   ]
  },
  {
   "cell_type": "code",
   "execution_count": 148,
   "metadata": {},
   "outputs": [
    {
     "name": "stdout",
     "output_type": "stream",
     "text": [
      "2022-05-23 17:00:33 Starting - Starting the training job...\n",
      "2022-05-23 17:00:38 Starting - Launching requested ML instancesProfilerReport-1653325232: InProgress\n",
      ".........\n",
      "2022-05-23 17:02:20 Starting - Preparing the instances for training...............\n",
      "2022-05-23 17:04:53 Downloading - Downloading input data...\n",
      "2022-05-23 17:05:33 Training - Training image download completed. Training in progress.\u001b[34mArguments: train\u001b[0m\n",
      "\u001b[34m/opt/amazon/lib/python3.7/site-packages/jsonref.py:8: DeprecationWarning: Using or importing the ABCs from 'collections' instead of from 'collections.abc' is deprecated since Python 3.3,and in 3.9 it will stop working\n",
      "  from collections import Mapping, MutableMapping, Sequence\u001b[0m\n",
      "\u001b[34m[05/23/2022 17:05:29 INFO 139977855199040] Reading default configuration from /opt/amazon/lib/python3.7/site-packages/algorithm/resources/default-input.json: {'_kvstore': 'auto', '_num_gpus': 'auto', '_num_kv_servers': 'auto', '_tuning_objective_metric': '', 'cardinality': 'auto', 'dropout_rate': '0.10', 'early_stopping_patience': '', 'embedding_dimension': '10', 'learning_rate': '0.001', 'likelihood': 'student-t', 'mini_batch_size': '128', 'num_cells': '40', 'num_dynamic_feat': 'auto', 'num_eval_samples': '100', 'num_layers': '2', 'test_quantiles': '[0.1, 0.2, 0.3, 0.4, 0.5, 0.6, 0.7, 0.8, 0.9]'}\u001b[0m\n",
      "\u001b[34m[05/23/2022 17:05:29 INFO 139977855199040] Merging with provided configuration from /opt/ml/input/config/hyperparameters.json: {'prediction_length': '30', 'time_freq': 'D', 'context_length': '30', 'epochs': '20'}\u001b[0m\n",
      "\u001b[34m[05/23/2022 17:05:29 INFO 139977855199040] Final configuration: {'_kvstore': 'auto', '_num_gpus': 'auto', '_num_kv_servers': 'auto', '_tuning_objective_metric': '', 'cardinality': 'auto', 'dropout_rate': '0.10', 'early_stopping_patience': '', 'embedding_dimension': '10', 'learning_rate': '0.001', 'likelihood': 'student-t', 'mini_batch_size': '128', 'num_cells': '40', 'num_dynamic_feat': 'auto', 'num_eval_samples': '100', 'num_layers': '2', 'test_quantiles': '[0.1, 0.2, 0.3, 0.4, 0.5, 0.6, 0.7, 0.8, 0.9]', 'prediction_length': '30', 'time_freq': 'D', 'context_length': '30', 'epochs': '20'}\u001b[0m\n",
      "\u001b[34mProcess 1 is a worker.\u001b[0m\n",
      "\u001b[34m[05/23/2022 17:05:29 INFO 139977855199040] Detected entry point for worker worker\u001b[0m\n",
      "\u001b[34m[05/23/2022 17:05:29 INFO 139977855199040] random_seed is None\u001b[0m\n",
      "\u001b[34m[05/23/2022 17:05:29 INFO 139977855199040] [cardinality=auto] `cat` field was NOT found in the file `/opt/ml/input/data/train/train_petr.json` and will NOT be used for training.\u001b[0m\n",
      "\u001b[34m[05/23/2022 17:05:29 INFO 139977855199040] [num_dynamic_feat=auto] `dynamic_feat` field was NOT found in the file `/opt/ml/input/data/train/train_petr.json` and will NOT be used for training.\u001b[0m\n",
      "\u001b[34m[05/23/2022 17:05:29 INFO 139977855199040] Training set statistics:\u001b[0m\n",
      "\u001b[34m[05/23/2022 17:05:29 INFO 139977855199040] Real time series\u001b[0m\n",
      "\u001b[34m[05/23/2022 17:05:29 INFO 139977855199040] number of time series: 1\u001b[0m\n",
      "\u001b[34m[05/23/2022 17:05:29 INFO 139977855199040] number of observations: 1315\u001b[0m\n",
      "\u001b[34m[05/23/2022 17:05:29 INFO 139977855199040] mean target length: 1315.0\u001b[0m\n",
      "\u001b[34m[05/23/2022 17:05:29 INFO 139977855199040] min/mean/max target: 0.0/14.306752019961976/24.559999465942383\u001b[0m\n",
      "\u001b[34m[05/23/2022 17:05:29 INFO 139977855199040] mean abs(target): 14.306752019961976\u001b[0m\n",
      "\u001b[34m[05/23/2022 17:05:29 INFO 139977855199040] contains missing values: yes (0.2%)\u001b[0m\n",
      "\u001b[34m[05/23/2022 17:05:29 INFO 139977855199040] Small number of time series. Doing 1280 passes over dataset with prob 1.0 per epoch.\u001b[0m\n",
      "\u001b[34m[05/23/2022 17:05:29 INFO 139977855199040] Test set statistics:\u001b[0m\n",
      "\u001b[34m[05/23/2022 17:05:29 INFO 139977855199040] Real time series\u001b[0m\n",
      "\u001b[34m[05/23/2022 17:05:29 INFO 139977855199040] number of time series: 1\u001b[0m\n",
      "\u001b[34m[05/23/2022 17:05:29 INFO 139977855199040] number of observations: 1345\u001b[0m\n",
      "\u001b[34m[05/23/2022 17:05:29 INFO 139977855199040] mean target length: 1345.0\u001b[0m\n",
      "\u001b[34m[05/23/2022 17:05:29 INFO 139977855199040] min/mean/max target: 0.0/14.506534618959108/27.389999389648438\u001b[0m\n",
      "\u001b[34m[05/23/2022 17:05:29 INFO 139977855199040] mean abs(target): 14.506534618959108\u001b[0m\n",
      "\u001b[34m[05/23/2022 17:05:29 INFO 139977855199040] contains missing values: yes (0.2%)\u001b[0m\n",
      "\u001b[34m/opt/amazon/lib/python3.7/site-packages/algorithm/core/date_feature_set.py:44: FutureWarning: weekofyear and week have been deprecated, please use DatetimeIndex.isocalendar().week instead, which returns a Series.  To exactly reproduce the behavior of week and weekofyear and return an Index, you may call pd.Int64Index(idx.isocalendar().week)\n",
      "  return index.weekofyear / 51.0 - 0.5\u001b[0m\n",
      "\u001b[34m[05/23/2022 17:05:29 INFO 139977855199040] #memory_usage::<batchbuffer> = 89.794921875 mb\u001b[0m\n",
      "\u001b[34m[05/23/2022 17:05:29 INFO 139977855199040] nvidia-smi: took 0.029 seconds to run.\u001b[0m\n",
      "\u001b[34m[05/23/2022 17:05:29 INFO 139977855199040] nvidia-smi identified 0 GPUs.\u001b[0m\n",
      "\u001b[34m[05/23/2022 17:05:29 INFO 139977855199040] Number of GPUs being used: 0\u001b[0m\n",
      "\u001b[34m[05/23/2022 17:05:29 INFO 139977855199040] Create Store: local\u001b[0m\n",
      "\u001b[34m#metrics {\"StartTime\": 1653325529.6321151, \"EndTime\": 1653325529.802054, \"Dimensions\": {\"Algorithm\": \"AWS/DeepAR\", \"Host\": \"algo-1\", \"Operation\": \"training\"}, \"Metrics\": {\"get_graph.time\": {\"sum\": 167.87290573120117, \"count\": 1, \"min\": 167.87290573120117, \"max\": 167.87290573120117}}}\u001b[0m\n",
      "\u001b[34m[05/23/2022 17:05:29 INFO 139977855199040] Number of GPUs being used: 0\u001b[0m\n",
      "\u001b[34m[05/23/2022 17:05:30 INFO 139977855199040] #memory_usage::<model> = 39 mb\u001b[0m\n",
      "\u001b[34m#metrics {\"StartTime\": 1653325529.8021414, \"EndTime\": 1653325530.058388, \"Dimensions\": {\"Algorithm\": \"AWS/DeepAR\", \"Host\": \"algo-1\", \"Operation\": \"training\"}, \"Metrics\": {\"initialize.time\": {\"sum\": 426.15294456481934, \"count\": 1, \"min\": 426.15294456481934, \"max\": 426.15294456481934}}}\u001b[0m\n",
      "\u001b[34m[05/23/2022 17:05:31 INFO 139977855199040] Epoch[0] Batch[0] avg_epoch_loss=3.922909\u001b[0m\n",
      "\u001b[34m[05/23/2022 17:05:31 INFO 139977855199040] #quality_metric: host=algo-1, epoch=0, batch=0 train loss <loss>=3.9229085445404053\u001b[0m\n",
      "\u001b[34m[05/23/2022 17:05:32 INFO 139977855199040] Epoch[0] Batch[5] avg_epoch_loss=3.407220\u001b[0m\n",
      "\u001b[34m[05/23/2022 17:05:32 INFO 139977855199040] #quality_metric: host=algo-1, epoch=0, batch=5 train loss <loss>=3.4072200854619346\u001b[0m\n",
      "\u001b[34m[05/23/2022 17:05:32 INFO 139977855199040] Epoch[0] Batch [5]#011Speed: 520.99 samples/sec#011loss=3.407220\u001b[0m\n",
      "\u001b[34m[05/23/2022 17:05:34 INFO 139977855199040] Epoch[0] Batch[10] avg_epoch_loss=3.147438\u001b[0m\n",
      "\u001b[34m[05/23/2022 17:05:34 INFO 139977855199040] #quality_metric: host=algo-1, epoch=0, batch=10 train loss <loss>=2.835700178146362\u001b[0m\n",
      "\u001b[34m[05/23/2022 17:05:34 INFO 139977855199040] Epoch[0] Batch [10]#011Speed: 376.69 samples/sec#011loss=2.835700\u001b[0m\n",
      "\u001b[34m[05/23/2022 17:05:34 INFO 139977855199040] processed a total of 1310 examples\u001b[0m\n",
      "\u001b[34m#metrics {\"StartTime\": 1653325530.058454, \"EndTime\": 1653325534.6187127, \"Dimensions\": {\"Algorithm\": \"AWS/DeepAR\", \"Host\": \"algo-1\", \"Operation\": \"training\"}, \"Metrics\": {\"epochs\": {\"sum\": 20.0, \"count\": 1, \"min\": 20, \"max\": 20}, \"update.time\": {\"sum\": 4560.151100158691, \"count\": 1, \"min\": 4560.151100158691, \"max\": 4560.151100158691}}}\u001b[0m\n",
      "\u001b[34m[05/23/2022 17:05:34 INFO 139977855199040] #throughput_metric: host=algo-1, train throughput=287.2634779849589 records/second\u001b[0m\n",
      "\u001b[34m[05/23/2022 17:05:34 INFO 139977855199040] #progress_metric: host=algo-1, completed 5.0 % of epochs\u001b[0m\n",
      "\u001b[34m[05/23/2022 17:05:34 INFO 139977855199040] #quality_metric: host=algo-1, epoch=0, train loss <loss>=3.147438309409402\u001b[0m\n",
      "\u001b[34m[05/23/2022 17:05:36 INFO 139977855199040] Epoch[1] Batch[0] avg_epoch_loss=2.624073\u001b[0m\n",
      "\u001b[34m[05/23/2022 17:05:36 INFO 139977855199040] #quality_metric: host=algo-1, epoch=1, batch=0 train loss <loss>=2.624072551727295\u001b[0m\n",
      "\u001b[34m[05/23/2022 17:05:37 INFO 139977855199040] Epoch[1] Batch[5] avg_epoch_loss=2.404765\u001b[0m\n",
      "\u001b[34m[05/23/2022 17:05:37 INFO 139977855199040] #quality_metric: host=algo-1, epoch=1, batch=5 train loss <loss>=2.4047652880350747\u001b[0m\n",
      "\u001b[34m[05/23/2022 17:05:37 INFO 139977855199040] Epoch[1] Batch [5]#011Speed: 543.14 samples/sec#011loss=2.404765\u001b[0m\n",
      "\u001b[34m[05/23/2022 17:05:38 INFO 139977855199040] Epoch[1] Batch[10] avg_epoch_loss=2.236802\u001b[0m\n",
      "\u001b[34m[05/23/2022 17:05:38 INFO 139977855199040] #quality_metric: host=algo-1, epoch=1, batch=10 train loss <loss>=2.035246157646179\u001b[0m\n",
      "\u001b[34m[05/23/2022 17:05:38 INFO 139977855199040] Epoch[1] Batch [10]#011Speed: 568.68 samples/sec#011loss=2.035246\u001b[0m\n",
      "\u001b[34m[05/23/2022 17:05:38 INFO 139977855199040] processed a total of 1283 examples\u001b[0m\n",
      "\u001b[34m#metrics {\"StartTime\": 1653325534.6187992, \"EndTime\": 1653325538.7427065, \"Dimensions\": {\"Algorithm\": \"AWS/DeepAR\", \"Host\": \"algo-1\", \"Operation\": \"training\"}, \"Metrics\": {\"update.time\": {\"sum\": 4123.51131439209, \"count\": 1, \"min\": 4123.51131439209, \"max\": 4123.51131439209}}}\u001b[0m\n",
      "\u001b[34m[05/23/2022 17:05:38 INFO 139977855199040] #throughput_metric: host=algo-1, train throughput=311.1353965098759 records/second\u001b[0m\n",
      "\u001b[34m[05/23/2022 17:05:38 INFO 139977855199040] #progress_metric: host=algo-1, completed 10.0 % of epochs\u001b[0m\n",
      "\u001b[34m[05/23/2022 17:05:38 INFO 139977855199040] #quality_metric: host=algo-1, epoch=1, train loss <loss>=2.2368020469492134\u001b[0m\n",
      "\u001b[34m[05/23/2022 17:05:40 INFO 139977855199040] Epoch[2] Batch[0] avg_epoch_loss=1.990146\u001b[0m\n",
      "\u001b[34m[05/23/2022 17:05:40 INFO 139977855199040] #quality_metric: host=algo-1, epoch=2, batch=0 train loss <loss>=1.9901461601257324\u001b[0m\n",
      "\u001b[34m[05/23/2022 17:05:41 INFO 139977855199040] Epoch[2] Batch[5] avg_epoch_loss=1.888478\u001b[0m\n",
      "\u001b[34m[05/23/2022 17:05:41 INFO 139977855199040] #quality_metric: host=algo-1, epoch=2, batch=5 train loss <loss>=1.888478438059489\u001b[0m\n",
      "\u001b[34m[05/23/2022 17:05:41 INFO 139977855199040] Epoch[2] Batch [5]#011Speed: 579.79 samples/sec#011loss=1.888478\u001b[0m\n",
      "\u001b[34m[05/23/2022 17:05:42 INFO 139977855199040] processed a total of 1277 examples\u001b[0m\n",
      "\u001b[34m#metrics {\"StartTime\": 1653325538.7427711, \"EndTime\": 1653325542.183692, \"Dimensions\": {\"Algorithm\": \"AWS/DeepAR\", \"Host\": \"algo-1\", \"Operation\": \"training\"}, \"Metrics\": {\"update.time\": {\"sum\": 3440.3419494628906, \"count\": 1, \"min\": 3440.3419494628906, \"max\": 3440.3419494628906}}}\u001b[0m\n",
      "\u001b[34m[05/23/2022 17:05:42 INFO 139977855199040] #throughput_metric: host=algo-1, train throughput=371.1697057260448 records/second\u001b[0m\n",
      "\u001b[34m[05/23/2022 17:05:42 INFO 139977855199040] #progress_metric: host=algo-1, completed 15.0 % of epochs\u001b[0m\n",
      "\u001b[34m[05/23/2022 17:05:42 INFO 139977855199040] #quality_metric: host=algo-1, epoch=2, train loss <loss>=1.8440879225730895\u001b[0m\n",
      "\u001b[34m[05/23/2022 17:05:43 INFO 139977855199040] Epoch[3] Batch[0] avg_epoch_loss=1.744986\u001b[0m\n",
      "\u001b[34m[05/23/2022 17:05:43 INFO 139977855199040] #quality_metric: host=algo-1, epoch=3, batch=0 train loss <loss>=1.744985580444336\u001b[0m\n",
      "\u001b[34m[05/23/2022 17:05:44 INFO 139977855199040] Epoch[3] Batch[5] avg_epoch_loss=1.764592\u001b[0m\n",
      "\u001b[34m[05/23/2022 17:05:44 INFO 139977855199040] #quality_metric: host=algo-1, epoch=3, batch=5 train loss <loss>=1.7645920515060425\u001b[0m\n",
      "\u001b[34m[05/23/2022 17:05:44 INFO 139977855199040] Epoch[3] Batch [5]#011Speed: 612.69 samples/sec#011loss=1.764592\u001b[0m\n",
      "\u001b[34m[05/23/2022 17:05:45 INFO 139977855199040] processed a total of 1250 examples\u001b[0m\n",
      "\u001b[34m#metrics {\"StartTime\": 1653325542.1837776, \"EndTime\": 1653325545.6856709, \"Dimensions\": {\"Algorithm\": \"AWS/DeepAR\", \"Host\": \"algo-1\", \"Operation\": \"training\"}, \"Metrics\": {\"update.time\": {\"sum\": 3501.3771057128906, \"count\": 1, \"min\": 3501.3771057128906, \"max\": 3501.3771057128906}}}\u001b[0m\n",
      "\u001b[34m[05/23/2022 17:05:45 INFO 139977855199040] #throughput_metric: host=algo-1, train throughput=356.99210888433635 records/second\u001b[0m\n",
      "\u001b[34m[05/23/2022 17:05:45 INFO 139977855199040] #progress_metric: host=algo-1, completed 20.0 % of epochs\u001b[0m\n",
      "\u001b[34m[05/23/2022 17:05:45 INFO 139977855199040] #quality_metric: host=algo-1, epoch=3, train loss <loss>=1.735651934146881\u001b[0m\n",
      "\u001b[34m[05/23/2022 17:05:47 INFO 139977855199040] Epoch[4] Batch[0] avg_epoch_loss=1.623277\u001b[0m\n",
      "\u001b[34m[05/23/2022 17:05:47 INFO 139977855199040] #quality_metric: host=algo-1, epoch=4, batch=0 train loss <loss>=1.623276710510254\u001b[0m\n",
      "\u001b[34m[05/23/2022 17:05:48 INFO 139977855199040] Epoch[4] Batch[5] avg_epoch_loss=1.645977\u001b[0m\n",
      "\u001b[34m[05/23/2022 17:05:48 INFO 139977855199040] #quality_metric: host=algo-1, epoch=4, batch=5 train loss <loss>=1.645977218945821\u001b[0m\n",
      "\u001b[34m[05/23/2022 17:05:48 INFO 139977855199040] Epoch[4] Batch [5]#011Speed: 572.73 samples/sec#011loss=1.645977\u001b[0m\n",
      "\u001b[34m[05/23/2022 17:05:49 INFO 139977855199040] processed a total of 1264 examples\u001b[0m\n",
      "\u001b[34m#metrics {\"StartTime\": 1653325545.6857383, \"EndTime\": 1653325549.1390288, \"Dimensions\": {\"Algorithm\": \"AWS/DeepAR\", \"Host\": \"algo-1\", \"Operation\": \"training\"}, \"Metrics\": {\"update.time\": {\"sum\": 3452.5070190429688, \"count\": 1, \"min\": 3452.5070190429688, \"max\": 3452.5070190429688}}}\u001b[0m\n",
      "\u001b[34m[05/23/2022 17:05:49 INFO 139977855199040] #throughput_metric: host=algo-1, train throughput=366.0998979787303 records/second\u001b[0m\n",
      "\u001b[34m[05/23/2022 17:05:49 INFO 139977855199040] #progress_metric: host=algo-1, completed 25.0 % of epochs\u001b[0m\n",
      "\u001b[34m[05/23/2022 17:05:49 INFO 139977855199040] #quality_metric: host=algo-1, epoch=4, train loss <loss>=1.6310061931610107\u001b[0m\n",
      "\u001b[34m[05/23/2022 17:05:50 INFO 139977855199040] Epoch[5] Batch[0] avg_epoch_loss=1.507413\u001b[0m\n",
      "\u001b[34m[05/23/2022 17:05:50 INFO 139977855199040] #quality_metric: host=algo-1, epoch=5, batch=0 train loss <loss>=1.5074127912521362\u001b[0m\n",
      "\u001b[34m[05/23/2022 17:05:51 INFO 139977855199040] Epoch[5] Batch[5] avg_epoch_loss=1.521935\u001b[0m\n",
      "\u001b[34m[05/23/2022 17:05:51 INFO 139977855199040] #quality_metric: host=algo-1, epoch=5, batch=5 train loss <loss>=1.5219350655873616\u001b[0m\n",
      "\u001b[34m[05/23/2022 17:05:51 INFO 139977855199040] Epoch[5] Batch [5]#011Speed: 619.52 samples/sec#011loss=1.521935\u001b[0m\n",
      "\u001b[34m[05/23/2022 17:05:52 INFO 139977855199040] Epoch[5] Batch[10] avg_epoch_loss=1.507136\u001b[0m\n",
      "\u001b[34m[05/23/2022 17:05:52 INFO 139977855199040] #quality_metric: host=algo-1, epoch=5, batch=10 train loss <loss>=1.4893767356872558\u001b[0m\n",
      "\u001b[34m[05/23/2022 17:05:52 INFO 139977855199040] Epoch[5] Batch [10]#011Speed: 544.56 samples/sec#011loss=1.489377\u001b[0m\n",
      "\u001b[34m[05/23/2022 17:05:52 INFO 139977855199040] processed a total of 1298 examples\u001b[0m\n",
      "\u001b[34m#metrics {\"StartTime\": 1653325549.139097, \"EndTime\": 1653325552.9134274, \"Dimensions\": {\"Algorithm\": \"AWS/DeepAR\", \"Host\": \"algo-1\", \"Operation\": \"training\"}, \"Metrics\": {\"update.time\": {\"sum\": 3773.7741470336914, \"count\": 1, \"min\": 3773.7741470336914, \"max\": 3773.7741470336914}}}\u001b[0m\n",
      "\u001b[34m[05/23/2022 17:05:52 INFO 139977855199040] #throughput_metric: host=algo-1, train throughput=343.9429728306734 records/second\u001b[0m\n",
      "\u001b[34m[05/23/2022 17:05:52 INFO 139977855199040] #progress_metric: host=algo-1, completed 30.0 % of epochs\u001b[0m\n",
      "\u001b[34m[05/23/2022 17:05:52 INFO 139977855199040] #quality_metric: host=algo-1, epoch=5, train loss <loss>=1.5071358247236772\u001b[0m\n",
      "\u001b[34m[05/23/2022 17:05:54 INFO 139977855199040] Epoch[6] Batch[0] avg_epoch_loss=1.566180\u001b[0m\n",
      "\u001b[34m[05/23/2022 17:05:54 INFO 139977855199040] #quality_metric: host=algo-1, epoch=6, batch=0 train loss <loss>=1.5661801099777222\u001b[0m\n",
      "\u001b[34m[05/23/2022 17:05:55 INFO 139977855199040] Epoch[6] Batch[5] avg_epoch_loss=1.475430\u001b[0m\n",
      "\u001b[34m[05/23/2022 17:05:55 INFO 139977855199040] #quality_metric: host=algo-1, epoch=6, batch=5 train loss <loss>=1.4754300713539124\u001b[0m\n",
      "\u001b[34m[05/23/2022 17:05:55 INFO 139977855199040] Epoch[6] Batch [5]#011Speed: 612.58 samples/sec#011loss=1.475430\u001b[0m\n",
      "\u001b[34m[05/23/2022 17:05:56 INFO 139977855199040] Epoch[6] Batch[10] avg_epoch_loss=1.476789\u001b[0m\n",
      "\u001b[34m[05/23/2022 17:05:56 INFO 139977855199040] #quality_metric: host=algo-1, epoch=6, batch=10 train loss <loss>=1.4784199953079225\u001b[0m\n",
      "\u001b[34m[05/23/2022 17:05:56 INFO 139977855199040] Epoch[6] Batch [10]#011Speed: 476.71 samples/sec#011loss=1.478420\u001b[0m\n",
      "\u001b[34m[05/23/2022 17:05:56 INFO 139977855199040] processed a total of 1307 examples\u001b[0m\n",
      "\u001b[34m#metrics {\"StartTime\": 1653325552.9135, \"EndTime\": 1653325556.7645626, \"Dimensions\": {\"Algorithm\": \"AWS/DeepAR\", \"Host\": \"algo-1\", \"Operation\": \"training\"}, \"Metrics\": {\"update.time\": {\"sum\": 3850.595712661743, \"count\": 1, \"min\": 3850.595712661743, \"max\": 3850.595712661743}}}\u001b[0m\n",
      "\u001b[34m[05/23/2022 17:05:56 INFO 139977855199040] #throughput_metric: host=algo-1, train throughput=339.4196142299335 records/second\u001b[0m\n",
      "\u001b[34m[05/23/2022 17:05:56 INFO 139977855199040] #progress_metric: host=algo-1, completed 35.0 % of epochs\u001b[0m\n",
      "\u001b[34m[05/23/2022 17:05:56 INFO 139977855199040] #quality_metric: host=algo-1, epoch=6, train loss <loss>=1.4767891276966443\u001b[0m\n",
      "\u001b[34m[05/23/2022 17:05:58 INFO 139977855199040] Epoch[7] Batch[0] avg_epoch_loss=1.729313\u001b[0m\n",
      "\u001b[34m[05/23/2022 17:05:58 INFO 139977855199040] #quality_metric: host=algo-1, epoch=7, batch=0 train loss <loss>=1.7293134927749634\u001b[0m\n",
      "\u001b[34m[05/23/2022 17:05:59 INFO 139977855199040] Epoch[7] Batch[5] avg_epoch_loss=1.544215\u001b[0m\n",
      "\u001b[34m[05/23/2022 17:05:59 INFO 139977855199040] #quality_metric: host=algo-1, epoch=7, batch=5 train loss <loss>=1.544215162595113\u001b[0m\n",
      "\u001b[34m[05/23/2022 17:05:59 INFO 139977855199040] Epoch[7] Batch [5]#011Speed: 610.59 samples/sec#011loss=1.544215\u001b[0m\n",
      "\u001b[34m[05/23/2022 17:06:00 INFO 139977855199040] processed a total of 1269 examples\u001b[0m\n",
      "\u001b[34m#metrics {\"StartTime\": 1653325556.764625, \"EndTime\": 1653325560.499241, \"Dimensions\": {\"Algorithm\": \"AWS/DeepAR\", \"Host\": \"algo-1\", \"Operation\": \"training\"}, \"Metrics\": {\"update.time\": {\"sum\": 3733.928680419922, \"count\": 1, \"min\": 3733.928680419922, \"max\": 3733.928680419922}}}\u001b[0m\n",
      "\u001b[34m[05/23/2022 17:06:00 INFO 139977855199040] #throughput_metric: host=algo-1, train throughput=339.84742579182745 records/second\u001b[0m\n",
      "\u001b[34m[05/23/2022 17:06:00 INFO 139977855199040] #progress_metric: host=algo-1, completed 40.0 % of epochs\u001b[0m\n",
      "\u001b[34m[05/23/2022 17:06:00 INFO 139977855199040] #quality_metric: host=algo-1, epoch=7, train loss <loss>=1.5130235314369203\u001b[0m\n",
      "\u001b[34m[05/23/2022 17:06:02 INFO 139977855199040] Epoch[8] Batch[0] avg_epoch_loss=1.457322\u001b[0m\n",
      "\u001b[34m[05/23/2022 17:06:02 INFO 139977855199040] #quality_metric: host=algo-1, epoch=8, batch=0 train loss <loss>=1.4573224782943726\u001b[0m\n",
      "\u001b[34m[05/23/2022 17:06:03 INFO 139977855199040] Epoch[8] Batch[5] avg_epoch_loss=1.457210\u001b[0m\n",
      "\u001b[34m[05/23/2022 17:06:03 INFO 139977855199040] #quality_metric: host=algo-1, epoch=8, batch=5 train loss <loss>=1.457210123538971\u001b[0m\n",
      "\u001b[34m[05/23/2022 17:06:03 INFO 139977855199040] Epoch[8] Batch [5]#011Speed: 372.28 samples/sec#011loss=1.457210\u001b[0m\n",
      "\u001b[34m[05/23/2022 17:06:05 INFO 139977855199040] processed a total of 1275 examples\u001b[0m\n",
      "\u001b[34m#metrics {\"StartTime\": 1653325560.4993086, \"EndTime\": 1653325565.1995256, \"Dimensions\": {\"Algorithm\": \"AWS/DeepAR\", \"Host\": \"algo-1\", \"Operation\": \"training\"}, \"Metrics\": {\"update.time\": {\"sum\": 4699.465990066528, \"count\": 1, \"min\": 4699.465990066528, \"max\": 4699.465990066528}}}\u001b[0m\n",
      "\u001b[34m[05/23/2022 17:06:05 INFO 139977855199040] #throughput_metric: host=algo-1, train throughput=271.3007872421089 records/second\u001b[0m\n",
      "\u001b[34m[05/23/2022 17:06:05 INFO 139977855199040] #progress_metric: host=algo-1, completed 45.0 % of epochs\u001b[0m\n",
      "\u001b[34m[05/23/2022 17:06:05 INFO 139977855199040] #quality_metric: host=algo-1, epoch=8, train loss <loss>=1.422937536239624\u001b[0m\n",
      "\u001b[34m[05/23/2022 17:06:07 INFO 139977855199040] Epoch[9] Batch[0] avg_epoch_loss=1.383083\u001b[0m\n",
      "\u001b[34m[05/23/2022 17:06:07 INFO 139977855199040] #quality_metric: host=algo-1, epoch=9, batch=0 train loss <loss>=1.3830832242965698\u001b[0m\n",
      "\u001b[34m[05/23/2022 17:06:08 INFO 139977855199040] Epoch[9] Batch[5] avg_epoch_loss=1.348087\u001b[0m\n",
      "\u001b[34m[05/23/2022 17:06:08 INFO 139977855199040] #quality_metric: host=algo-1, epoch=9, batch=5 train loss <loss>=1.3480872511863708\u001b[0m\n",
      "\u001b[34m[05/23/2022 17:06:08 INFO 139977855199040] Epoch[9] Batch [5]#011Speed: 611.74 samples/sec#011loss=1.348087\u001b[0m\n",
      "\u001b[34m[05/23/2022 17:06:09 INFO 139977855199040] Epoch[9] Batch[10] avg_epoch_loss=1.325148\u001b[0m\n",
      "\u001b[34m[05/23/2022 17:06:09 INFO 139977855199040] #quality_metric: host=algo-1, epoch=9, batch=10 train loss <loss>=1.2976203441619873\u001b[0m\n",
      "\u001b[34m[05/23/2022 17:06:09 INFO 139977855199040] Epoch[9] Batch [10]#011Speed: 550.80 samples/sec#011loss=1.297620\u001b[0m\n",
      "\u001b[34m[05/23/2022 17:06:09 INFO 139977855199040] processed a total of 1289 examples\u001b[0m\n",
      "\u001b[34m#metrics {\"StartTime\": 1653325565.199601, \"EndTime\": 1653325569.2744596, \"Dimensions\": {\"Algorithm\": \"AWS/DeepAR\", \"Host\": \"algo-1\", \"Operation\": \"training\"}, \"Metrics\": {\"update.time\": {\"sum\": 4074.434995651245, \"count\": 1, \"min\": 4074.434995651245, \"max\": 4074.434995651245}}}\u001b[0m\n",
      "\u001b[34m[05/23/2022 17:06:09 INFO 139977855199040] #throughput_metric: host=algo-1, train throughput=316.3480179485088 records/second\u001b[0m\n",
      "\u001b[34m[05/23/2022 17:06:09 INFO 139977855199040] #progress_metric: host=algo-1, completed 50.0 % of epochs\u001b[0m\n",
      "\u001b[34m[05/23/2022 17:06:09 INFO 139977855199040] #quality_metric: host=algo-1, epoch=9, train loss <loss>=1.3251477479934692\u001b[0m\n",
      "\u001b[34m[05/23/2022 17:06:10 INFO 139977855199040] Epoch[10] Batch[0] avg_epoch_loss=1.465208\u001b[0m\n",
      "\u001b[34m[05/23/2022 17:06:10 INFO 139977855199040] #quality_metric: host=algo-1, epoch=10, batch=0 train loss <loss>=1.4652079343795776\u001b[0m\n",
      "\u001b[34m[05/23/2022 17:06:11 INFO 139977855199040] Epoch[10] Batch[5] avg_epoch_loss=1.455539\u001b[0m\n",
      "\u001b[34m[05/23/2022 17:06:11 INFO 139977855199040] #quality_metric: host=algo-1, epoch=10, batch=5 train loss <loss>=1.4555385907491047\u001b[0m\n",
      "\u001b[34m[05/23/2022 17:06:11 INFO 139977855199040] Epoch[10] Batch [5]#011Speed: 618.31 samples/sec#011loss=1.455539\u001b[0m\n",
      "\u001b[34m[05/23/2022 17:06:12 INFO 139977855199040] processed a total of 1226 examples\u001b[0m\n",
      "\u001b[34m#metrics {\"StartTime\": 1653325569.2745202, \"EndTime\": 1653325572.6891558, \"Dimensions\": {\"Algorithm\": \"AWS/DeepAR\", \"Host\": \"algo-1\", \"Operation\": \"training\"}, \"Metrics\": {\"update.time\": {\"sum\": 3414.0546321868896, \"count\": 1, \"min\": 3414.0546321868896, \"max\": 3414.0546321868896}}}\u001b[0m\n",
      "\u001b[34m[05/23/2022 17:06:12 INFO 139977855199040] #throughput_metric: host=algo-1, train throughput=359.0931195643802 records/second\u001b[0m\n",
      "\u001b[34m[05/23/2022 17:06:12 INFO 139977855199040] #progress_metric: host=algo-1, completed 55.0 % of epochs\u001b[0m\n",
      "\u001b[34m[05/23/2022 17:06:12 INFO 139977855199040] #quality_metric: host=algo-1, epoch=10, train loss <loss>=1.4201116561889648\u001b[0m\n",
      "\u001b[34m[05/23/2022 17:06:14 INFO 139977855199040] Epoch[11] Batch[0] avg_epoch_loss=1.252555\u001b[0m\n",
      "\u001b[34m[05/23/2022 17:06:14 INFO 139977855199040] #quality_metric: host=algo-1, epoch=11, batch=0 train loss <loss>=1.2525553703308105\u001b[0m\n",
      "\u001b[34m[05/23/2022 17:06:15 INFO 139977855199040] Epoch[11] Batch[5] avg_epoch_loss=1.309882\u001b[0m\n",
      "\u001b[34m[05/23/2022 17:06:15 INFO 139977855199040] #quality_metric: host=algo-1, epoch=11, batch=5 train loss <loss>=1.3098817865053813\u001b[0m\n",
      "\u001b[34m[05/23/2022 17:06:15 INFO 139977855199040] Epoch[11] Batch [5]#011Speed: 608.52 samples/sec#011loss=1.309882\u001b[0m\n",
      "\u001b[34m[05/23/2022 17:06:16 INFO 139977855199040] Epoch[11] Batch[10] avg_epoch_loss=1.305206\u001b[0m\n",
      "\u001b[34m[05/23/2022 17:06:16 INFO 139977855199040] #quality_metric: host=algo-1, epoch=11, batch=10 train loss <loss>=1.2995959758758544\u001b[0m\n",
      "\u001b[34m[05/23/2022 17:06:16 INFO 139977855199040] Epoch[11] Batch [10]#011Speed: 576.29 samples/sec#011loss=1.299596\u001b[0m\n",
      "\u001b[34m[05/23/2022 17:06:16 INFO 139977855199040] processed a total of 1296 examples\u001b[0m\n",
      "\u001b[34m#metrics {\"StartTime\": 1653325572.6892228, \"EndTime\": 1653325576.3564508, \"Dimensions\": {\"Algorithm\": \"AWS/DeepAR\", \"Host\": \"algo-1\", \"Operation\": \"training\"}, \"Metrics\": {\"update.time\": {\"sum\": 3666.7444705963135, \"count\": 1, \"min\": 3666.7444705963135, \"max\": 3666.7444705963135}}}\u001b[0m\n",
      "\u001b[34m[05/23/2022 17:06:16 INFO 139977855199040] #throughput_metric: host=algo-1, train throughput=353.4367270507136 records/second\u001b[0m\n",
      "\u001b[34m[05/23/2022 17:06:16 INFO 139977855199040] #progress_metric: host=algo-1, completed 60.0 % of epochs\u001b[0m\n",
      "\u001b[34m[05/23/2022 17:06:16 INFO 139977855199040] #quality_metric: host=algo-1, epoch=11, train loss <loss>=1.3052064180374146\u001b[0m\n",
      "\u001b[34m[05/23/2022 17:06:17 INFO 139977855199040] Epoch[12] Batch[0] avg_epoch_loss=1.301403\u001b[0m\n",
      "\u001b[34m[05/23/2022 17:06:17 INFO 139977855199040] #quality_metric: host=algo-1, epoch=12, batch=0 train loss <loss>=1.3014034032821655\u001b[0m\n",
      "\u001b[34m[05/23/2022 17:06:18 INFO 139977855199040] Epoch[12] Batch[5] avg_epoch_loss=1.284180\u001b[0m\n",
      "\u001b[34m[05/23/2022 17:06:18 INFO 139977855199040] #quality_metric: host=algo-1, epoch=12, batch=5 train loss <loss>=1.284179925918579\u001b[0m\n",
      "\u001b[34m[05/23/2022 17:06:18 INFO 139977855199040] Epoch[12] Batch [5]#011Speed: 610.19 samples/sec#011loss=1.284180\u001b[0m\n",
      "\u001b[34m[05/23/2022 17:06:20 INFO 139977855199040] Epoch[12] Batch[10] avg_epoch_loss=1.235800\u001b[0m\n",
      "\u001b[34m[05/23/2022 17:06:20 INFO 139977855199040] #quality_metric: host=algo-1, epoch=12, batch=10 train loss <loss>=1.1777430176734924\u001b[0m\n",
      "\u001b[34m[05/23/2022 17:06:20 INFO 139977855199040] Epoch[12] Batch [10]#011Speed: 540.25 samples/sec#011loss=1.177743\u001b[0m\n",
      "\u001b[34m[05/23/2022 17:06:20 INFO 139977855199040] processed a total of 1318 examples\u001b[0m\n",
      "\u001b[34m#metrics {\"StartTime\": 1653325576.3565245, \"EndTime\": 1653325580.0363357, \"Dimensions\": {\"Algorithm\": \"AWS/DeepAR\", \"Host\": \"algo-1\", \"Operation\": \"training\"}, \"Metrics\": {\"update.time\": {\"sum\": 3679.384469985962, \"count\": 1, \"min\": 3679.384469985962, \"max\": 3679.384469985962}}}\u001b[0m\n",
      "\u001b[34m[05/23/2022 17:06:20 INFO 139977855199040] #throughput_metric: host=algo-1, train throughput=358.19941666570014 records/second\u001b[0m\n",
      "\u001b[34m[05/23/2022 17:06:20 INFO 139977855199040] #progress_metric: host=algo-1, completed 65.0 % of epochs\u001b[0m\n",
      "\u001b[34m[05/23/2022 17:06:20 INFO 139977855199040] #quality_metric: host=algo-1, epoch=12, train loss <loss>=1.2357995130799033\u001b[0m\n",
      "\u001b[34m[05/23/2022 17:06:21 INFO 139977855199040] Epoch[13] Batch[0] avg_epoch_loss=1.352601\u001b[0m\n",
      "\u001b[34m[05/23/2022 17:06:21 INFO 139977855199040] #quality_metric: host=algo-1, epoch=13, batch=0 train loss <loss>=1.352601170539856\u001b[0m\n",
      "\u001b[34m[05/23/2022 17:06:22 INFO 139977855199040] Epoch[13] Batch[5] avg_epoch_loss=1.268369\u001b[0m\n",
      "\u001b[34m[05/23/2022 17:06:22 INFO 139977855199040] #quality_metric: host=algo-1, epoch=13, batch=5 train loss <loss>=1.268369436264038\u001b[0m\n",
      "\u001b[34m[05/23/2022 17:06:22 INFO 139977855199040] Epoch[13] Batch [5]#011Speed: 613.13 samples/sec#011loss=1.268369\u001b[0m\n",
      "\u001b[34m[05/23/2022 17:06:23 INFO 139977855199040] processed a total of 1223 examples\u001b[0m\n",
      "\u001b[34m#metrics {\"StartTime\": 1653325580.036413, \"EndTime\": 1653325583.4387898, \"Dimensions\": {\"Algorithm\": \"AWS/DeepAR\", \"Host\": \"algo-1\", \"Operation\": \"training\"}, \"Metrics\": {\"update.time\": {\"sum\": 3401.867628097534, \"count\": 1, \"min\": 3401.867628097534, \"max\": 3401.867628097534}}}\u001b[0m\n",
      "\u001b[34m[05/23/2022 17:06:23 INFO 139977855199040] #throughput_metric: host=algo-1, train throughput=359.4976955463676 records/second\u001b[0m\n",
      "\u001b[34m[05/23/2022 17:06:23 INFO 139977855199040] #progress_metric: host=algo-1, completed 70.0 % of epochs\u001b[0m\n",
      "\u001b[34m[05/23/2022 17:06:23 INFO 139977855199040] #quality_metric: host=algo-1, epoch=13, train loss <loss>=1.2450687050819398\u001b[0m\n",
      "\u001b[34m[05/23/2022 17:06:24 INFO 139977855199040] Epoch[14] Batch[0] avg_epoch_loss=1.180106\u001b[0m\n",
      "\u001b[34m[05/23/2022 17:06:24 INFO 139977855199040] #quality_metric: host=algo-1, epoch=14, batch=0 train loss <loss>=1.1801058053970337\u001b[0m\n",
      "\u001b[34m[05/23/2022 17:06:26 INFO 139977855199040] Epoch[14] Batch[5] avg_epoch_loss=1.185295\u001b[0m\n",
      "\u001b[34m[05/23/2022 17:06:26 INFO 139977855199040] #quality_metric: host=algo-1, epoch=14, batch=5 train loss <loss>=1.1852946480115254\u001b[0m\n",
      "\u001b[34m[05/23/2022 17:06:26 INFO 139977855199040] Epoch[14] Batch [5]#011Speed: 576.91 samples/sec#011loss=1.185295\u001b[0m\n",
      "\u001b[34m[05/23/2022 17:06:27 INFO 139977855199040] Epoch[14] Batch[10] avg_epoch_loss=1.182013\u001b[0m\n",
      "\u001b[34m[05/23/2022 17:06:27 INFO 139977855199040] #quality_metric: host=algo-1, epoch=14, batch=10 train loss <loss>=1.1780754566192626\u001b[0m\n",
      "\u001b[34m[05/23/2022 17:06:27 INFO 139977855199040] Epoch[14] Batch [10]#011Speed: 485.44 samples/sec#011loss=1.178075\u001b[0m\n",
      "\u001b[34m[05/23/2022 17:06:27 INFO 139977855199040] processed a total of 1284 examples\u001b[0m\n",
      "\u001b[34m#metrics {\"StartTime\": 1653325583.4388587, \"EndTime\": 1653325587.3915405, \"Dimensions\": {\"Algorithm\": \"AWS/DeepAR\", \"Host\": \"algo-1\", \"Operation\": \"training\"}, \"Metrics\": {\"update.time\": {\"sum\": 3952.10337638855, \"count\": 1, \"min\": 3952.10337638855, \"max\": 3952.10337638855}}}\u001b[0m\n",
      "\u001b[34m[05/23/2022 17:06:27 INFO 139977855199040] #throughput_metric: host=algo-1, train throughput=324.8791939187142 records/second\u001b[0m\n",
      "\u001b[34m[05/23/2022 17:06:27 INFO 139977855199040] #progress_metric: host=algo-1, completed 75.0 % of epochs\u001b[0m\n",
      "\u001b[34m[05/23/2022 17:06:27 INFO 139977855199040] #quality_metric: host=algo-1, epoch=14, train loss <loss>=1.1820131973786787\u001b[0m\n",
      "\u001b[34m[05/23/2022 17:06:28 INFO 139977855199040] Epoch[15] Batch[0] avg_epoch_loss=1.215858\u001b[0m\n",
      "\u001b[34m[05/23/2022 17:06:28 INFO 139977855199040] #quality_metric: host=algo-1, epoch=15, batch=0 train loss <loss>=1.2158584594726562\u001b[0m\n",
      "\u001b[34m[05/23/2022 17:06:29 INFO 139977855199040] Epoch[15] Batch[5] avg_epoch_loss=1.184726\u001b[0m\n",
      "\u001b[34m[05/23/2022 17:06:29 INFO 139977855199040] #quality_metric: host=algo-1, epoch=15, batch=5 train loss <loss>=1.1847255229949951\u001b[0m\n",
      "\u001b[34m[05/23/2022 17:06:29 INFO 139977855199040] Epoch[15] Batch [5]#011Speed: 568.41 samples/sec#011loss=1.184726\u001b[0m\n",
      "\u001b[34m[05/23/2022 17:06:31 INFO 139977855199040] Epoch[15] Batch[10] avg_epoch_loss=1.185201\u001b[0m\n",
      "\u001b[34m[05/23/2022 17:06:31 INFO 139977855199040] #quality_metric: host=algo-1, epoch=15, batch=10 train loss <loss>=1.1857708930969237\u001b[0m\n",
      "\u001b[34m[05/23/2022 17:06:31 INFO 139977855199040] Epoch[15] Batch [10]#011Speed: 582.78 samples/sec#011loss=1.185771\u001b[0m\n",
      "\u001b[34m[05/23/2022 17:06:31 INFO 139977855199040] processed a total of 1296 examples\u001b[0m\n",
      "\u001b[34m#metrics {\"StartTime\": 1653325587.3916423, \"EndTime\": 1653325591.0757568, \"Dimensions\": {\"Algorithm\": \"AWS/DeepAR\", \"Host\": \"algo-1\", \"Operation\": \"training\"}, \"Metrics\": {\"update.time\": {\"sum\": 3683.5505962371826, \"count\": 1, \"min\": 3683.5505962371826, \"max\": 3683.5505962371826}}}\u001b[0m\n",
      "\u001b[34m[05/23/2022 17:06:31 INFO 139977855199040] #throughput_metric: host=algo-1, train throughput=351.82349726337395 records/second\u001b[0m\n",
      "\u001b[34m[05/23/2022 17:06:31 INFO 139977855199040] #progress_metric: host=algo-1, completed 80.0 % of epochs\u001b[0m\n",
      "\u001b[34m[05/23/2022 17:06:31 INFO 139977855199040] #quality_metric: host=algo-1, epoch=15, train loss <loss>=1.1852006912231445\u001b[0m\n",
      "\u001b[34m[05/23/2022 17:06:32 INFO 139977855199040] Epoch[16] Batch[0] avg_epoch_loss=1.521557\u001b[0m\n",
      "\u001b[34m[05/23/2022 17:06:32 INFO 139977855199040] #quality_metric: host=algo-1, epoch=16, batch=0 train loss <loss>=1.5215572118759155\u001b[0m\n",
      "\u001b[34m[05/23/2022 17:06:33 INFO 139977855199040] Epoch[16] Batch[5] avg_epoch_loss=1.325539\u001b[0m\n",
      "\u001b[34m[05/23/2022 17:06:33 INFO 139977855199040] #quality_metric: host=algo-1, epoch=16, batch=5 train loss <loss>=1.3255385756492615\u001b[0m\n",
      "\u001b[34m[05/23/2022 17:06:33 INFO 139977855199040] Epoch[16] Batch [5]#011Speed: 614.09 samples/sec#011loss=1.325539\u001b[0m\n",
      "\u001b[34m[05/23/2022 17:06:34 INFO 139977855199040] Epoch[16] Batch[10] avg_epoch_loss=1.263043\u001b[0m\n",
      "\u001b[34m[05/23/2022 17:06:34 INFO 139977855199040] #quality_metric: host=algo-1, epoch=16, batch=10 train loss <loss>=1.1880478382110595\u001b[0m\n",
      "\u001b[34m[05/23/2022 17:06:34 INFO 139977855199040] Epoch[16] Batch [10]#011Speed: 584.95 samples/sec#011loss=1.188048\u001b[0m\n",
      "\u001b[34m[05/23/2022 17:06:34 INFO 139977855199040] processed a total of 1286 examples\u001b[0m\n",
      "\u001b[34m#metrics {\"StartTime\": 1653325591.0758362, \"EndTime\": 1653325594.7411096, \"Dimensions\": {\"Algorithm\": \"AWS/DeepAR\", \"Host\": \"algo-1\", \"Operation\": \"training\"}, \"Metrics\": {\"update.time\": {\"sum\": 3664.8972034454346, \"count\": 1, \"min\": 3664.8972034454346, \"max\": 3664.8972034454346}}}\u001b[0m\n",
      "\u001b[34m[05/23/2022 17:06:34 INFO 139977855199040] #throughput_metric: host=algo-1, train throughput=350.8815204229619 records/second\u001b[0m\n",
      "\u001b[34m[05/23/2022 17:06:34 INFO 139977855199040] #progress_metric: host=algo-1, completed 85.0 % of epochs\u001b[0m\n",
      "\u001b[34m[05/23/2022 17:06:34 INFO 139977855199040] #quality_metric: host=algo-1, epoch=16, train loss <loss>=1.2630427859046243\u001b[0m\n",
      "\u001b[34m[05/23/2022 17:06:36 INFO 139977855199040] Epoch[17] Batch[0] avg_epoch_loss=1.397998\u001b[0m\n",
      "\u001b[34m[05/23/2022 17:06:36 INFO 139977855199040] #quality_metric: host=algo-1, epoch=17, batch=0 train loss <loss>=1.3979976177215576\u001b[0m\n",
      "\u001b[34m[05/23/2022 17:06:37 INFO 139977855199040] Epoch[17] Batch[5] avg_epoch_loss=1.397666\u001b[0m\n",
      "\u001b[34m[05/23/2022 17:06:37 INFO 139977855199040] #quality_metric: host=algo-1, epoch=17, batch=5 train loss <loss>=1.3976657787958782\u001b[0m\n",
      "\u001b[34m[05/23/2022 17:06:37 INFO 139977855199040] Epoch[17] Batch [5]#011Speed: 618.04 samples/sec#011loss=1.397666\u001b[0m\n",
      "\u001b[34m[05/23/2022 17:06:38 INFO 139977855199040] processed a total of 1219 examples\u001b[0m\n",
      "\u001b[34m#metrics {\"StartTime\": 1653325594.7412298, \"EndTime\": 1653325598.1900408, \"Dimensions\": {\"Algorithm\": \"AWS/DeepAR\", \"Host\": \"algo-1\", \"Operation\": \"training\"}, \"Metrics\": {\"update.time\": {\"sum\": 3448.241949081421, \"count\": 1, \"min\": 3448.241949081421, \"max\": 3448.241949081421}}}\u001b[0m\n",
      "\u001b[34m[05/23/2022 17:06:38 INFO 139977855199040] #throughput_metric: host=algo-1, train throughput=353.49822516511966 records/second\u001b[0m\n",
      "\u001b[34m[05/23/2022 17:06:38 INFO 139977855199040] #progress_metric: host=algo-1, completed 90.0 % of epochs\u001b[0m\n",
      "\u001b[34m[05/23/2022 17:06:38 INFO 139977855199040] #quality_metric: host=algo-1, epoch=17, train loss <loss>=1.3501306891441345\u001b[0m\n",
      "\u001b[34m[05/23/2022 17:06:39 INFO 139977855199040] Epoch[18] Batch[0] avg_epoch_loss=1.300137\u001b[0m\n",
      "\u001b[34m[05/23/2022 17:06:39 INFO 139977855199040] #quality_metric: host=algo-1, epoch=18, batch=0 train loss <loss>=1.3001368045806885\u001b[0m\n",
      "\u001b[34m[05/23/2022 17:06:40 INFO 139977855199040] Epoch[18] Batch[5] avg_epoch_loss=1.202995\u001b[0m\n",
      "\u001b[34m[05/23/2022 17:06:40 INFO 139977855199040] #quality_metric: host=algo-1, epoch=18, batch=5 train loss <loss>=1.202995200951894\u001b[0m\n",
      "\u001b[34m[05/23/2022 17:06:40 INFO 139977855199040] Epoch[18] Batch [5]#011Speed: 586.24 samples/sec#011loss=1.202995\u001b[0m\n",
      "\u001b[34m[05/23/2022 17:06:41 INFO 139977855199040] Epoch[18] Batch[10] avg_epoch_loss=1.197795\u001b[0m\n",
      "\u001b[34m[05/23/2022 17:06:41 INFO 139977855199040] #quality_metric: host=algo-1, epoch=18, batch=10 train loss <loss>=1.1915540933609008\u001b[0m\n",
      "\u001b[34m[05/23/2022 17:06:41 INFO 139977855199040] Epoch[18] Batch [10]#011Speed: 561.78 samples/sec#011loss=1.191554\u001b[0m\n",
      "\u001b[34m[05/23/2022 17:06:41 INFO 139977855199040] processed a total of 1337 examples\u001b[0m\n",
      "\u001b[34m#metrics {\"StartTime\": 1653325598.1901534, \"EndTime\": 1653325601.833979, \"Dimensions\": {\"Algorithm\": \"AWS/DeepAR\", \"Host\": \"algo-1\", \"Operation\": \"training\"}, \"Metrics\": {\"update.time\": {\"sum\": 3643.2485580444336, \"count\": 1, \"min\": 3643.2485580444336, \"max\": 3643.2485580444336}}}\u001b[0m\n",
      "\u001b[34m[05/23/2022 17:06:41 INFO 139977855199040] #throughput_metric: host=algo-1, train throughput=366.9693941127287 records/second\u001b[0m\n",
      "\u001b[34m[05/23/2022 17:06:41 INFO 139977855199040] #progress_metric: host=algo-1, completed 95.0 % of epochs\u001b[0m\n",
      "\u001b[34m[05/23/2022 17:06:41 INFO 139977855199040] #quality_metric: host=algo-1, epoch=18, train loss <loss>=1.1977946975014426\u001b[0m\n",
      "\u001b[34m[05/23/2022 17:06:43 INFO 139977855199040] Epoch[19] Batch[0] avg_epoch_loss=1.155152\u001b[0m\n",
      "\u001b[34m[05/23/2022 17:06:43 INFO 139977855199040] #quality_metric: host=algo-1, epoch=19, batch=0 train loss <loss>=1.155152440071106\u001b[0m\n",
      "\u001b[34m[05/23/2022 17:06:44 INFO 139977855199040] Epoch[19] Batch[5] avg_epoch_loss=1.102109\u001b[0m\n",
      "\u001b[34m[05/23/2022 17:06:44 INFO 139977855199040] #quality_metric: host=algo-1, epoch=19, batch=5 train loss <loss>=1.1021088163057964\u001b[0m\n",
      "\u001b[34m[05/23/2022 17:06:44 INFO 139977855199040] Epoch[19] Batch [5]#011Speed: 608.52 samples/sec#011loss=1.102109\u001b[0m\n",
      "\u001b[34m[05/23/2022 17:06:45 INFO 139977855199040] processed a total of 1257 examples\u001b[0m\n",
      "\u001b[34m#metrics {\"StartTime\": 1653325601.8340526, \"EndTime\": 1653325605.2618783, \"Dimensions\": {\"Algorithm\": \"AWS/DeepAR\", \"Host\": \"algo-1\", \"Operation\": \"training\"}, \"Metrics\": {\"update.time\": {\"sum\": 3427.4544715881348, \"count\": 1, \"min\": 3427.4544715881348, \"max\": 3427.4544715881348}}}\u001b[0m\n",
      "\u001b[34m[05/23/2022 17:06:45 INFO 139977855199040] #throughput_metric: host=algo-1, train throughput=366.7315439383435 records/second\u001b[0m\n",
      "\u001b[34m[05/23/2022 17:06:45 INFO 139977855199040] #progress_metric: host=algo-1, completed 100.0 % of epochs\u001b[0m\n",
      "\u001b[34m[05/23/2022 17:06:45 INFO 139977855199040] #quality_metric: host=algo-1, epoch=19, train loss <loss>=1.0997637867927552\u001b[0m\n",
      "\u001b[34m[05/23/2022 17:06:45 INFO 139977855199040] Final loss: 1.0997637867927552 (occurred at epoch 19)\u001b[0m\n",
      "\u001b[34m[05/23/2022 17:06:45 INFO 139977855199040] #quality_metric: host=algo-1, train final_loss <loss>=1.0997637867927552\u001b[0m\n",
      "\u001b[34m[05/23/2022 17:06:45 INFO 139977855199040] Worker algo-1 finished training.\u001b[0m\n",
      "\u001b[34m[05/23/2022 17:06:45 WARNING 139977855199040] wait_for_all_workers will not sync workers since the kv store is not running distributed\u001b[0m\n",
      "\u001b[34m[05/23/2022 17:06:45 INFO 139977855199040] All workers finished. Serializing model for prediction.\u001b[0m\n",
      "\u001b[34m#metrics {\"StartTime\": 1653325605.2619474, \"EndTime\": 1653325605.5305152, \"Dimensions\": {\"Algorithm\": \"AWS/DeepAR\", \"Host\": \"algo-1\", \"Operation\": \"training\"}, \"Metrics\": {\"get_graph.time\": {\"sum\": 267.3320770263672, \"count\": 1, \"min\": 267.3320770263672, \"max\": 267.3320770263672}}}\u001b[0m\n",
      "\u001b[34m[05/23/2022 17:06:45 INFO 139977855199040] Number of GPUs being used: 0\u001b[0m\n",
      "\u001b[34m#metrics {\"StartTime\": 1653325605.5305939, \"EndTime\": 1653325605.615308, \"Dimensions\": {\"Algorithm\": \"AWS/DeepAR\", \"Host\": \"algo-1\", \"Operation\": \"training\"}, \"Metrics\": {\"finalize.time\": {\"sum\": 352.17976570129395, \"count\": 1, \"min\": 352.17976570129395, \"max\": 352.17976570129395}}}\u001b[0m\n",
      "\u001b[34m[05/23/2022 17:06:45 INFO 139977855199040] Serializing to /opt/ml/model/model_algo-1\u001b[0m\n",
      "\u001b[34m[05/23/2022 17:06:45 INFO 139977855199040] Saved checkpoint to \"/opt/ml/model/model_algo-1-0000.params\"\u001b[0m\n",
      "\u001b[34m#metrics {\"StartTime\": 1653325605.6153748, \"EndTime\": 1653325605.6291606, \"Dimensions\": {\"Algorithm\": \"AWS/DeepAR\", \"Host\": \"algo-1\", \"Operation\": \"training\"}, \"Metrics\": {\"model.serialize.time\": {\"sum\": 13.742446899414062, \"count\": 1, \"min\": 13.742446899414062, \"max\": 13.742446899414062}}}\u001b[0m\n",
      "\u001b[34m[05/23/2022 17:06:45 INFO 139977855199040] Successfully serialized the model for prediction.\u001b[0m\n",
      "\u001b[34m[05/23/2022 17:06:45 INFO 139977855199040] #memory_usage::<batchbuffer> = 89.794921875 mb\u001b[0m\n",
      "\u001b[34m[05/23/2022 17:06:45 INFO 139977855199040] Evaluating model accuracy on testset using 100 samples\u001b[0m\n",
      "\u001b[34m#metrics {\"StartTime\": 1653325605.6292155, \"EndTime\": 1653325605.6349616, \"Dimensions\": {\"Algorithm\": \"AWS/DeepAR\", \"Host\": \"algo-1\", \"Operation\": \"training\"}, \"Metrics\": {\"model.bind.time\": {\"sum\": 0.04220008850097656, \"count\": 1, \"min\": 0.04220008850097656, \"max\": 0.04220008850097656}}}\u001b[0m\n",
      "\u001b[34m#metrics {\"StartTime\": 1653325605.6350267, \"EndTime\": 1653325609.804566, \"Dimensions\": {\"Algorithm\": \"AWS/DeepAR\", \"Host\": \"algo-1\", \"Operation\": \"training\"}, \"Metrics\": {\"model.score.time\": {\"sum\": 4169.672727584839, \"count\": 1, \"min\": 4169.672727584839, \"max\": 4169.672727584839}}}\u001b[0m\n",
      "\u001b[34m[05/23/2022 17:06:49 INFO 139977855199040] #test_score (algo-1, RMSE): 3.6235684078246537\u001b[0m\n",
      "\u001b[34m[05/23/2022 17:06:49 INFO 139977855199040] #test_score (algo-1, mean_absolute_QuantileLoss): 76.44107288784451\u001b[0m\n",
      "\u001b[34m[05/23/2022 17:06:49 INFO 139977855199040] #test_score (algo-1, mean_wQuantileLoss): 0.10952853872147096\u001b[0m\n",
      "\u001b[34m[05/23/2022 17:06:49 INFO 139977855199040] #test_score (algo-1, wQuantileLoss[0.1]): 0.03646262505620026\u001b[0m\n",
      "\u001b[34m[05/23/2022 17:06:49 INFO 139977855199040] #test_score (algo-1, wQuantileLoss[0.2]): 0.06387166636684458\u001b[0m\n",
      "\u001b[34m[05/23/2022 17:06:49 INFO 139977855199040] #test_score (algo-1, wQuantileLoss[0.3]): 0.08693759418268777\u001b[0m\n",
      "\u001b[34m[05/23/2022 17:06:49 INFO 139977855199040] #test_score (algo-1, wQuantileLoss[0.4]): 0.10686513576955613\u001b[0m\n",
      "\u001b[34m[05/23/2022 17:06:49 INFO 139977855199040] #test_score (algo-1, wQuantileLoss[0.5]): 0.12383624447169322\u001b[0m\n",
      "\u001b[34m[05/23/2022 17:06:49 INFO 139977855199040] #test_score (algo-1, wQuantileLoss[0.6]): 0.13657412913781808\u001b[0m\n",
      "\u001b[34m[05/23/2022 17:06:49 INFO 139977855199040] #test_score (algo-1, wQuantileLoss[0.7]): 0.14559953350627688\u001b[0m\n",
      "\u001b[34m[05/23/2022 17:06:49 INFO 139977855199040] #test_score (algo-1, wQuantileLoss[0.8]): 0.14966262472387434\u001b[0m\n",
      "\u001b[34m[05/23/2022 17:06:49 INFO 139977855199040] #test_score (algo-1, wQuantileLoss[0.9]): 0.13594729527828747\u001b[0m\n",
      "\u001b[34m[05/23/2022 17:06:49 INFO 139977855199040] #quality_metric: host=algo-1, test RMSE <loss>=3.6235684078246537\u001b[0m\n",
      "\u001b[34m[05/23/2022 17:06:49 INFO 139977855199040] #quality_metric: host=algo-1, test mean_wQuantileLoss <loss>=0.10952853872147096\u001b[0m\n",
      "\u001b[34m#metrics {\"StartTime\": 1653325609.8046384, \"EndTime\": 1653325609.832891, \"Dimensions\": {\"Algorithm\": \"AWS/DeepAR\", \"Host\": \"algo-1\", \"Operation\": \"training\"}, \"Metrics\": {\"setuptime\": {\"sum\": 6.981134414672852, \"count\": 1, \"min\": 6.981134414672852, \"max\": 6.981134414672852}, \"totaltime\": {\"sum\": 80474.83038902283, \"count\": 1, \"min\": 80474.83038902283, \"max\": 80474.83038902283}}}\u001b[0m\n",
      "\n",
      "2022-05-23 17:06:58 Uploading - Uploading generated training model\n",
      "2022-05-23 17:06:58 Completed - Training job completed\n",
      "Training seconds: 141\n",
      "Billable seconds: 39\n",
      "Managed Spot Training savings: 72.3%\n"
     ]
    }
   ],
   "source": [
    "deepar.fit(inputs = data_channels)"
   ]
  },
  {
   "cell_type": "markdown",
   "metadata": {},
   "source": [
    "# Deploy e previsões"
   ]
  },
  {
   "cell_type": "code",
   "execution_count": 149,
   "metadata": {},
   "outputs": [
    {
     "name": "stdout",
     "output_type": "stream",
     "text": [
      "Job name:  deepar-petr-2022-05-23-17-00-32-832\n"
     ]
    }
   ],
   "source": [
    "job_name = deepar.latest_training_job.name\n",
    "print('Job name: ', job_name)"
   ]
  },
  {
   "cell_type": "code",
   "execution_count": 150,
   "metadata": {},
   "outputs": [
    {
     "name": "stdout",
     "output_type": "stream",
     "text": [
      "------!"
     ]
    }
   ],
   "source": [
    "endpoint = session.endpoint_from_job(job_name = job_name,\n",
    "                                     initial_instance_count = 1,\n",
    "                                     instance_type = \"ml.m5.large\",\n",
    "                                     image_uri = container,\n",
    "                                     role = role)"
   ]
  },
  {
   "cell_type": "code",
   "execution_count": 151,
   "metadata": {},
   "outputs": [
    {
     "name": "stdout",
     "output_type": "stream",
     "text": [
      "Endpoint:  deepar-petr-2022-05-23-17-00-32-832\n"
     ]
    }
   ],
   "source": [
    "print('Endpoint: ', endpoint)"
   ]
  },
  {
   "cell_type": "code",
   "execution_count": 152,
   "metadata": {},
   "outputs": [],
   "source": [
    "class DeepARPredictor(sagemaker.predictor.Predictor):\n",
    "\n",
    "    def set_prediction_parameters(self, freq, prediction_length):\n",
    "        \"\"\"Set the time frequency and prediction length parameters. \n",
    "          This method **must** be called before being able to use `predict`.\n",
    "        \n",
    "        Parameters:\n",
    "        freq -- string indicating the time frequency\n",
    "        prediction_length -- integer, number of predicted time points\n",
    "        \n",
    "        Return value: none.\n",
    "        \"\"\"\n",
    "        self.freq = freq\n",
    "        self.prediction_length = prediction_length\n",
    "        \n",
    "    def predict(self, ts, cat=None, dynamic_feat=None, \n",
    "                encoding=\"utf-8\", num_samples=100, quantiles=[\"0.1\", \"0.5\", \"0.9\"]):\n",
    "        \"\"\"Requests the prediction of for the time series listed in `ts`, \n",
    "           each with the (optional) corresponding category listed in `cat`.\n",
    "        \n",
    "        Parameters:\n",
    "        ts -- list of `pandas.Series` objects, the time series to predict\n",
    "        cat -- list of integers (default: None)\n",
    "        encoding -- string, encoding to use for the request (default: \"utf-8\")\n",
    "        num_samples -- integer, number of samples to compute at prediction time (default: 100)\n",
    "        quantiles -- list of strings specifying the quantiles to compute (default: [\"0.1\", \"0.5\", \"0.9\"])\n",
    "        \n",
    "        Return value: list of `pandas.DataFrame` objects, each containing the predictions\n",
    "        \"\"\"\n",
    "        prediction_times = [x.index[-1] + datetime.timedelta(hours=1) for x in ts] \n",
    "        \n",
    "        req = self.__encode_request(ts, cat, dynamic_feat, encoding, num_samples, quantiles)\n",
    "        res = super(DeepARPredictor, self).predict(req)\n",
    "        return self.__decode_response(res, prediction_times, encoding)\n",
    "    \n",
    "    def __encode_request(self, ts, cat, dynamic_feat, encoding, num_samples, quantiles):\n",
    "        \n",
    "        instances = [series_to_obj(ts[k]) for k in range(len(ts))]\n",
    "        \n",
    "        configuration = {\"num_samples\": num_samples, \"output_types\": [\"quantiles\"], \"quantiles\": quantiles}\n",
    "        http_request_data = {\"instances\": instances, \"configuration\": configuration}\n",
    "        return json.dumps(http_request_data).encode(encoding)\n",
    "    \n",
    "    def __decode_response(self, response, prediction_times, encoding):\n",
    "        response_data = json.loads(response.decode(encoding))\n",
    "        list_of_df = []\n",
    "        for k in range(len(prediction_times)):\n",
    "            prediction_index = pd.date_range(start=prediction_times[k], freq=self.freq, periods=self.prediction_length)\n",
    "            list_of_df.append(pd.DataFrame(data=response_data['predictions'][k]['quantiles'], index=prediction_index))\n",
    "        return list_of_df"
   ]
  },
  {
   "cell_type": "code",
   "execution_count": 161,
   "metadata": {},
   "outputs": [],
   "source": [
    "predictor = DeepARPredictor(endpoint_name = 'deepar-petr-2022-05-23-17-00-32-832',\n",
    "                            sagemaker_session = session)\n",
    "predictor.set_prediction_parameters(freq, prediction_length)\n",
    "predictor.serializer.content_type = \"application/json\""
   ]
  },
  {
   "cell_type": "code",
   "execution_count": 162,
   "metadata": {},
   "outputs": [],
   "source": [
    "import datetime\n",
    "previsoes = predictor.predict(serie_temporal_treinamento)"
   ]
  },
  {
   "cell_type": "code",
   "execution_count": 163,
   "metadata": {},
   "outputs": [
    {
     "data": {
      "text/plain": [
       "30"
      ]
     },
     "execution_count": 163,
     "metadata": {},
     "output_type": "execute_result"
    }
   ],
   "source": [
    "len(previsoes[0])"
   ]
  },
  {
   "cell_type": "code",
   "execution_count": 164,
   "metadata": {},
   "outputs": [
    {
     "data": {
      "text/plain": [
       "[                           0.1        0.5        0.9\n",
       " 2018-04-12 01:00:00  19.278898  20.684435  21.863482\n",
       " 2018-04-13 01:00:00  19.765545  20.829336  22.108738\n",
       " 2018-04-14 01:00:00  20.115017  21.190989  22.223921\n",
       " 2018-04-15 01:00:00  20.202723  21.144527  22.384226\n",
       " 2018-04-16 01:00:00  20.030758  21.057205  22.168596\n",
       " 2018-04-17 01:00:00  19.832987  21.007435  22.097286\n",
       " 2018-04-18 01:00:00  19.405567  20.487400  21.997610\n",
       " 2018-04-19 01:00:00  19.436800  20.668272  21.887428\n",
       " 2018-04-20 01:00:00  19.694939  20.522020  21.840136\n",
       " 2018-04-21 01:00:00  19.441772  20.701813  22.046097\n",
       " 2018-04-22 01:00:00  19.201241  20.489050  22.341951\n",
       " 2018-04-23 01:00:00  19.121647  20.663950  22.052366\n",
       " 2018-04-24 01:00:00  19.348005  20.567875  22.208429\n",
       " 2018-04-25 01:00:00  19.536900  20.676506  22.369541\n",
       " 2018-04-26 01:00:00  19.268723  20.467371  21.704317\n",
       " 2018-04-27 01:00:00  19.101480  20.312243  21.715670\n",
       " 2018-04-28 01:00:00  19.155380  20.532227  21.848728\n",
       " 2018-04-29 01:00:00  19.092113  20.355665  21.919231\n",
       " 2018-04-30 01:00:00  19.123556  20.418535  21.805103\n",
       " 2018-05-01 01:00:00  18.683357  20.231625  21.813831\n",
       " 2018-05-02 01:00:00  18.807280  20.114338  21.806829\n",
       " 2018-05-03 01:00:00  18.339703  20.013718  21.534117\n",
       " 2018-05-04 01:00:00  18.667791  20.176519  21.610344\n",
       " 2018-05-05 01:00:00  18.688007  20.175472  22.196709\n",
       " 2018-05-06 01:00:00  18.957535  20.038982  21.324520\n",
       " 2018-05-07 01:00:00  18.548985  19.945215  21.262197\n",
       " 2018-05-08 01:00:00  18.296921  19.829130  21.459927\n",
       " 2018-05-09 01:00:00  18.569368  20.015963  21.180878\n",
       " 2018-05-10 01:00:00  18.134983  19.689137  21.646713\n",
       " 2018-05-11 01:00:00  17.823471  19.565243  20.966238]"
      ]
     },
     "execution_count": 164,
     "metadata": {},
     "output_type": "execute_result"
    }
   ],
   "source": [
    "previsoes"
   ]
  },
  {
   "cell_type": "code",
   "execution_count": 165,
   "metadata": {},
   "outputs": [
    {
     "data": {
      "image/png": "[encoded data removed]",
      "text/plain": [
       "<Figure size 864x432 with 1 Axes>"
      ]
     },
     "metadata": {
      "needs_background": "light"
     },
     "output_type": "display_data"
    }
   ],
   "source": [
    "for k in range(len(previsoes)):\n",
    "    plt.figure(figsize=(12,6))\n",
    "    previsoes[k]['0.5'].plot(label = 'Mediana', color = 'red')\n",
    "    #serie_temporal_teste[k].plot(label = 'Alvo')\n",
    "    serie_temporal_teste[k][-prediction_length - context_length:].plot(label = 'Alvo')\n",
    "    p10 = previsoes[k]['0.1']\n",
    "    p90 = previsoes[k]['0.9']\n",
    "    plt.fill_between(p10.index, p10, p90, color = 'y', alpha = 0.5, label = 'Intervalo de confiança')\n",
    "    plt.legend()\n",
    "    plt.show()"
   ]
  },
  {
   "cell_type": "code",
   "execution_count": 166,
   "metadata": {},
   "outputs": [
    {
     "data": {
      "text/plain": [
       "30"
      ]
     },
     "execution_count": 166,
     "metadata": {},
     "output_type": "execute_result"
    }
   ],
   "source": [
    "df_teste = base.iloc[1315:,:]\n",
    "len(df_teste)"
   ]
  },
  {
   "cell_type": "code",
   "execution_count": 167,
   "metadata": {},
   "outputs": [
    {
     "data": {
      "text/html": [
       "<div>\n",
       "<style scoped>\n",
       "    .dataframe tbody tr th:only-of-type {\n",
       "        vertical-align: middle;\n",
       "    }\n",
       "\n",
       "    .dataframe tbody tr th {\n",
       "        vertical-align: top;\n",
       "    }\n",
       "\n",
       "    .dataframe thead th {\n",
       "        text-align: right;\n",
       "    }\n",
       "</style>\n",
       "<table border=\"1\" class=\"dataframe\">\n",
       "  <thead>\n",
       "    <tr style=\"text-align: right;\">\n",
       "      <th></th>\n",
       "      <th>Close</th>\n",
       "    </tr>\n",
       "    <tr>\n",
       "      <th>Date</th>\n",
       "      <th></th>\n",
       "    </tr>\n",
       "  </thead>\n",
       "  <tbody>\n",
       "    <tr>\n",
       "      <th>2018-04-13</th>\n",
       "      <td>21.200001</td>\n",
       "    </tr>\n",
       "    <tr>\n",
       "      <th>2018-04-16</th>\n",
       "      <td>20.620001</td>\n",
       "    </tr>\n",
       "    <tr>\n",
       "      <th>2018-04-17</th>\n",
       "      <td>21.030001</td>\n",
       "    </tr>\n",
       "    <tr>\n",
       "      <th>2018-04-18</th>\n",
       "      <td>21.799999</td>\n",
       "    </tr>\n",
       "    <tr>\n",
       "      <th>2018-04-19</th>\n",
       "      <td>22.200001</td>\n",
       "    </tr>\n",
       "    <tr>\n",
       "      <th>2018-04-20</th>\n",
       "      <td>22.360001</td>\n",
       "    </tr>\n",
       "    <tr>\n",
       "      <th>2018-04-23</th>\n",
       "      <td>22.480000</td>\n",
       "    </tr>\n",
       "    <tr>\n",
       "      <th>2018-04-24</th>\n",
       "      <td>22.400000</td>\n",
       "    </tr>\n",
       "    <tr>\n",
       "      <th>2018-04-25</th>\n",
       "      <td>21.730000</td>\n",
       "    </tr>\n",
       "    <tr>\n",
       "      <th>2018-04-26</th>\n",
       "      <td>22.629999</td>\n",
       "    </tr>\n",
       "    <tr>\n",
       "      <th>2018-04-27</th>\n",
       "      <td>22.709999</td>\n",
       "    </tr>\n",
       "    <tr>\n",
       "      <th>2018-04-30</th>\n",
       "      <td>22.969999</td>\n",
       "    </tr>\n",
       "    <tr>\n",
       "      <th>2018-05-02</th>\n",
       "      <td>22.600000</td>\n",
       "    </tr>\n",
       "    <tr>\n",
       "      <th>2018-05-03</th>\n",
       "      <td>22.450001</td>\n",
       "    </tr>\n",
       "    <tr>\n",
       "      <th>2018-05-04</th>\n",
       "      <td>22.270000</td>\n",
       "    </tr>\n",
       "    <tr>\n",
       "      <th>2018-05-07</th>\n",
       "      <td>22.650000</td>\n",
       "    </tr>\n",
       "    <tr>\n",
       "      <th>2018-05-08</th>\n",
       "      <td>22.910000</td>\n",
       "    </tr>\n",
       "    <tr>\n",
       "      <th>2018-05-09</th>\n",
       "      <td>24.780001</td>\n",
       "    </tr>\n",
       "    <tr>\n",
       "      <th>2018-05-10</th>\n",
       "      <td>25.750000</td>\n",
       "    </tr>\n",
       "    <tr>\n",
       "      <th>2018-05-11</th>\n",
       "      <td>25.440001</td>\n",
       "    </tr>\n",
       "    <tr>\n",
       "      <th>2018-05-14</th>\n",
       "      <td>26.240000</td>\n",
       "    </tr>\n",
       "    <tr>\n",
       "      <th>2018-05-15</th>\n",
       "      <td>26.790001</td>\n",
       "    </tr>\n",
       "    <tr>\n",
       "      <th>2018-05-16</th>\n",
       "      <td>27.389999</td>\n",
       "    </tr>\n",
       "    <tr>\n",
       "      <th>2018-05-17</th>\n",
       "      <td>25.950001</td>\n",
       "    </tr>\n",
       "    <tr>\n",
       "      <th>2018-05-18</th>\n",
       "      <td>25.650000</td>\n",
       "    </tr>\n",
       "    <tr>\n",
       "      <th>2018-05-21</th>\n",
       "      <td>25.049999</td>\n",
       "    </tr>\n",
       "    <tr>\n",
       "      <th>2018-05-22</th>\n",
       "      <td>24.709999</td>\n",
       "    </tr>\n",
       "    <tr>\n",
       "      <th>2018-05-23</th>\n",
       "      <td>23.270000</td>\n",
       "    </tr>\n",
       "    <tr>\n",
       "      <th>2018-05-24</th>\n",
       "      <td>20.080000</td>\n",
       "    </tr>\n",
       "    <tr>\n",
       "      <th>2018-05-25</th>\n",
       "      <td>19.799999</td>\n",
       "    </tr>\n",
       "  </tbody>\n",
       "</table>\n",
       "</div>"
      ],
      "text/plain": [
       "                Close\n",
       "Date                 \n",
       "2018-04-13  21.200001\n",
       "2018-04-16  20.620001\n",
       "2018-04-17  21.030001\n",
       "2018-04-18  21.799999\n",
       "2018-04-19  22.200001\n",
       "2018-04-20  22.360001\n",
       "2018-04-23  22.480000\n",
       "2018-04-24  22.400000\n",
       "2018-04-25  21.730000\n",
       "2018-04-26  22.629999\n",
       "2018-04-27  22.709999\n",
       "2018-04-30  22.969999\n",
       "2018-05-02  22.600000\n",
       "2018-05-03  22.450001\n",
       "2018-05-04  22.270000\n",
       "2018-05-07  22.650000\n",
       "2018-05-08  22.910000\n",
       "2018-05-09  24.780001\n",
       "2018-05-10  25.750000\n",
       "2018-05-11  25.440001\n",
       "2018-05-14  26.240000\n",
       "2018-05-15  26.790001\n",
       "2018-05-16  27.389999\n",
       "2018-05-17  25.950001\n",
       "2018-05-18  25.650000\n",
       "2018-05-21  25.049999\n",
       "2018-05-22  24.709999\n",
       "2018-05-23  23.270000\n",
       "2018-05-24  20.080000\n",
       "2018-05-25  19.799999"
      ]
     },
     "execution_count": 167,
     "metadata": {},
     "output_type": "execute_result"
    }
   ],
   "source": [
    "df_teste"
   ]
  },
  {
   "cell_type": "code",
   "execution_count": 168,
   "metadata": {},
   "outputs": [
    {
     "data": {
      "text/plain": [
       "array([20.68443489, 20.82933617, 21.19098854, 21.14452744, 21.0572052 ,\n",
       "       21.00743484, 20.48740005, 20.66827202, 20.52202034, 20.70181274,\n",
       "       20.48904991, 20.66394997, 20.56787491, 20.67650604, 20.46737099,\n",
       "       20.31224251, 20.53222656, 20.35566521, 20.41853523, 20.2316246 ,\n",
       "       20.11433792, 20.01371765, 20.17651939, 20.17547226, 20.03898239,\n",
       "       19.94521523, 19.82913017, 20.0159626 , 19.68913651, 19.56524277])"
      ]
     },
     "execution_count": 168,
     "metadata": {},
     "output_type": "execute_result"
    }
   ],
   "source": [
    "previsoes2 = previsoes[0]['0.5'].values\n",
    "previsoes2"
   ]
  },
  {
   "cell_type": "code",
   "execution_count": 169,
   "metadata": {},
   "outputs": [
    {
     "data": {
      "text/plain": [
       "array([21.200001, 20.620001, 21.030001, 21.799999, 22.200001, 22.360001,\n",
       "       22.48    , 22.4     , 21.73    , 22.629999, 22.709999, 22.969999,\n",
       "       22.6     , 22.450001, 22.27    , 22.65    , 22.91    , 24.780001,\n",
       "       25.75    , 25.440001, 26.24    , 26.790001, 27.389999, 25.950001,\n",
       "       25.65    , 25.049999, 24.709999, 23.27    , 20.08    , 19.799999])"
      ]
     },
     "execution_count": 169,
     "metadata": {},
     "output_type": "execute_result"
    }
   ],
   "source": [
    "esperado = df_teste['Close'].values\n",
    "esperado"
   ]
  },
  {
   "cell_type": "code",
   "execution_count": 170,
   "metadata": {},
   "outputs": [
    {
     "name": "stdout",
     "output_type": "stream",
     "text": [
      "MAE:  2.869281745376667 \n",
      "MSE:  12.801675781433648\n"
     ]
    }
   ],
   "source": [
    "from sklearn.metrics import mean_absolute_error, mean_squared_error\n",
    "mae = mean_absolute_error(esperado, previsoes2)\n",
    "mse = mean_squared_error(esperado, previsoes2)\n",
    "print('MAE: ', mae, '\\nMSE: ', mse)"
   ]
  },
  {
   "cell_type": "code",
   "execution_count": null,
   "metadata": {},
   "outputs": [],
   "source": []
  }
 ],
 "metadata": {
  "instance_type": "ml.t3.medium",
  "kernelspec": {
   "display_name": "Python 3",
   "language": "python",
   "name": "python3"
  },
  "language_info": {
   "codemirror_mode": {
    "name": "ipython",
    "version": 3
   },
   "file_extension": ".py",
   "mimetype": "text/x-python",
   "name": "python",
   "nbconvert_exporter": "python",
   "pygments_lexer": "ipython3",
   "version": "3.8.8"
  }
 },
 "nbformat": 4,
 "nbformat_minor": 4
}
