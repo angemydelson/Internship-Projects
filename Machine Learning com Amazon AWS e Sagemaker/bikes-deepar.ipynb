{
 "cells": [
  {
   "cell_type": "markdown",
   "metadata": {},
   "source": [
    "# Tratamento da base de dados"
   ]
  },
  {
   "cell_type": "code",
   "execution_count": 87,
   "metadata": {},
   "outputs": [],
   "source": [
    "# Baseado em https://github.com/ChandraLingam/AmazonSageMakerCourse/tree/master/DeepAR/BikeRental\n",
    "import pandas as pd\n",
    "import matplotlib.pyplot as plt\n",
    "%matplotlib inline\n",
    "import json\n",
    "import os\n",
    "import numpy as np\n",
    "import datetime"
   ]
  },
  {
   "cell_type": "code",
   "execution_count": 88,
   "metadata": {},
   "outputs": [
    {
     "data": {
      "text/html": [
       "<div>\n",
       "<style scoped>\n",
       "    .dataframe tbody tr th:only-of-type {\n",
       "        vertical-align: middle;\n",
       "    }\n",
       "\n",
       "    .dataframe tbody tr th {\n",
       "        vertical-align: top;\n",
       "    }\n",
       "\n",
       "    .dataframe thead th {\n",
       "        text-align: right;\n",
       "    }\n",
       "</style>\n",
       "<table border=\"1\" class=\"dataframe\">\n",
       "  <thead>\n",
       "    <tr style=\"text-align: right;\">\n",
       "      <th></th>\n",
       "      <th>datetime</th>\n",
       "      <th>season</th>\n",
       "      <th>holiday</th>\n",
       "      <th>workingday</th>\n",
       "      <th>weather</th>\n",
       "      <th>temp</th>\n",
       "      <th>atemp</th>\n",
       "      <th>humidity</th>\n",
       "      <th>windspeed</th>\n",
       "      <th>casual</th>\n",
       "      <th>registered</th>\n",
       "      <th>count</th>\n",
       "    </tr>\n",
       "  </thead>\n",
       "  <tbody>\n",
       "    <tr>\n",
       "      <th>0</th>\n",
       "      <td>2011-01-01 00:00:00</td>\n",
       "      <td>1</td>\n",
       "      <td>0</td>\n",
       "      <td>0</td>\n",
       "      <td>1</td>\n",
       "      <td>9.84</td>\n",
       "      <td>14.395</td>\n",
       "      <td>81</td>\n",
       "      <td>0.0000</td>\n",
       "      <td>3</td>\n",
       "      <td>13</td>\n",
       "      <td>16</td>\n",
       "    </tr>\n",
       "    <tr>\n",
       "      <th>1</th>\n",
       "      <td>2011-01-01 01:00:00</td>\n",
       "      <td>1</td>\n",
       "      <td>0</td>\n",
       "      <td>0</td>\n",
       "      <td>1</td>\n",
       "      <td>9.02</td>\n",
       "      <td>13.635</td>\n",
       "      <td>80</td>\n",
       "      <td>0.0000</td>\n",
       "      <td>8</td>\n",
       "      <td>32</td>\n",
       "      <td>40</td>\n",
       "    </tr>\n",
       "    <tr>\n",
       "      <th>2</th>\n",
       "      <td>2011-01-01 02:00:00</td>\n",
       "      <td>1</td>\n",
       "      <td>0</td>\n",
       "      <td>0</td>\n",
       "      <td>1</td>\n",
       "      <td>9.02</td>\n",
       "      <td>13.635</td>\n",
       "      <td>80</td>\n",
       "      <td>0.0000</td>\n",
       "      <td>5</td>\n",
       "      <td>27</td>\n",
       "      <td>32</td>\n",
       "    </tr>\n",
       "    <tr>\n",
       "      <th>3</th>\n",
       "      <td>2011-01-01 03:00:00</td>\n",
       "      <td>1</td>\n",
       "      <td>0</td>\n",
       "      <td>0</td>\n",
       "      <td>1</td>\n",
       "      <td>9.84</td>\n",
       "      <td>14.395</td>\n",
       "      <td>75</td>\n",
       "      <td>0.0000</td>\n",
       "      <td>3</td>\n",
       "      <td>10</td>\n",
       "      <td>13</td>\n",
       "    </tr>\n",
       "    <tr>\n",
       "      <th>4</th>\n",
       "      <td>2011-01-01 04:00:00</td>\n",
       "      <td>1</td>\n",
       "      <td>0</td>\n",
       "      <td>0</td>\n",
       "      <td>1</td>\n",
       "      <td>9.84</td>\n",
       "      <td>14.395</td>\n",
       "      <td>75</td>\n",
       "      <td>0.0000</td>\n",
       "      <td>0</td>\n",
       "      <td>1</td>\n",
       "      <td>1</td>\n",
       "    </tr>\n",
       "    <tr>\n",
       "      <th>...</th>\n",
       "      <td>...</td>\n",
       "      <td>...</td>\n",
       "      <td>...</td>\n",
       "      <td>...</td>\n",
       "      <td>...</td>\n",
       "      <td>...</td>\n",
       "      <td>...</td>\n",
       "      <td>...</td>\n",
       "      <td>...</td>\n",
       "      <td>...</td>\n",
       "      <td>...</td>\n",
       "      <td>...</td>\n",
       "    </tr>\n",
       "    <tr>\n",
       "      <th>10881</th>\n",
       "      <td>2012-12-19 19:00:00</td>\n",
       "      <td>4</td>\n",
       "      <td>0</td>\n",
       "      <td>1</td>\n",
       "      <td>1</td>\n",
       "      <td>15.58</td>\n",
       "      <td>19.695</td>\n",
       "      <td>50</td>\n",
       "      <td>26.0027</td>\n",
       "      <td>7</td>\n",
       "      <td>329</td>\n",
       "      <td>336</td>\n",
       "    </tr>\n",
       "    <tr>\n",
       "      <th>10882</th>\n",
       "      <td>2012-12-19 20:00:00</td>\n",
       "      <td>4</td>\n",
       "      <td>0</td>\n",
       "      <td>1</td>\n",
       "      <td>1</td>\n",
       "      <td>14.76</td>\n",
       "      <td>17.425</td>\n",
       "      <td>57</td>\n",
       "      <td>15.0013</td>\n",
       "      <td>10</td>\n",
       "      <td>231</td>\n",
       "      <td>241</td>\n",
       "    </tr>\n",
       "    <tr>\n",
       "      <th>10883</th>\n",
       "      <td>2012-12-19 21:00:00</td>\n",
       "      <td>4</td>\n",
       "      <td>0</td>\n",
       "      <td>1</td>\n",
       "      <td>1</td>\n",
       "      <td>13.94</td>\n",
       "      <td>15.910</td>\n",
       "      <td>61</td>\n",
       "      <td>15.0013</td>\n",
       "      <td>4</td>\n",
       "      <td>164</td>\n",
       "      <td>168</td>\n",
       "    </tr>\n",
       "    <tr>\n",
       "      <th>10884</th>\n",
       "      <td>2012-12-19 22:00:00</td>\n",
       "      <td>4</td>\n",
       "      <td>0</td>\n",
       "      <td>1</td>\n",
       "      <td>1</td>\n",
       "      <td>13.94</td>\n",
       "      <td>17.425</td>\n",
       "      <td>61</td>\n",
       "      <td>6.0032</td>\n",
       "      <td>12</td>\n",
       "      <td>117</td>\n",
       "      <td>129</td>\n",
       "    </tr>\n",
       "    <tr>\n",
       "      <th>10885</th>\n",
       "      <td>2012-12-19 23:00:00</td>\n",
       "      <td>4</td>\n",
       "      <td>0</td>\n",
       "      <td>1</td>\n",
       "      <td>1</td>\n",
       "      <td>13.12</td>\n",
       "      <td>16.665</td>\n",
       "      <td>66</td>\n",
       "      <td>8.9981</td>\n",
       "      <td>4</td>\n",
       "      <td>84</td>\n",
       "      <td>88</td>\n",
       "    </tr>\n",
       "  </tbody>\n",
       "</table>\n",
       "<p>10886 rows × 12 columns</p>\n",
       "</div>"
      ],
      "text/plain": [
       "                  datetime  season  holiday  workingday  weather   temp  \\\n",
       "0      2011-01-01 00:00:00       1        0           0        1   9.84   \n",
       "1      2011-01-01 01:00:00       1        0           0        1   9.02   \n",
       "2      2011-01-01 02:00:00       1        0           0        1   9.02   \n",
       "3      2011-01-01 03:00:00       1        0           0        1   9.84   \n",
       "4      2011-01-01 04:00:00       1        0           0        1   9.84   \n",
       "...                    ...     ...      ...         ...      ...    ...   \n",
       "10881  2012-12-19 19:00:00       4        0           1        1  15.58   \n",
       "10882  2012-12-19 20:00:00       4        0           1        1  14.76   \n",
       "10883  2012-12-19 21:00:00       4        0           1        1  13.94   \n",
       "10884  2012-12-19 22:00:00       4        0           1        1  13.94   \n",
       "10885  2012-12-19 23:00:00       4        0           1        1  13.12   \n",
       "\n",
       "        atemp  humidity  windspeed  casual  registered  count  \n",
       "0      14.395        81     0.0000       3          13     16  \n",
       "1      13.635        80     0.0000       8          32     40  \n",
       "2      13.635        80     0.0000       5          27     32  \n",
       "3      14.395        75     0.0000       3          10     13  \n",
       "4      14.395        75     0.0000       0           1      1  \n",
       "...       ...       ...        ...     ...         ...    ...  \n",
       "10881  19.695        50    26.0027       7         329    336  \n",
       "10882  17.425        57    15.0013      10         231    241  \n",
       "10883  15.910        61    15.0013       4         164    168  \n",
       "10884  17.425        61     6.0032      12         117    129  \n",
       "10885  16.665        66     8.9981       4          84     88  \n",
       "\n",
       "[10886 rows x 12 columns]"
      ]
     },
     "execution_count": 88,
     "metadata": {},
     "output_type": "execute_result"
    }
   ],
   "source": [
    "# https://www.kaggle.com/competitions/bike-sharing-demand/data\n",
    "base = pd.read_csv('train.csv')\n",
    "base"
   ]
  },
  {
   "cell_type": "code",
   "execution_count": 89,
   "metadata": {},
   "outputs": [
    {
     "data": {
      "text/html": [
       "<div>\n",
       "<style scoped>\n",
       "    .dataframe tbody tr th:only-of-type {\n",
       "        vertical-align: middle;\n",
       "    }\n",
       "\n",
       "    .dataframe tbody tr th {\n",
       "        vertical-align: top;\n",
       "    }\n",
       "\n",
       "    .dataframe thead th {\n",
       "        text-align: right;\n",
       "    }\n",
       "</style>\n",
       "<table border=\"1\" class=\"dataframe\">\n",
       "  <thead>\n",
       "    <tr style=\"text-align: right;\">\n",
       "      <th></th>\n",
       "      <th>season</th>\n",
       "      <th>holiday</th>\n",
       "      <th>workingday</th>\n",
       "      <th>weather</th>\n",
       "      <th>temp</th>\n",
       "      <th>atemp</th>\n",
       "      <th>humidity</th>\n",
       "      <th>windspeed</th>\n",
       "      <th>casual</th>\n",
       "      <th>registered</th>\n",
       "      <th>count</th>\n",
       "    </tr>\n",
       "    <tr>\n",
       "      <th>datetime</th>\n",
       "      <th></th>\n",
       "      <th></th>\n",
       "      <th></th>\n",
       "      <th></th>\n",
       "      <th></th>\n",
       "      <th></th>\n",
       "      <th></th>\n",
       "      <th></th>\n",
       "      <th></th>\n",
       "      <th></th>\n",
       "      <th></th>\n",
       "    </tr>\n",
       "  </thead>\n",
       "  <tbody>\n",
       "    <tr>\n",
       "      <th>2011-01-01 00:00:00</th>\n",
       "      <td>1</td>\n",
       "      <td>0</td>\n",
       "      <td>0</td>\n",
       "      <td>1</td>\n",
       "      <td>9.84</td>\n",
       "      <td>14.395</td>\n",
       "      <td>81</td>\n",
       "      <td>0.0000</td>\n",
       "      <td>3</td>\n",
       "      <td>13</td>\n",
       "      <td>16</td>\n",
       "    </tr>\n",
       "    <tr>\n",
       "      <th>2011-01-01 01:00:00</th>\n",
       "      <td>1</td>\n",
       "      <td>0</td>\n",
       "      <td>0</td>\n",
       "      <td>1</td>\n",
       "      <td>9.02</td>\n",
       "      <td>13.635</td>\n",
       "      <td>80</td>\n",
       "      <td>0.0000</td>\n",
       "      <td>8</td>\n",
       "      <td>32</td>\n",
       "      <td>40</td>\n",
       "    </tr>\n",
       "    <tr>\n",
       "      <th>2011-01-01 02:00:00</th>\n",
       "      <td>1</td>\n",
       "      <td>0</td>\n",
       "      <td>0</td>\n",
       "      <td>1</td>\n",
       "      <td>9.02</td>\n",
       "      <td>13.635</td>\n",
       "      <td>80</td>\n",
       "      <td>0.0000</td>\n",
       "      <td>5</td>\n",
       "      <td>27</td>\n",
       "      <td>32</td>\n",
       "    </tr>\n",
       "    <tr>\n",
       "      <th>2011-01-01 03:00:00</th>\n",
       "      <td>1</td>\n",
       "      <td>0</td>\n",
       "      <td>0</td>\n",
       "      <td>1</td>\n",
       "      <td>9.84</td>\n",
       "      <td>14.395</td>\n",
       "      <td>75</td>\n",
       "      <td>0.0000</td>\n",
       "      <td>3</td>\n",
       "      <td>10</td>\n",
       "      <td>13</td>\n",
       "    </tr>\n",
       "    <tr>\n",
       "      <th>2011-01-01 04:00:00</th>\n",
       "      <td>1</td>\n",
       "      <td>0</td>\n",
       "      <td>0</td>\n",
       "      <td>1</td>\n",
       "      <td>9.84</td>\n",
       "      <td>14.395</td>\n",
       "      <td>75</td>\n",
       "      <td>0.0000</td>\n",
       "      <td>0</td>\n",
       "      <td>1</td>\n",
       "      <td>1</td>\n",
       "    </tr>\n",
       "    <tr>\n",
       "      <th>...</th>\n",
       "      <td>...</td>\n",
       "      <td>...</td>\n",
       "      <td>...</td>\n",
       "      <td>...</td>\n",
       "      <td>...</td>\n",
       "      <td>...</td>\n",
       "      <td>...</td>\n",
       "      <td>...</td>\n",
       "      <td>...</td>\n",
       "      <td>...</td>\n",
       "      <td>...</td>\n",
       "    </tr>\n",
       "    <tr>\n",
       "      <th>2012-12-19 19:00:00</th>\n",
       "      <td>4</td>\n",
       "      <td>0</td>\n",
       "      <td>1</td>\n",
       "      <td>1</td>\n",
       "      <td>15.58</td>\n",
       "      <td>19.695</td>\n",
       "      <td>50</td>\n",
       "      <td>26.0027</td>\n",
       "      <td>7</td>\n",
       "      <td>329</td>\n",
       "      <td>336</td>\n",
       "    </tr>\n",
       "    <tr>\n",
       "      <th>2012-12-19 20:00:00</th>\n",
       "      <td>4</td>\n",
       "      <td>0</td>\n",
       "      <td>1</td>\n",
       "      <td>1</td>\n",
       "      <td>14.76</td>\n",
       "      <td>17.425</td>\n",
       "      <td>57</td>\n",
       "      <td>15.0013</td>\n",
       "      <td>10</td>\n",
       "      <td>231</td>\n",
       "      <td>241</td>\n",
       "    </tr>\n",
       "    <tr>\n",
       "      <th>2012-12-19 21:00:00</th>\n",
       "      <td>4</td>\n",
       "      <td>0</td>\n",
       "      <td>1</td>\n",
       "      <td>1</td>\n",
       "      <td>13.94</td>\n",
       "      <td>15.910</td>\n",
       "      <td>61</td>\n",
       "      <td>15.0013</td>\n",
       "      <td>4</td>\n",
       "      <td>164</td>\n",
       "      <td>168</td>\n",
       "    </tr>\n",
       "    <tr>\n",
       "      <th>2012-12-19 22:00:00</th>\n",
       "      <td>4</td>\n",
       "      <td>0</td>\n",
       "      <td>1</td>\n",
       "      <td>1</td>\n",
       "      <td>13.94</td>\n",
       "      <td>17.425</td>\n",
       "      <td>61</td>\n",
       "      <td>6.0032</td>\n",
       "      <td>12</td>\n",
       "      <td>117</td>\n",
       "      <td>129</td>\n",
       "    </tr>\n",
       "    <tr>\n",
       "      <th>2012-12-19 23:00:00</th>\n",
       "      <td>4</td>\n",
       "      <td>0</td>\n",
       "      <td>1</td>\n",
       "      <td>1</td>\n",
       "      <td>13.12</td>\n",
       "      <td>16.665</td>\n",
       "      <td>66</td>\n",
       "      <td>8.9981</td>\n",
       "      <td>4</td>\n",
       "      <td>84</td>\n",
       "      <td>88</td>\n",
       "    </tr>\n",
       "  </tbody>\n",
       "</table>\n",
       "<p>10886 rows × 11 columns</p>\n",
       "</div>"
      ],
      "text/plain": [
       "                     season  holiday  workingday  weather   temp   atemp  \\\n",
       "datetime                                                                   \n",
       "2011-01-01 00:00:00       1        0           0        1   9.84  14.395   \n",
       "2011-01-01 01:00:00       1        0           0        1   9.02  13.635   \n",
       "2011-01-01 02:00:00       1        0           0        1   9.02  13.635   \n",
       "2011-01-01 03:00:00       1        0           0        1   9.84  14.395   \n",
       "2011-01-01 04:00:00       1        0           0        1   9.84  14.395   \n",
       "...                     ...      ...         ...      ...    ...     ...   \n",
       "2012-12-19 19:00:00       4        0           1        1  15.58  19.695   \n",
       "2012-12-19 20:00:00       4        0           1        1  14.76  17.425   \n",
       "2012-12-19 21:00:00       4        0           1        1  13.94  15.910   \n",
       "2012-12-19 22:00:00       4        0           1        1  13.94  17.425   \n",
       "2012-12-19 23:00:00       4        0           1        1  13.12  16.665   \n",
       "\n",
       "                     humidity  windspeed  casual  registered  count  \n",
       "datetime                                                             \n",
       "2011-01-01 00:00:00        81     0.0000       3          13     16  \n",
       "2011-01-01 01:00:00        80     0.0000       8          32     40  \n",
       "2011-01-01 02:00:00        80     0.0000       5          27     32  \n",
       "2011-01-01 03:00:00        75     0.0000       3          10     13  \n",
       "2011-01-01 04:00:00        75     0.0000       0           1      1  \n",
       "...                       ...        ...     ...         ...    ...  \n",
       "2012-12-19 19:00:00        50    26.0027       7         329    336  \n",
       "2012-12-19 20:00:00        57    15.0013      10         231    241  \n",
       "2012-12-19 21:00:00        61    15.0013       4         164    168  \n",
       "2012-12-19 22:00:00        61     6.0032      12         117    129  \n",
       "2012-12-19 23:00:00        66     8.9981       4          84     88  \n",
       "\n",
       "[10886 rows x 11 columns]"
      ]
     },
     "execution_count": 89,
     "metadata": {},
     "output_type": "execute_result"
    }
   ],
   "source": [
    "base = pd.read_csv('train.csv', parse_dates=['datetime'], index_col=0)\n",
    "base"
   ]
  },
  {
   "cell_type": "code",
   "execution_count": 90,
   "metadata": {},
   "outputs": [
    {
     "data": {
      "text/html": [
       "<div>\n",
       "<style scoped>\n",
       "    .dataframe tbody tr th:only-of-type {\n",
       "        vertical-align: middle;\n",
       "    }\n",
       "\n",
       "    .dataframe tbody tr th {\n",
       "        vertical-align: top;\n",
       "    }\n",
       "\n",
       "    .dataframe thead th {\n",
       "        text-align: right;\n",
       "    }\n",
       "</style>\n",
       "<table border=\"1\" class=\"dataframe\">\n",
       "  <thead>\n",
       "    <tr style=\"text-align: right;\">\n",
       "      <th></th>\n",
       "      <th>count</th>\n",
       "    </tr>\n",
       "    <tr>\n",
       "      <th>datetime</th>\n",
       "      <th></th>\n",
       "    </tr>\n",
       "  </thead>\n",
       "  <tbody>\n",
       "    <tr>\n",
       "      <th>2011-01-01 00:00:00</th>\n",
       "      <td>16</td>\n",
       "    </tr>\n",
       "    <tr>\n",
       "      <th>2011-01-01 01:00:00</th>\n",
       "      <td>40</td>\n",
       "    </tr>\n",
       "    <tr>\n",
       "      <th>2011-01-01 02:00:00</th>\n",
       "      <td>32</td>\n",
       "    </tr>\n",
       "    <tr>\n",
       "      <th>2011-01-01 03:00:00</th>\n",
       "      <td>13</td>\n",
       "    </tr>\n",
       "    <tr>\n",
       "      <th>2011-01-01 04:00:00</th>\n",
       "      <td>1</td>\n",
       "    </tr>\n",
       "    <tr>\n",
       "      <th>...</th>\n",
       "      <td>...</td>\n",
       "    </tr>\n",
       "    <tr>\n",
       "      <th>2012-12-19 19:00:00</th>\n",
       "      <td>336</td>\n",
       "    </tr>\n",
       "    <tr>\n",
       "      <th>2012-12-19 20:00:00</th>\n",
       "      <td>241</td>\n",
       "    </tr>\n",
       "    <tr>\n",
       "      <th>2012-12-19 21:00:00</th>\n",
       "      <td>168</td>\n",
       "    </tr>\n",
       "    <tr>\n",
       "      <th>2012-12-19 22:00:00</th>\n",
       "      <td>129</td>\n",
       "    </tr>\n",
       "    <tr>\n",
       "      <th>2012-12-19 23:00:00</th>\n",
       "      <td>88</td>\n",
       "    </tr>\n",
       "  </tbody>\n",
       "</table>\n",
       "<p>10886 rows × 1 columns</p>\n",
       "</div>"
      ],
      "text/plain": [
       "                     count\n",
       "datetime                  \n",
       "2011-01-01 00:00:00     16\n",
       "2011-01-01 01:00:00     40\n",
       "2011-01-01 02:00:00     32\n",
       "2011-01-01 03:00:00     13\n",
       "2011-01-01 04:00:00      1\n",
       "...                    ...\n",
       "2012-12-19 19:00:00    336\n",
       "2012-12-19 20:00:00    241\n",
       "2012-12-19 21:00:00    168\n",
       "2012-12-19 22:00:00    129\n",
       "2012-12-19 23:00:00     88\n",
       "\n",
       "[10886 rows x 1 columns]"
      ]
     },
     "execution_count": 90,
     "metadata": {},
     "output_type": "execute_result"
    }
   ],
   "source": [
    "base.drop(columns = ['season', 'holiday','workingday','weather','temp','atemp', 'humidity','windspeed','casual', 'registered'], axis=1, inplace = True)\n",
    "base"
   ]
  },
  {
   "cell_type": "code",
   "execution_count": 91,
   "metadata": {},
   "outputs": [
    {
     "data": {
      "text/html": [
       "<div>\n",
       "<style scoped>\n",
       "    .dataframe tbody tr th:only-of-type {\n",
       "        vertical-align: middle;\n",
       "    }\n",
       "\n",
       "    .dataframe tbody tr th {\n",
       "        vertical-align: top;\n",
       "    }\n",
       "\n",
       "    .dataframe thead th {\n",
       "        text-align: right;\n",
       "    }\n",
       "</style>\n",
       "<table border=\"1\" class=\"dataframe\">\n",
       "  <thead>\n",
       "    <tr style=\"text-align: right;\">\n",
       "      <th></th>\n",
       "      <th>count</th>\n",
       "    </tr>\n",
       "    <tr>\n",
       "      <th>datetime</th>\n",
       "      <th></th>\n",
       "    </tr>\n",
       "  </thead>\n",
       "  <tbody>\n",
       "    <tr>\n",
       "      <th>2011-01-01</th>\n",
       "      <td>985</td>\n",
       "    </tr>\n",
       "    <tr>\n",
       "      <th>2011-01-02</th>\n",
       "      <td>801</td>\n",
       "    </tr>\n",
       "    <tr>\n",
       "      <th>2011-01-03</th>\n",
       "      <td>1349</td>\n",
       "    </tr>\n",
       "    <tr>\n",
       "      <th>2011-01-04</th>\n",
       "      <td>1562</td>\n",
       "    </tr>\n",
       "    <tr>\n",
       "      <th>2011-01-05</th>\n",
       "      <td>1600</td>\n",
       "    </tr>\n",
       "    <tr>\n",
       "      <th>...</th>\n",
       "      <td>...</td>\n",
       "    </tr>\n",
       "    <tr>\n",
       "      <th>2012-12-15</th>\n",
       "      <td>5047</td>\n",
       "    </tr>\n",
       "    <tr>\n",
       "      <th>2012-12-16</th>\n",
       "      <td>3786</td>\n",
       "    </tr>\n",
       "    <tr>\n",
       "      <th>2012-12-17</th>\n",
       "      <td>4585</td>\n",
       "    </tr>\n",
       "    <tr>\n",
       "      <th>2012-12-18</th>\n",
       "      <td>5557</td>\n",
       "    </tr>\n",
       "    <tr>\n",
       "      <th>2012-12-19</th>\n",
       "      <td>5267</td>\n",
       "    </tr>\n",
       "  </tbody>\n",
       "</table>\n",
       "<p>719 rows × 1 columns</p>\n",
       "</div>"
      ],
      "text/plain": [
       "            count\n",
       "datetime         \n",
       "2011-01-01    985\n",
       "2011-01-02    801\n",
       "2011-01-03   1349\n",
       "2011-01-04   1562\n",
       "2011-01-05   1600\n",
       "...           ...\n",
       "2012-12-15   5047\n",
       "2012-12-16   3786\n",
       "2012-12-17   4585\n",
       "2012-12-18   5557\n",
       "2012-12-19   5267\n",
       "\n",
       "[719 rows x 1 columns]"
      ]
     },
     "execution_count": 91,
     "metadata": {},
     "output_type": "execute_result"
    }
   ],
   "source": [
    "base = base.groupby(pd.Grouper(freq = 'D')).sum()\n",
    "base"
   ]
  },
  {
   "cell_type": "code",
   "execution_count": 9,
   "metadata": {},
   "outputs": [
    {
     "data": {
      "text/plain": [
       "(719, 1)"
      ]
     },
     "execution_count": 9,
     "metadata": {},
     "output_type": "execute_result"
    }
   ],
   "source": [
    "base_teste = base.copy()\n",
    "base_teste.shape"
   ]
  },
  {
   "cell_type": "code",
   "execution_count": 10,
   "metadata": {},
   "outputs": [
    {
     "data": {
      "text/html": [
       "<div>\n",
       "<style scoped>\n",
       "    .dataframe tbody tr th:only-of-type {\n",
       "        vertical-align: middle;\n",
       "    }\n",
       "\n",
       "    .dataframe tbody tr th {\n",
       "        vertical-align: top;\n",
       "    }\n",
       "\n",
       "    .dataframe thead th {\n",
       "        text-align: right;\n",
       "    }\n",
       "</style>\n",
       "<table border=\"1\" class=\"dataframe\">\n",
       "  <thead>\n",
       "    <tr style=\"text-align: right;\">\n",
       "      <th></th>\n",
       "      <th>count</th>\n",
       "    </tr>\n",
       "    <tr>\n",
       "      <th>datetime</th>\n",
       "      <th></th>\n",
       "    </tr>\n",
       "  </thead>\n",
       "  <tbody>\n",
       "    <tr>\n",
       "      <th>2011-01-01</th>\n",
       "      <td>985</td>\n",
       "    </tr>\n",
       "    <tr>\n",
       "      <th>2011-01-02</th>\n",
       "      <td>801</td>\n",
       "    </tr>\n",
       "    <tr>\n",
       "      <th>2011-01-03</th>\n",
       "      <td>1349</td>\n",
       "    </tr>\n",
       "    <tr>\n",
       "      <th>2011-01-04</th>\n",
       "      <td>1562</td>\n",
       "    </tr>\n",
       "    <tr>\n",
       "      <th>2011-01-05</th>\n",
       "      <td>1600</td>\n",
       "    </tr>\n",
       "    <tr>\n",
       "      <th>...</th>\n",
       "      <td>...</td>\n",
       "    </tr>\n",
       "    <tr>\n",
       "      <th>2012-11-15</th>\n",
       "      <td>5445</td>\n",
       "    </tr>\n",
       "    <tr>\n",
       "      <th>2012-11-16</th>\n",
       "      <td>5698</td>\n",
       "    </tr>\n",
       "    <tr>\n",
       "      <th>2012-11-17</th>\n",
       "      <td>5629</td>\n",
       "    </tr>\n",
       "    <tr>\n",
       "      <th>2012-11-18</th>\n",
       "      <td>4669</td>\n",
       "    </tr>\n",
       "    <tr>\n",
       "      <th>2012-11-19</th>\n",
       "      <td>5499</td>\n",
       "    </tr>\n",
       "  </tbody>\n",
       "</table>\n",
       "<p>689 rows × 1 columns</p>\n",
       "</div>"
      ],
      "text/plain": [
       "            count\n",
       "datetime         \n",
       "2011-01-01    985\n",
       "2011-01-02    801\n",
       "2011-01-03   1349\n",
       "2011-01-04   1562\n",
       "2011-01-05   1600\n",
       "...           ...\n",
       "2012-11-15   5445\n",
       "2012-11-16   5698\n",
       "2012-11-17   5629\n",
       "2012-11-18   4669\n",
       "2012-11-19   5499\n",
       "\n",
       "[689 rows x 1 columns]"
      ]
     },
     "execution_count": 10,
     "metadata": {},
     "output_type": "execute_result"
    }
   ],
   "source": [
    "base_treinamento = base.iloc[0:689,:]\n",
    "base_treinamento"
   ]
  },
  {
   "cell_type": "code",
   "execution_count": 11,
   "metadata": {},
   "outputs": [
    {
     "data": {
      "text/plain": [
       "(Timestamp('2011-01-01 00:00:00', freq='D'),\n",
       " Timestamp('2012-11-19 00:00:00', freq='D'))"
      ]
     },
     "execution_count": 11,
     "metadata": {},
     "output_type": "execute_result"
    }
   ],
   "source": [
    "base_treinamento.index.min(), base_treinamento.index.max()"
   ]
  },
  {
   "cell_type": "code",
   "execution_count": 13,
   "metadata": {},
   "outputs": [
    {
     "data": {
      "text/plain": [
       "(Timestamp('2011-01-01 00:00:00', freq='D'),\n",
       " Timestamp('2012-12-19 00:00:00', freq='D'))"
      ]
     },
     "execution_count": 13,
     "metadata": {},
     "output_type": "execute_result"
    }
   ],
   "source": [
    "base_teste.index.min(), base_teste.index.max()"
   ]
  },
  {
   "cell_type": "code",
   "execution_count": 14,
   "metadata": {},
   "outputs": [],
   "source": [
    "dt_data_inicial = pd.Timestamp(\"2011-01-01\", freq = 'D')\n",
    "dt_data_final_treinamento = pd.Timestamp(\"2012-11-19\", freq = 'D')\n",
    "dt_previsao_maxima = pd.Timestamp(\"2012-12-19\", freq = 'D')\n",
    "\n",
    "faixa_treinamento = (dt_data_inicial, dt_data_final_treinamento)\n",
    "faixa_teste = (dt_data_inicial, dt_previsao_maxima)"
   ]
  },
  {
   "cell_type": "code",
   "execution_count": 15,
   "metadata": {},
   "outputs": [
    {
     "data": {
      "text/plain": [
       "(Timestamp('2011-01-01 00:00:00', freq='D'),\n",
       " Timestamp('2012-11-19 00:00:00', freq='D'))"
      ]
     },
     "execution_count": 15,
     "metadata": {},
     "output_type": "execute_result"
    }
   ],
   "source": [
    "faixa_treinamento"
   ]
  },
  {
   "cell_type": "code",
   "execution_count": 16,
   "metadata": {},
   "outputs": [
    {
     "data": {
      "text/plain": [
       "(Timestamp('2011-01-01 00:00:00', freq='D'),\n",
       " Timestamp('2012-12-19 00:00:00', freq='D'))"
      ]
     },
     "execution_count": 16,
     "metadata": {},
     "output_type": "execute_result"
    }
   ],
   "source": [
    "faixa_teste"
   ]
  },
  {
   "cell_type": "code",
   "execution_count": 17,
   "metadata": {},
   "outputs": [],
   "source": [
    "serie_temporal_treinamento = []\n",
    "serie_temporal_teste = []\n",
    "\n",
    "serie_temporal_treinamento.append(base_treinamento[faixa_treinamento[0]:faixa_treinamento[1]]['count'])\n",
    "serie_temporal_teste.append(base_teste[faixa_teste[0]:faixa_teste[1]]['count'])"
   ]
  },
  {
   "cell_type": "code",
   "execution_count": 18,
   "metadata": {},
   "outputs": [
    {
     "data": {
      "text/plain": [
       "(list, list)"
      ]
     },
     "execution_count": 18,
     "metadata": {},
     "output_type": "execute_result"
    }
   ],
   "source": [
    "type(serie_temporal_treinamento), type(serie_temporal_teste)"
   ]
  },
  {
   "cell_type": "code",
   "execution_count": 19,
   "metadata": {},
   "outputs": [
    {
     "data": {
      "text/plain": [
       "[datetime\n",
       " 2011-01-01     985\n",
       " 2011-01-02     801\n",
       " 2011-01-03    1349\n",
       " 2011-01-04    1562\n",
       " 2011-01-05    1600\n",
       "               ... \n",
       " 2012-11-15    5445\n",
       " 2012-11-16    5698\n",
       " 2012-11-17    5629\n",
       " 2012-11-18    4669\n",
       " 2012-11-19    5499\n",
       " Freq: D, Name: count, Length: 689, dtype: int64]"
      ]
     },
     "execution_count": 19,
     "metadata": {},
     "output_type": "execute_result"
    }
   ],
   "source": [
    "serie_temporal_treinamento"
   ]
  },
  {
   "cell_type": "code",
   "execution_count": 20,
   "metadata": {},
   "outputs": [
    {
     "data": {
      "text/plain": [
       "[datetime\n",
       " 2011-01-01     985\n",
       " 2011-01-02     801\n",
       " 2011-01-03    1349\n",
       " 2011-01-04    1562\n",
       " 2011-01-05    1600\n",
       "               ... \n",
       " 2012-12-15    5047\n",
       " 2012-12-16    3786\n",
       " 2012-12-17    4585\n",
       " 2012-12-18    5557\n",
       " 2012-12-19    5267\n",
       " Freq: D, Name: count, Length: 719, dtype: int64]"
      ]
     },
     "execution_count": 20,
     "metadata": {},
     "output_type": "execute_result"
    }
   ],
   "source": [
    "serie_temporal_teste"
   ]
  },
  {
   "cell_type": "code",
   "execution_count": 22,
   "metadata": {},
   "outputs": [
    {
     "data": {
      "text/plain": [
       "(689, 719)"
      ]
     },
     "execution_count": 22,
     "metadata": {},
     "output_type": "execute_result"
    }
   ],
   "source": [
    "len(serie_temporal_treinamento[0]), len(serie_temporal_teste[0])"
   ]
  },
  {
   "cell_type": "code",
   "execution_count": 24,
   "metadata": {},
   "outputs": [
    {
     "data": {
      "image/png": "[encoded data removed]",
      "text/plain": [
       "<Figure size 720x720 with 1 Axes>"
      ]
     },
     "metadata": {
      "needs_background": "light"
     },
     "output_type": "display_data"
    }
   ],
   "source": [
    "plt.figure(figsize=(10,10))\n",
    "serie_temporal_teste[0].plot(label = \"Teste\")\n",
    "serie_temporal_treinamento[0].plot(label = \"Treinamento\")\n",
    "plt.legend()\n",
    "plt.show()"
   ]
  },
  {
   "cell_type": "code",
   "execution_count": 25,
   "metadata": {},
   "outputs": [],
   "source": [
    "def encode_target(ts):\n",
    "    return [x if np.isfinite(x) else \"NaN\" for x in ts]"
   ]
  },
  {
   "cell_type": "code",
   "execution_count": null,
   "metadata": {},
   "outputs": [],
   "source": [
    "encode_target(serie_temporal_treinamento[0][0:25])"
   ]
  },
  {
   "cell_type": "code",
   "execution_count": 35,
   "metadata": {},
   "outputs": [],
   "source": [
    "def series_to_obj(ts):\n",
    "    obj = {\"start\": str(ts.index[0]), \"target\": encode_target(ts)}\n",
    "    return obj"
   ]
  },
  {
   "cell_type": "code",
   "execution_count": 36,
   "metadata": {},
   "outputs": [
    {
     "data": {
      "text/plain": [
       "{'start': '2011-01-01 00:00:00', 'target': [985, 801, 1349, 1562, 1600]}"
      ]
     },
     "execution_count": 36,
     "metadata": {},
     "output_type": "execute_result"
    }
   ],
   "source": [
    "series_to_obj(serie_temporal_treinamento[0][0:5])"
   ]
  },
  {
   "cell_type": "code",
   "execution_count": 37,
   "metadata": {},
   "outputs": [],
   "source": [
    "def series_to_jsonline(ts):\n",
    "    return json.dumps(series_to_obj(ts))"
   ]
  },
  {
   "cell_type": "code",
   "execution_count": 39,
   "metadata": {},
   "outputs": [
    {
     "data": {
      "text/plain": [
       "'{\"start\": \"2011-01-01 00:00:00\", \"target\": [985, 801, 1349, 1562, 1600]}'"
      ]
     },
     "execution_count": 39,
     "metadata": {},
     "output_type": "execute_result"
    }
   ],
   "source": [
    "series_to_jsonline(serie_temporal_treinamento[0][0:5])"
   ]
  },
  {
   "cell_type": "code",
   "execution_count": 42,
   "metadata": {},
   "outputs": [],
   "source": [
    "encoding = 'utf-8'\n",
    "arquivo_json_treinamento = 'train.json'\n",
    "arquivo_json_teste = 'test.json'\n",
    "with open(arquivo_json_treinamento, 'wb') as fp:\n",
    "    for ts in serie_temporal_treinamento:\n",
    "        fp.write(series_to_jsonline(ts).encode(encoding))\n",
    "        fp.write('\\n'.encode(encoding))\n",
    "\n",
    "with open(arquivo_json_teste, 'wb') as fp:\n",
    "    for ts in serie_temporal_teste:\n",
    "        fp.write(series_to_jsonline(ts).encode(encoding))\n",
    "        fp.write('\\n'.encode(encoding))"
   ]
  },
  {
   "cell_type": "markdown",
   "metadata": {},
   "source": [
    "# Configurações do SageMaker"
   ]
  },
  {
   "cell_type": "code",
   "execution_count": 43,
   "metadata": {},
   "outputs": [],
   "source": [
    "import boto3\n",
    "import sagemaker"
   ]
  },
  {
   "cell_type": "code",
   "execution_count": 44,
   "metadata": {},
   "outputs": [
    {
     "name": "stdout",
     "output_type": "stream",
     "text": [
      "Role: arn:aws:iam::936535973187:role/service-role/AmazonSageMaker-ExecutionRole-20220510T125992\n",
      "Localização da base de treinamento: s3://cursoawssagemaker/datasets/bike/train/train.json\n",
      "Localização da base de teste: s3://cursoawssagemaker/datasets/bike/test/test.json\n",
      "Modelo será salvo em: s3://cursoawssagemaker/modelos/bike/deepar/output\n"
     ]
    }
   ],
   "source": [
    "session = sagemaker.Session()\n",
    "role = sagemaker.get_execution_role()\n",
    "job_name = 'deepar-bike'\n",
    "bucket = 'cursoawssagemaker'\n",
    "subpasta_dataset = 'datasets/bike'\n",
    "subpasta_modelo = 'modelos/bike/deepar'\n",
    "s3_train_data = 's3://{}/{}/train/{}'.format(bucket, subpasta_dataset, 'train.json')\n",
    "s3_test_data = 's3://{}/{}/test/{}'.format(bucket, subpasta_dataset, 'test.json')\n",
    "output_location = 's3://{}/{}/output'.format(bucket, subpasta_modelo)\n",
    "\n",
    "print('Role: {}'.format(role))\n",
    "print('Localização da base de treinamento: {}'.format(s3_train_data))\n",
    "print('Localização da base de teste: {}'.format(s3_test_data))\n",
    "print('Modelo será salvo em: {}'.format(output_location))"
   ]
  },
  {
   "cell_type": "code",
   "execution_count": 45,
   "metadata": {},
   "outputs": [],
   "source": [
    "def escreve_s3(arquivo, bucket, nome):\n",
    "    with open(arquivo, 'rb') as f:\n",
    "        return boto3.Session().resource('s3').Bucket(bucket).Object(nome).upload_fileobj(f)"
   ]
  },
  {
   "cell_type": "code",
   "execution_count": 49,
   "metadata": {},
   "outputs": [],
   "source": [
    "escreve_s3('train.json', bucket, os.path.join(subpasta_dataset, 'train', 'train.json'))\n",
    "escreve_s3('test.json', bucket, os.path.join(subpasta_dataset, 'test', 'test.json'))"
   ]
  },
  {
   "cell_type": "code",
   "execution_count": 48,
   "metadata": {},
   "outputs": [
    {
     "name": "stdout",
     "output_type": "stream",
     "text": [
      "datasets/bike/train/train.json\n",
      "datasets/bike/test/test.json\n"
     ]
    }
   ],
   "source": [
    "print(os.path.join(subpasta_dataset, 'train', 'train.json'))\n",
    "print(os.path.join(subpasta_dataset, 'test', 'test.json'))"
   ]
  },
  {
   "cell_type": "markdown",
   "metadata": {},
   "source": [
    "# Treinamento do DeepAR"
   ]
  },
  {
   "cell_type": "code",
   "execution_count": 53,
   "metadata": {},
   "outputs": [],
   "source": [
    "# https://docs.aws.amazon.com/sagemaker/latest/dg/ecr-sa-east-1.html\n",
    "container = sagemaker.image_uris.retrieve(framework = 'forecasting-deepar', region = session.boto_region_name)"
   ]
  },
  {
   "cell_type": "code",
   "execution_count": 54,
   "metadata": {},
   "outputs": [],
   "source": [
    "# https://sagemaker.readthedocs.io/en/stable/api/training/estimators.html\n",
    "# https://github.com/aws-samples/amazon-sagemaker-managed-spot-training/blob/main/xgboost_built_in_managed_spot_training_checkpointing/xgboost_built_in_managed_spot_training_checkpointing.ipynb\n",
    "deepar = sagemaker.estimator.Estimator(image_uri = container,\n",
    "                                       role = role,\n",
    "                                       instance_count = 1,\n",
    "                                       instance_type = 'ml.m5.large',\n",
    "                                       output_path = output_location,\n",
    "                                       sagemaker_session = session,\n",
    "                                       base_job_name = job_name,\n",
    "                                       use_spot_instances = True,\n",
    "                                       max_run = 3600,\n",
    "                                       max_wait = 3600)"
   ]
  },
  {
   "cell_type": "code",
   "execution_count": 55,
   "metadata": {},
   "outputs": [],
   "source": [
    "# https://docs.aws.amazon.com/sagemaker/latest/dg/deepar_hyperparameters.html\n",
    "freq = 'D'\n",
    "prediction_length = 30\n",
    "context_length = 30"
   ]
  },
  {
   "cell_type": "code",
   "execution_count": 57,
   "metadata": {},
   "outputs": [],
   "source": [
    "hyperparametros = {\n",
    "    'time_freq': freq,\n",
    "    'epochs': \"20\",\n",
    "    'context_length': str(context_length),\n",
    "    'prediction_length': str(prediction_length)\n",
    "}"
   ]
  },
  {
   "cell_type": "code",
   "execution_count": 58,
   "metadata": {},
   "outputs": [],
   "source": [
    "deepar.set_hyperparameters(**hyperparametros)"
   ]
  },
  {
   "cell_type": "code",
   "execution_count": 59,
   "metadata": {},
   "outputs": [
    {
     "data": {
      "text/plain": [
       "{'train': 's3://cursoawssagemaker/datasets/bike/train/train.json',\n",
       " 'test': 's3://cursoawssagemaker/datasets/bike/test/test.json'}"
      ]
     },
     "execution_count": 59,
     "metadata": {},
     "output_type": "execute_result"
    }
   ],
   "source": [
    "data_channels = {'train': s3_train_data, 'test': s3_test_data}\n",
    "data_channels"
   ]
  },
  {
   "cell_type": "code",
   "execution_count": 60,
   "metadata": {},
   "outputs": [
    {
     "name": "stdout",
     "output_type": "stream",
     "text": [
      "2022-05-19 19:15:14 Starting - Starting the training job...\n",
      "2022-05-19 19:15:16 Starting - Launching requested ML instancesProfilerReport-1652987714: InProgress\n",
      ".........\n",
      "2022-05-19 19:16:47 Starting - Preparing the instances for training..............................\n",
      "2022-05-19 19:22:14 Starting - Launched instance was unhealthy, replacing it!...\n",
      "2022-05-19 19:22:42 Starting - Preparing the instances for training...............\n",
      "2022-05-19 19:25:15 Downloading - Downloading input data...\n",
      "2022-05-19 19:25:36 Training - Training image download completed. Training in progress.\u001b[34mArguments: train\u001b[0m\n",
      "\u001b[34m/opt/amazon/lib/python3.7/site-packages/jsonref.py:8: DeprecationWarning: Using or importing the ABCs from 'collections' instead of from 'collections.abc' is deprecated since Python 3.3,and in 3.9 it will stop working\n",
      "  from collections import Mapping, MutableMapping, Sequence\u001b[0m\n",
      "\u001b[34m[05/19/2022 19:25:39 INFO 140424429369152] Reading default configuration from /opt/amazon/lib/python3.7/site-packages/algorithm/resources/default-input.json: {'_kvstore': 'auto', '_num_gpus': 'auto', '_num_kv_servers': 'auto', '_tuning_objective_metric': '', 'cardinality': 'auto', 'dropout_rate': '0.10', 'early_stopping_patience': '', 'embedding_dimension': '10', 'learning_rate': '0.001', 'likelihood': 'student-t', 'mini_batch_size': '128', 'num_cells': '40', 'num_dynamic_feat': 'auto', 'num_eval_samples': '100', 'num_layers': '2', 'test_quantiles': '[0.1, 0.2, 0.3, 0.4, 0.5, 0.6, 0.7, 0.8, 0.9]'}\u001b[0m\n",
      "\u001b[34m[05/19/2022 19:25:39 INFO 140424429369152] Merging with provided configuration from /opt/ml/input/config/hyperparameters.json: {'prediction_length': '30', 'time_freq': 'D', 'context_length': '30', 'epochs': '20'}\u001b[0m\n",
      "\u001b[34m[05/19/2022 19:25:39 INFO 140424429369152] Final configuration: {'_kvstore': 'auto', '_num_gpus': 'auto', '_num_kv_servers': 'auto', '_tuning_objective_metric': '', 'cardinality': 'auto', 'dropout_rate': '0.10', 'early_stopping_patience': '', 'embedding_dimension': '10', 'learning_rate': '0.001', 'likelihood': 'student-t', 'mini_batch_size': '128', 'num_cells': '40', 'num_dynamic_feat': 'auto', 'num_eval_samples': '100', 'num_layers': '2', 'test_quantiles': '[0.1, 0.2, 0.3, 0.4, 0.5, 0.6, 0.7, 0.8, 0.9]', 'prediction_length': '30', 'time_freq': 'D', 'context_length': '30', 'epochs': '20'}\u001b[0m\n",
      "\u001b[34mProcess 1 is a worker.\u001b[0m\n",
      "\u001b[34m[05/19/2022 19:25:39 INFO 140424429369152] Detected entry point for worker worker\u001b[0m\n",
      "\u001b[34m[05/19/2022 19:25:39 INFO 140424429369152] random_seed is None\u001b[0m\n",
      "\u001b[34m[05/19/2022 19:25:39 INFO 140424429369152] [cardinality=auto] `cat` field was NOT found in the file `/opt/ml/input/data/train/train.json` and will NOT be used for training.\u001b[0m\n",
      "\u001b[34m[05/19/2022 19:25:39 INFO 140424429369152] [num_dynamic_feat=auto] `dynamic_feat` field was NOT found in the file `/opt/ml/input/data/train/train.json` and will NOT be used for training.\u001b[0m\n",
      "\u001b[34m[05/19/2022 19:25:39 INFO 140424429369152] Training set statistics:\u001b[0m\n",
      "\u001b[34m[05/19/2022 19:25:39 INFO 140424429369152] Integer time series\u001b[0m\n",
      "\u001b[34m[05/19/2022 19:25:39 INFO 140424429369152] number of time series: 1\u001b[0m\n",
      "\u001b[34m[05/19/2022 19:25:39 INFO 140424429369152] number of observations: 689\u001b[0m\n",
      "\u001b[34m[05/19/2022 19:25:39 INFO 140424429369152] mean target length: 689.0\u001b[0m\n",
      "\u001b[34m[05/19/2022 19:25:39 INFO 140424429369152] min/mean/max target: 0.0/2883.1625544267054/8714.0\u001b[0m\n",
      "\u001b[34m[05/19/2022 19:25:39 INFO 140424429369152] mean abs(target): 2883.1625544267054\u001b[0m\n",
      "\u001b[34m[05/19/2022 19:25:39 INFO 140424429369152] contains missing values: no\u001b[0m\n",
      "\u001b[34m[05/19/2022 19:25:39 INFO 140424429369152] Small number of time series. Doing 1280 passes over dataset with prob 1.0 per epoch.\u001b[0m\n",
      "\u001b[34m[05/19/2022 19:25:39 INFO 140424429369152] Test set statistics:\u001b[0m\n",
      "\u001b[34m[05/19/2022 19:25:39 INFO 140424429369152] Integer time series\u001b[0m\n",
      "\u001b[34m[05/19/2022 19:25:39 INFO 140424429369152] number of time series: 1\u001b[0m\n",
      "\u001b[34m[05/19/2022 19:25:39 INFO 140424429369152] number of observations: 719\u001b[0m\n",
      "\u001b[34m[05/19/2022 19:25:39 INFO 140424429369152] mean target length: 719.0\u001b[0m\n",
      "\u001b[34m[05/19/2022 19:25:39 INFO 140424429369152] min/mean/max target: 0.0/2900.5229485396385/8714.0\u001b[0m\n",
      "\u001b[34m[05/19/2022 19:25:39 INFO 140424429369152] mean abs(target): 2900.5229485396385\u001b[0m\n",
      "\u001b[34m[05/19/2022 19:25:39 INFO 140424429369152] contains missing values: no\u001b[0m\n",
      "\u001b[34m/opt/amazon/lib/python3.7/site-packages/algorithm/core/date_feature_set.py:44: FutureWarning: weekofyear and week have been deprecated, please use DatetimeIndex.isocalendar().week instead, which returns a Series.  To exactly reproduce the behavior of week and weekofyear and return an Index, you may call pd.Int64Index(idx.isocalendar().week)\n",
      "  return index.weekofyear / 51.0 - 0.5\u001b[0m\n",
      "\u001b[34m[05/19/2022 19:25:39 INFO 140424429369152] #memory_usage::<batchbuffer> = 32.919921875 mb\u001b[0m\n",
      "\u001b[34m[05/19/2022 19:25:39 INFO 140424429369152] nvidia-smi: took 0.028 seconds to run.\u001b[0m\n",
      "\u001b[34m[05/19/2022 19:25:39 INFO 140424429369152] nvidia-smi identified 0 GPUs.\u001b[0m\n",
      "\u001b[34m[05/19/2022 19:25:39 INFO 140424429369152] Number of GPUs being used: 0\u001b[0m\n",
      "\u001b[34m[05/19/2022 19:25:39 INFO 140424429369152] Create Store: local\u001b[0m\n",
      "\u001b[34m#metrics {\"StartTime\": 1652988339.8552241, \"EndTime\": 1652988339.9989622, \"Dimensions\": {\"Algorithm\": \"AWS/DeepAR\", \"Host\": \"algo-1\", \"Operation\": \"training\"}, \"Metrics\": {\"get_graph.time\": {\"sum\": 141.50428771972656, \"count\": 1, \"min\": 141.50428771972656, \"max\": 141.50428771972656}}}\u001b[0m\n",
      "\u001b[34m[05/19/2022 19:25:39 INFO 140424429369152] Number of GPUs being used: 0\u001b[0m\n",
      "\u001b[34m[05/19/2022 19:25:40 INFO 140424429369152] #memory_usage::<model> = 52 mb\u001b[0m\n",
      "\u001b[34m#metrics {\"StartTime\": 1652988339.999056, \"EndTime\": 1652988340.2551842, \"Dimensions\": {\"Algorithm\": \"AWS/DeepAR\", \"Host\": \"algo-1\", \"Operation\": \"training\"}, \"Metrics\": {\"initialize.time\": {\"sum\": 399.8274803161621, \"count\": 1, \"min\": 399.8274803161621, \"max\": 399.8274803161621}}}\u001b[0m\n",
      "\u001b[34m[05/19/2022 19:25:41 INFO 140424429369152] Epoch[0] Batch[0] avg_epoch_loss=9.807438\u001b[0m\n",
      "\u001b[34m[05/19/2022 19:25:41 INFO 140424429369152] #quality_metric: host=algo-1, epoch=0, batch=0 train loss <loss>=9.807437896728516\u001b[0m\n",
      "\u001b[34m[05/19/2022 19:25:42 INFO 140424429369152] Epoch[0] Batch[5] avg_epoch_loss=9.356186\u001b[0m\n",
      "\u001b[34m[05/19/2022 19:25:42 INFO 140424429369152] #quality_metric: host=algo-1, epoch=0, batch=5 train loss <loss>=9.356186389923096\u001b[0m\n",
      "\u001b[34m[05/19/2022 19:25:42 INFO 140424429369152] Epoch[0] Batch [5]#011Speed: 419.18 samples/sec#011loss=9.356186\u001b[0m\n",
      "\u001b[34m[05/19/2022 19:25:44 INFO 140424429369152] Epoch[0] Batch[10] avg_epoch_loss=9.230074\u001b[0m\n",
      "\u001b[34m[05/19/2022 19:25:44 INFO 140424429369152] #quality_metric: host=algo-1, epoch=0, batch=10 train loss <loss>=9.078738975524903\u001b[0m\n",
      "\u001b[34m[05/19/2022 19:25:44 INFO 140424429369152] Epoch[0] Batch [10]#011Speed: 425.61 samples/sec#011loss=9.078739\u001b[0m\n",
      "\u001b[34m[05/19/2022 19:25:44 INFO 140424429369152] processed a total of 1292 examples\u001b[0m\n",
      "\u001b[34m#metrics {\"StartTime\": 1652988340.2552514, \"EndTime\": 1652988344.092714, \"Dimensions\": {\"Algorithm\": \"AWS/DeepAR\", \"Host\": \"algo-1\", \"Operation\": \"training\"}, \"Metrics\": {\"epochs\": {\"sum\": 20.0, \"count\": 1, \"min\": 20, \"max\": 20}, \"update.time\": {\"sum\": 3837.2013568878174, \"count\": 1, \"min\": 3837.2013568878174, \"max\": 3837.2013568878174}}}\u001b[0m\n",
      "\u001b[34m[05/19/2022 19:25:44 INFO 140424429369152] #throughput_metric: host=algo-1, train throughput=336.68966945822694 records/second\u001b[0m\n",
      "\u001b[34m[05/19/2022 19:25:44 INFO 140424429369152] #progress_metric: host=algo-1, completed 5.0 % of epochs\u001b[0m\n",
      "\u001b[34m[05/19/2022 19:25:44 INFO 140424429369152] #quality_metric: host=algo-1, epoch=0, train loss <loss>=9.230073928833008\u001b[0m\n",
      "\u001b[34m[05/19/2022 19:25:44 INFO 140424429369152] Epoch[1] Batch[0] avg_epoch_loss=8.921961\u001b[0m\n",
      "\u001b[34m[05/19/2022 19:25:44 INFO 140424429369152] #quality_metric: host=algo-1, epoch=1, batch=0 train loss <loss>=8.921960830688477\u001b[0m\n",
      "\u001b[34m[05/19/2022 19:25:45 INFO 140424429369152] Epoch[1] Batch[5] avg_epoch_loss=8.900280\u001b[0m\n",
      "\u001b[34m[05/19/2022 19:25:45 INFO 140424429369152] #quality_metric: host=algo-1, epoch=1, batch=5 train loss <loss>=8.900279521942139\u001b[0m\n",
      "\u001b[34m[05/19/2022 19:25:45 INFO 140424429369152] Epoch[1] Batch [5]#011Speed: 608.06 samples/sec#011loss=8.900280\u001b[0m\n",
      "\u001b[34m[05/19/2022 19:25:46 INFO 140424429369152] Epoch[1] Batch[10] avg_epoch_loss=8.856907\u001b[0m\n",
      "\u001b[34m[05/19/2022 19:25:46 INFO 140424429369152] #quality_metric: host=algo-1, epoch=1, batch=10 train loss <loss>=8.804860496520996\u001b[0m\n",
      "\u001b[34m[05/19/2022 19:25:46 INFO 140424429369152] Epoch[1] Batch [10]#011Speed: 619.98 samples/sec#011loss=8.804860\u001b[0m\n",
      "\u001b[34m[05/19/2022 19:25:46 INFO 140424429369152] processed a total of 1285 examples\u001b[0m\n",
      "\u001b[34m#metrics {\"StartTime\": 1652988344.0927982, \"EndTime\": 1652988346.8316343, \"Dimensions\": {\"Algorithm\": \"AWS/DeepAR\", \"Host\": \"algo-1\", \"Operation\": \"training\"}, \"Metrics\": {\"update.time\": {\"sum\": 2738.445043563843, \"count\": 1, \"min\": 2738.445043563843, \"max\": 2738.445043563843}}}\u001b[0m\n",
      "\u001b[34m[05/19/2022 19:25:46 INFO 140424429369152] #throughput_metric: host=algo-1, train throughput=469.2264243933496 records/second\u001b[0m\n",
      "\u001b[34m[05/19/2022 19:25:46 INFO 140424429369152] #progress_metric: host=algo-1, completed 10.0 % of epochs\u001b[0m\n",
      "\u001b[34m[05/19/2022 19:25:46 INFO 140424429369152] #quality_metric: host=algo-1, epoch=1, train loss <loss>=8.8569072376598\u001b[0m\n",
      "\u001b[34m[05/19/2022 19:25:47 INFO 140424429369152] Epoch[2] Batch[0] avg_epoch_loss=8.597684\u001b[0m\n",
      "\u001b[34m[05/19/2022 19:25:47 INFO 140424429369152] #quality_metric: host=algo-1, epoch=2, batch=0 train loss <loss>=8.597683906555176\u001b[0m\n",
      "\u001b[34m[05/19/2022 19:25:48 INFO 140424429369152] Epoch[2] Batch[5] avg_epoch_loss=8.501593\u001b[0m\n",
      "\u001b[34m[05/19/2022 19:25:48 INFO 140424429369152] #quality_metric: host=algo-1, epoch=2, batch=5 train loss <loss>=8.501592795054117\u001b[0m\n",
      "\u001b[34m[05/19/2022 19:25:48 INFO 140424429369152] Epoch[2] Batch [5]#011Speed: 619.31 samples/sec#011loss=8.501593\u001b[0m\n",
      "\u001b[34m[05/19/2022 19:25:49 INFO 140424429369152] processed a total of 1250 examples\u001b[0m\n",
      "\u001b[34m#metrics {\"StartTime\": 1652988346.8317041, \"EndTime\": 1652988349.460305, \"Dimensions\": {\"Algorithm\": \"AWS/DeepAR\", \"Host\": \"algo-1\", \"Operation\": \"training\"}, \"Metrics\": {\"update.time\": {\"sum\": 2627.95090675354, \"count\": 1, \"min\": 2627.95090675354, \"max\": 2627.95090675354}}}\u001b[0m\n",
      "\u001b[34m[05/19/2022 19:25:49 INFO 140424429369152] #throughput_metric: host=algo-1, train throughput=475.6357430434072 records/second\u001b[0m\n",
      "\u001b[34m[05/19/2022 19:25:49 INFO 140424429369152] #progress_metric: host=algo-1, completed 15.0 % of epochs\u001b[0m\n",
      "\u001b[34m[05/19/2022 19:25:49 INFO 140424429369152] #quality_metric: host=algo-1, epoch=2, train loss <loss>=8.484119987487793\u001b[0m\n",
      "\u001b[34m[05/19/2022 19:25:50 INFO 140424429369152] Epoch[3] Batch[0] avg_epoch_loss=8.412708\u001b[0m\n",
      "\u001b[34m[05/19/2022 19:25:50 INFO 140424429369152] #quality_metric: host=algo-1, epoch=3, batch=0 train loss <loss>=8.412708282470703\u001b[0m\n",
      "\u001b[34m[05/19/2022 19:25:51 INFO 140424429369152] Epoch[3] Batch[5] avg_epoch_loss=8.327056\u001b[0m\n",
      "\u001b[34m[05/19/2022 19:25:51 INFO 140424429369152] #quality_metric: host=algo-1, epoch=3, batch=5 train loss <loss>=8.327056090037027\u001b[0m\n",
      "\u001b[34m[05/19/2022 19:25:51 INFO 140424429369152] Epoch[3] Batch [5]#011Speed: 616.03 samples/sec#011loss=8.327056\u001b[0m\n",
      "\u001b[34m[05/19/2022 19:25:51 INFO 140424429369152] processed a total of 1277 examples\u001b[0m\n",
      "\u001b[34m#metrics {\"StartTime\": 1652988349.4603755, \"EndTime\": 1652988351.9866936, \"Dimensions\": {\"Algorithm\": \"AWS/DeepAR\", \"Host\": \"algo-1\", \"Operation\": \"training\"}, \"Metrics\": {\"update.time\": {\"sum\": 2525.7437229156494, \"count\": 1, \"min\": 2525.7437229156494, \"max\": 2525.7437229156494}}}\u001b[0m\n",
      "\u001b[34m[05/19/2022 19:25:51 INFO 140424429369152] #throughput_metric: host=algo-1, train throughput=505.57146333437856 records/second\u001b[0m\n",
      "\u001b[34m[05/19/2022 19:25:51 INFO 140424429369152] #progress_metric: host=algo-1, completed 20.0 % of epochs\u001b[0m\n",
      "\u001b[34m[05/19/2022 19:25:51 INFO 140424429369152] #quality_metric: host=algo-1, epoch=3, train loss <loss>=8.311916160583497\u001b[0m\n",
      "\u001b[34m[05/19/2022 19:25:52 INFO 140424429369152] Epoch[4] Batch[0] avg_epoch_loss=8.158575\u001b[0m\n",
      "\u001b[34m[05/19/2022 19:25:52 INFO 140424429369152] #quality_metric: host=algo-1, epoch=4, batch=0 train loss <loss>=8.158575057983398\u001b[0m\n",
      "\u001b[34m[05/19/2022 19:25:53 INFO 140424429369152] Epoch[4] Batch[5] avg_epoch_loss=8.257874\u001b[0m\n",
      "\u001b[34m[05/19/2022 19:25:53 INFO 140424429369152] #quality_metric: host=algo-1, epoch=4, batch=5 train loss <loss>=8.257874170939127\u001b[0m\n",
      "\u001b[34m[05/19/2022 19:25:53 INFO 140424429369152] Epoch[4] Batch [5]#011Speed: 625.98 samples/sec#011loss=8.257874\u001b[0m\n",
      "\u001b[34m[05/19/2022 19:25:54 INFO 140424429369152] Epoch[4] Batch[10] avg_epoch_loss=8.236544\u001b[0m\n",
      "\u001b[34m[05/19/2022 19:25:54 INFO 140424429369152] #quality_metric: host=algo-1, epoch=4, batch=10 train loss <loss>=8.21094799041748\u001b[0m\n",
      "\u001b[34m[05/19/2022 19:25:54 INFO 140424429369152] Epoch[4] Batch [10]#011Speed: 612.19 samples/sec#011loss=8.210948\u001b[0m\n",
      "\u001b[34m[05/19/2022 19:25:54 INFO 140424429369152] processed a total of 1298 examples\u001b[0m\n",
      "\u001b[34m#metrics {\"StartTime\": 1652988351.9867666, \"EndTime\": 1652988354.7771978, \"Dimensions\": {\"Algorithm\": \"AWS/DeepAR\", \"Host\": \"algo-1\", \"Operation\": \"training\"}, \"Metrics\": {\"update.time\": {\"sum\": 2789.8361682891846, \"count\": 1, \"min\": 2789.8361682891846, \"max\": 2789.8361682891846}}}\u001b[0m\n",
      "\u001b[34m[05/19/2022 19:25:54 INFO 140424429369152] #throughput_metric: host=algo-1, train throughput=465.241926619844 records/second\u001b[0m\n",
      "\u001b[34m[05/19/2022 19:25:54 INFO 140424429369152] #progress_metric: host=algo-1, completed 25.0 % of epochs\u001b[0m\n",
      "\u001b[34m[05/19/2022 19:25:54 INFO 140424429369152] #quality_metric: host=algo-1, epoch=4, train loss <loss>=8.236544088883834\u001b[0m\n",
      "\u001b[34m[05/19/2022 19:25:55 INFO 140424429369152] Epoch[5] Batch[0] avg_epoch_loss=8.112908\u001b[0m\n",
      "\u001b[34m[05/19/2022 19:25:55 INFO 140424429369152] #quality_metric: host=algo-1, epoch=5, batch=0 train loss <loss>=8.112908363342285\u001b[0m\n",
      "\u001b[34m[05/19/2022 19:25:56 INFO 140424429369152] Epoch[5] Batch[5] avg_epoch_loss=8.092257\u001b[0m\n",
      "\u001b[34m[05/19/2022 19:25:56 INFO 140424429369152] #quality_metric: host=algo-1, epoch=5, batch=5 train loss <loss>=8.092256546020508\u001b[0m\n",
      "\u001b[34m[05/19/2022 19:25:56 INFO 140424429369152] Epoch[5] Batch [5]#011Speed: 623.97 samples/sec#011loss=8.092257\u001b[0m\n",
      "\u001b[34m[05/19/2022 19:25:57 INFO 140424429369152] processed a total of 1277 examples\u001b[0m\n",
      "\u001b[34m#metrics {\"StartTime\": 1652988354.7772732, \"EndTime\": 1652988357.3046284, \"Dimensions\": {\"Algorithm\": \"AWS/DeepAR\", \"Host\": \"algo-1\", \"Operation\": \"training\"}, \"Metrics\": {\"update.time\": {\"sum\": 2526.984214782715, \"count\": 1, \"min\": 2526.984214782715, \"max\": 2526.984214782715}}}\u001b[0m\n",
      "\u001b[34m[05/19/2022 19:25:57 INFO 140424429369152] #throughput_metric: host=algo-1, train throughput=505.32271803251064 records/second\u001b[0m\n",
      "\u001b[34m[05/19/2022 19:25:57 INFO 140424429369152] #progress_metric: host=algo-1, completed 30.0 % of epochs\u001b[0m\n",
      "\u001b[34m[05/19/2022 19:25:57 INFO 140424429369152] #quality_metric: host=algo-1, epoch=5, train loss <loss>=8.066660976409912\u001b[0m\n",
      "\u001b[34m[05/19/2022 19:25:58 INFO 140424429369152] Epoch[6] Batch[0] avg_epoch_loss=7.969571\u001b[0m\n",
      "\u001b[34m[05/19/2022 19:25:58 INFO 140424429369152] #quality_metric: host=algo-1, epoch=6, batch=0 train loss <loss>=7.969570636749268\u001b[0m\n",
      "\u001b[34m[05/19/2022 19:25:59 INFO 140424429369152] Epoch[6] Batch[5] avg_epoch_loss=7.989375\u001b[0m\n",
      "\u001b[34m[05/19/2022 19:25:59 INFO 140424429369152] #quality_metric: host=algo-1, epoch=6, batch=5 train loss <loss>=7.989375034968059\u001b[0m\n",
      "\u001b[34m[05/19/2022 19:25:59 INFO 140424429369152] Epoch[6] Batch [5]#011Speed: 608.38 samples/sec#011loss=7.989375\u001b[0m\n",
      "\u001b[34m[05/19/2022 19:26:00 INFO 140424429369152] Epoch[6] Batch[10] avg_epoch_loss=7.907519\u001b[0m\n",
      "\u001b[34m[05/19/2022 19:26:00 INFO 140424429369152] #quality_metric: host=algo-1, epoch=6, batch=10 train loss <loss>=7.80929126739502\u001b[0m\n",
      "\u001b[34m[05/19/2022 19:26:00 INFO 140424429369152] Epoch[6] Batch [10]#011Speed: 594.47 samples/sec#011loss=7.809291\u001b[0m\n",
      "\u001b[34m[05/19/2022 19:26:00 INFO 140424429369152] processed a total of 1296 examples\u001b[0m\n",
      "\u001b[34m#metrics {\"StartTime\": 1652988357.304704, \"EndTime\": 1652988360.1885703, \"Dimensions\": {\"Algorithm\": \"AWS/DeepAR\", \"Host\": \"algo-1\", \"Operation\": \"training\"}, \"Metrics\": {\"update.time\": {\"sum\": 2883.2666873931885, \"count\": 1, \"min\": 2883.2666873931885, \"max\": 2883.2666873931885}}}\u001b[0m\n",
      "\u001b[34m[05/19/2022 19:26:00 INFO 140424429369152] #throughput_metric: host=algo-1, train throughput=449.4703855991349 records/second\u001b[0m\n",
      "\u001b[34m[05/19/2022 19:26:00 INFO 140424429369152] #progress_metric: host=algo-1, completed 35.0 % of epochs\u001b[0m\n",
      "\u001b[34m[05/19/2022 19:26:00 INFO 140424429369152] #quality_metric: host=algo-1, epoch=6, train loss <loss>=7.9075187769803135\u001b[0m\n",
      "\u001b[34m[05/19/2022 19:26:00 INFO 140424429369152] Epoch[7] Batch[0] avg_epoch_loss=8.071338\u001b[0m\n",
      "\u001b[34m[05/19/2022 19:26:00 INFO 140424429369152] #quality_metric: host=algo-1, epoch=7, batch=0 train loss <loss>=8.071337699890137\u001b[0m\n",
      "\u001b[34m[05/19/2022 19:26:01 INFO 140424429369152] Epoch[7] Batch[5] avg_epoch_loss=7.922256\u001b[0m\n",
      "\u001b[34m[05/19/2022 19:26:01 INFO 140424429369152] #quality_metric: host=algo-1, epoch=7, batch=5 train loss <loss>=7.922256231307983\u001b[0m\n",
      "\u001b[34m[05/19/2022 19:26:01 INFO 140424429369152] Epoch[7] Batch [5]#011Speed: 564.44 samples/sec#011loss=7.922256\u001b[0m\n",
      "\u001b[34m[05/19/2022 19:26:03 INFO 140424429369152] Epoch[7] Batch[10] avg_epoch_loss=7.913387\u001b[0m\n",
      "\u001b[34m[05/19/2022 19:26:03 INFO 140424429369152] #quality_metric: host=algo-1, epoch=7, batch=10 train loss <loss>=7.902744102478027\u001b[0m\n",
      "\u001b[34m[05/19/2022 19:26:03 INFO 140424429369152] Epoch[7] Batch [10]#011Speed: 443.79 samples/sec#011loss=7.902744\u001b[0m\n",
      "\u001b[34m[05/19/2022 19:26:03 INFO 140424429369152] processed a total of 1330 examples\u001b[0m\n",
      "\u001b[34m#metrics {\"StartTime\": 1652988360.1886497, \"EndTime\": 1652988363.4016426, \"Dimensions\": {\"Algorithm\": \"AWS/DeepAR\", \"Host\": \"algo-1\", \"Operation\": \"training\"}, \"Metrics\": {\"update.time\": {\"sum\": 3212.282180786133, \"count\": 1, \"min\": 3212.282180786133, \"max\": 3212.282180786133}}}\u001b[0m\n",
      "\u001b[34m[05/19/2022 19:26:03 INFO 140424429369152] #throughput_metric: host=algo-1, train throughput=414.02144331384335 records/second\u001b[0m\n",
      "\u001b[34m[05/19/2022 19:26:03 INFO 140424429369152] #progress_metric: host=algo-1, completed 40.0 % of epochs\u001b[0m\n",
      "\u001b[34m[05/19/2022 19:26:03 INFO 140424429369152] #quality_metric: host=algo-1, epoch=7, train loss <loss>=7.913387081839821\u001b[0m\n",
      "\u001b[34m[05/19/2022 19:26:04 INFO 140424429369152] Epoch[8] Batch[0] avg_epoch_loss=7.784473\u001b[0m\n",
      "\u001b[34m[05/19/2022 19:26:04 INFO 140424429369152] #quality_metric: host=algo-1, epoch=8, batch=0 train loss <loss>=7.784472942352295\u001b[0m\n",
      "\u001b[34m[05/19/2022 19:26:05 INFO 140424429369152] Epoch[8] Batch[5] avg_epoch_loss=7.816827\u001b[0m\n",
      "\u001b[34m[05/19/2022 19:26:05 INFO 140424429369152] #quality_metric: host=algo-1, epoch=8, batch=5 train loss <loss>=7.816827456156413\u001b[0m\n",
      "\u001b[34m[05/19/2022 19:26:05 INFO 140424429369152] Epoch[8] Batch [5]#011Speed: 474.82 samples/sec#011loss=7.816827\u001b[0m\n",
      "\u001b[34m[05/19/2022 19:26:06 INFO 140424429369152] processed a total of 1270 examples\u001b[0m\n",
      "\u001b[34m#metrics {\"StartTime\": 1652988363.4017165, \"EndTime\": 1652988366.7328582, \"Dimensions\": {\"Algorithm\": \"AWS/DeepAR\", \"Host\": \"algo-1\", \"Operation\": \"training\"}, \"Metrics\": {\"update.time\": {\"sum\": 3330.638647079468, \"count\": 1, \"min\": 3330.638647079468, \"max\": 3330.638647079468}}}\u001b[0m\n",
      "\u001b[34m[05/19/2022 19:26:06 INFO 140424429369152] #throughput_metric: host=algo-1, train throughput=381.25467857323326 records/second\u001b[0m\n",
      "\u001b[34m[05/19/2022 19:26:06 INFO 140424429369152] #progress_metric: host=algo-1, completed 45.0 % of epochs\u001b[0m\n",
      "\u001b[34m[05/19/2022 19:26:06 INFO 140424429369152] #quality_metric: host=algo-1, epoch=8, train loss <loss>=7.8076979637146\u001b[0m\n",
      "\u001b[34m[05/19/2022 19:26:07 INFO 140424429369152] Epoch[9] Batch[0] avg_epoch_loss=7.720559\u001b[0m\n",
      "\u001b[34m[05/19/2022 19:26:07 INFO 140424429369152] #quality_metric: host=algo-1, epoch=9, batch=0 train loss <loss>=7.720559120178223\u001b[0m\n",
      "\u001b[34m[05/19/2022 19:26:08 INFO 140424429369152] Epoch[9] Batch[5] avg_epoch_loss=7.746021\u001b[0m\n",
      "\u001b[34m[05/19/2022 19:26:08 INFO 140424429369152] #quality_metric: host=algo-1, epoch=9, batch=5 train loss <loss>=7.746020873387654\u001b[0m\n",
      "\u001b[34m[05/19/2022 19:26:08 INFO 140424429369152] Epoch[9] Batch [5]#011Speed: 632.58 samples/sec#011loss=7.746021\u001b[0m\n",
      "\u001b[34m[05/19/2022 19:26:10 INFO 140424429369152] Epoch[9] Batch[10] avg_epoch_loss=7.713044\u001b[0m\n",
      "\u001b[34m[05/19/2022 19:26:10 INFO 140424429369152] #quality_metric: host=algo-1, epoch=9, batch=10 train loss <loss>=7.673471069335937\u001b[0m\n",
      "\u001b[34m[05/19/2022 19:26:10 INFO 140424429369152] Epoch[9] Batch [10]#011Speed: 538.68 samples/sec#011loss=7.673471\u001b[0m\n",
      "\u001b[34m[05/19/2022 19:26:10 INFO 140424429369152] processed a total of 1286 examples\u001b[0m\n",
      "\u001b[34m#metrics {\"StartTime\": 1652988366.7331517, \"EndTime\": 1652988370.0132108, \"Dimensions\": {\"Algorithm\": \"AWS/DeepAR\", \"Host\": \"algo-1\", \"Operation\": \"training\"}, \"Metrics\": {\"update.time\": {\"sum\": 3279.200792312622, \"count\": 1, \"min\": 3279.200792312622, \"max\": 3279.200792312622}}}\u001b[0m\n",
      "\u001b[34m[05/19/2022 19:26:10 INFO 140424429369152] #throughput_metric: host=algo-1, train throughput=392.14474882452 records/second\u001b[0m\n",
      "\u001b[34m[05/19/2022 19:26:10 INFO 140424429369152] #progress_metric: host=algo-1, completed 50.0 % of epochs\u001b[0m\n",
      "\u001b[34m[05/19/2022 19:26:10 INFO 140424429369152] #quality_metric: host=algo-1, epoch=9, train loss <loss>=7.713043689727783\u001b[0m\n",
      "\u001b[34m[05/19/2022 19:26:10 INFO 140424429369152] Epoch[10] Batch[0] avg_epoch_loss=7.731991\u001b[0m\n",
      "\u001b[34m[05/19/2022 19:26:10 INFO 140424429369152] #quality_metric: host=algo-1, epoch=10, batch=0 train loss <loss>=7.731991291046143\u001b[0m\n",
      "\u001b[34m[05/19/2022 19:26:11 INFO 140424429369152] Epoch[10] Batch[5] avg_epoch_loss=7.727737\u001b[0m\n",
      "\u001b[34m[05/19/2022 19:26:11 INFO 140424429369152] #quality_metric: host=algo-1, epoch=10, batch=5 train loss <loss>=7.727737108866374\u001b[0m\n",
      "\u001b[34m[05/19/2022 19:26:11 INFO 140424429369152] Epoch[10] Batch [5]#011Speed: 628.24 samples/sec#011loss=7.727737\u001b[0m\n",
      "\u001b[34m[05/19/2022 19:26:12 INFO 140424429369152] Epoch[10] Batch[10] avg_epoch_loss=7.710175\u001b[0m\n",
      "\u001b[34m[05/19/2022 19:26:12 INFO 140424429369152] #quality_metric: host=algo-1, epoch=10, batch=10 train loss <loss>=7.68909969329834\u001b[0m\n",
      "\u001b[34m[05/19/2022 19:26:12 INFO 140424429369152] Epoch[10] Batch [10]#011Speed: 615.06 samples/sec#011loss=7.689100\u001b[0m\n",
      "\u001b[34m[05/19/2022 19:26:12 INFO 140424429369152] processed a total of 1310 examples\u001b[0m\n",
      "\u001b[34m#metrics {\"StartTime\": 1652988370.0133064, \"EndTime\": 1652988372.7237668, \"Dimensions\": {\"Algorithm\": \"AWS/DeepAR\", \"Host\": \"algo-1\", \"Operation\": \"training\"}, \"Metrics\": {\"update.time\": {\"sum\": 2709.9480628967285, \"count\": 1, \"min\": 2709.9480628967285, \"max\": 2709.9480628967285}}}\u001b[0m\n",
      "\u001b[34m[05/19/2022 19:26:12 INFO 140424429369152] #throughput_metric: host=algo-1, train throughput=483.38211166968404 records/second\u001b[0m\n",
      "\u001b[34m[05/19/2022 19:26:12 INFO 140424429369152] #progress_metric: host=algo-1, completed 55.0 % of epochs\u001b[0m\n",
      "\u001b[34m[05/19/2022 19:26:12 INFO 140424429369152] #quality_metric: host=algo-1, epoch=10, train loss <loss>=7.71017464724454\u001b[0m\n",
      "\u001b[34m[05/19/2022 19:26:13 INFO 140424429369152] Epoch[11] Batch[0] avg_epoch_loss=7.804526\u001b[0m\n",
      "\u001b[34m[05/19/2022 19:26:13 INFO 140424429369152] #quality_metric: host=algo-1, epoch=11, batch=0 train loss <loss>=7.804526329040527\u001b[0m\n",
      "\u001b[34m[05/19/2022 19:26:14 INFO 140424429369152] Epoch[11] Batch[5] avg_epoch_loss=7.669839\u001b[0m\n",
      "\u001b[34m[05/19/2022 19:26:14 INFO 140424429369152] #quality_metric: host=algo-1, epoch=11, batch=5 train loss <loss>=7.669838507970174\u001b[0m\n",
      "\u001b[34m[05/19/2022 19:26:14 INFO 140424429369152] Epoch[11] Batch [5]#011Speed: 601.54 samples/sec#011loss=7.669839\u001b[0m\n",
      "\u001b[34m[05/19/2022 19:26:15 INFO 140424429369152] processed a total of 1228 examples\u001b[0m\n",
      "\u001b[34m#metrics {\"StartTime\": 1652988372.7238512, \"EndTime\": 1652988375.3113797, \"Dimensions\": {\"Algorithm\": \"AWS/DeepAR\", \"Host\": \"algo-1\", \"Operation\": \"training\"}, \"Metrics\": {\"update.time\": {\"sum\": 2587.1477127075195, \"count\": 1, \"min\": 2587.1477127075195, \"max\": 2587.1477127075195}}}\u001b[0m\n",
      "\u001b[34m[05/19/2022 19:26:15 INFO 140424429369152] #throughput_metric: host=algo-1, train throughput=474.63479412439847 records/second\u001b[0m\n",
      "\u001b[34m[05/19/2022 19:26:15 INFO 140424429369152] #progress_metric: host=algo-1, completed 60.0 % of epochs\u001b[0m\n",
      "\u001b[34m[05/19/2022 19:26:15 INFO 140424429369152] #quality_metric: host=algo-1, epoch=11, train loss <loss>=7.637922191619873\u001b[0m\n",
      "\u001b[34m[05/19/2022 19:26:15 INFO 140424429369152] Epoch[12] Batch[0] avg_epoch_loss=7.640207\u001b[0m\n",
      "\u001b[34m[05/19/2022 19:26:15 INFO 140424429369152] #quality_metric: host=algo-1, epoch=12, batch=0 train loss <loss>=7.640206813812256\u001b[0m\n",
      "\u001b[34m[05/19/2022 19:26:16 INFO 140424429369152] Epoch[12] Batch[5] avg_epoch_loss=7.596262\u001b[0m\n",
      "\u001b[34m[05/19/2022 19:26:16 INFO 140424429369152] #quality_metric: host=algo-1, epoch=12, batch=5 train loss <loss>=7.596262454986572\u001b[0m\n",
      "\u001b[34m[05/19/2022 19:26:16 INFO 140424429369152] Epoch[12] Batch [5]#011Speed: 629.79 samples/sec#011loss=7.596262\u001b[0m\n",
      "\u001b[34m[05/19/2022 19:26:17 INFO 140424429369152] processed a total of 1275 examples\u001b[0m\n",
      "\u001b[34m#metrics {\"StartTime\": 1652988375.3114498, \"EndTime\": 1652988377.796823, \"Dimensions\": {\"Algorithm\": \"AWS/DeepAR\", \"Host\": \"algo-1\", \"Operation\": \"training\"}, \"Metrics\": {\"update.time\": {\"sum\": 2484.8251342773438, \"count\": 1, \"min\": 2484.8251342773438, \"max\": 2484.8251342773438}}}\u001b[0m\n",
      "\u001b[34m[05/19/2022 19:26:17 INFO 140424429369152] #throughput_metric: host=algo-1, train throughput=513.0700256940961 records/second\u001b[0m\n",
      "\u001b[34m[05/19/2022 19:26:17 INFO 140424429369152] #progress_metric: host=algo-1, completed 65.0 % of epochs\u001b[0m\n",
      "\u001b[34m[05/19/2022 19:26:17 INFO 140424429369152] #quality_metric: host=algo-1, epoch=12, train loss <loss>=7.604042005538941\u001b[0m\n",
      "\u001b[34m[05/19/2022 19:26:18 INFO 140424429369152] Epoch[13] Batch[0] avg_epoch_loss=7.577709\u001b[0m\n",
      "\u001b[34m[05/19/2022 19:26:18 INFO 140424429369152] #quality_metric: host=algo-1, epoch=13, batch=0 train loss <loss>=7.577709197998047\u001b[0m\n",
      "\u001b[34m[05/19/2022 19:26:19 INFO 140424429369152] Epoch[13] Batch[5] avg_epoch_loss=7.575271\u001b[0m\n",
      "\u001b[34m[05/19/2022 19:26:19 INFO 140424429369152] #quality_metric: host=algo-1, epoch=13, batch=5 train loss <loss>=7.575271050135295\u001b[0m\n",
      "\u001b[34m[05/19/2022 19:26:19 INFO 140424429369152] Epoch[13] Batch [5]#011Speed: 617.42 samples/sec#011loss=7.575271\u001b[0m\n",
      "\u001b[34m[05/19/2022 19:26:20 INFO 140424429369152] Epoch[13] Batch[10] avg_epoch_loss=7.551943\u001b[0m\n",
      "\u001b[34m[05/19/2022 19:26:20 INFO 140424429369152] #quality_metric: host=algo-1, epoch=13, batch=10 train loss <loss>=7.5239485740661625\u001b[0m\n",
      "\u001b[34m[05/19/2022 19:26:20 INFO 140424429369152] Epoch[13] Batch [10]#011Speed: 579.17 samples/sec#011loss=7.523949\u001b[0m\n",
      "\u001b[34m[05/19/2022 19:26:20 INFO 140424429369152] processed a total of 1293 examples\u001b[0m\n",
      "\u001b[34m#metrics {\"StartTime\": 1652988377.7969816, \"EndTime\": 1652988380.5871809, \"Dimensions\": {\"Algorithm\": \"AWS/DeepAR\", \"Host\": \"algo-1\", \"Operation\": \"training\"}, \"Metrics\": {\"update.time\": {\"sum\": 2789.5524501800537, \"count\": 1, \"min\": 2789.5524501800537, \"max\": 2789.5524501800537}}}\u001b[0m\n",
      "\u001b[34m[05/19/2022 19:26:20 INFO 140424429369152] #throughput_metric: host=algo-1, train throughput=463.47583881174836 records/second\u001b[0m\n",
      "\u001b[34m[05/19/2022 19:26:20 INFO 140424429369152] #progress_metric: host=algo-1, completed 70.0 % of epochs\u001b[0m\n",
      "\u001b[34m[05/19/2022 19:26:20 INFO 140424429369152] #quality_metric: host=algo-1, epoch=13, train loss <loss>=7.551942651922053\u001b[0m\n",
      "\u001b[34m[05/19/2022 19:26:21 INFO 140424429369152] Epoch[14] Batch[0] avg_epoch_loss=7.576989\u001b[0m\n",
      "\u001b[34m[05/19/2022 19:26:21 INFO 140424429369152] #quality_metric: host=algo-1, epoch=14, batch=0 train loss <loss>=7.57698917388916\u001b[0m\n",
      "\u001b[34m[05/19/2022 19:26:22 INFO 140424429369152] Epoch[14] Batch[5] avg_epoch_loss=7.565971\u001b[0m\n",
      "\u001b[34m[05/19/2022 19:26:22 INFO 140424429369152] #quality_metric: host=algo-1, epoch=14, batch=5 train loss <loss>=7.565970738728841\u001b[0m\n",
      "\u001b[34m[05/19/2022 19:26:22 INFO 140424429369152] Epoch[14] Batch [5]#011Speed: 630.86 samples/sec#011loss=7.565971\u001b[0m\n",
      "\u001b[34m[05/19/2022 19:26:23 INFO 140424429369152] processed a total of 1275 examples\u001b[0m\n",
      "\u001b[34m#metrics {\"StartTime\": 1652988380.5872555, \"EndTime\": 1652988383.0644898, \"Dimensions\": {\"Algorithm\": \"AWS/DeepAR\", \"Host\": \"algo-1\", \"Operation\": \"training\"}, \"Metrics\": {\"update.time\": {\"sum\": 2476.4885902404785, \"count\": 1, \"min\": 2476.4885902404785, \"max\": 2476.4885902404785}}}\u001b[0m\n",
      "\u001b[34m[05/19/2022 19:26:23 INFO 140424429369152] #throughput_metric: host=algo-1, train throughput=514.8171313132091 records/second\u001b[0m\n",
      "\u001b[34m[05/19/2022 19:26:23 INFO 140424429369152] #progress_metric: host=algo-1, completed 75.0 % of epochs\u001b[0m\n",
      "\u001b[34m[05/19/2022 19:26:23 INFO 140424429369152] #quality_metric: host=algo-1, epoch=14, train loss <loss>=7.562049770355225\u001b[0m\n",
      "\u001b[34m[05/19/2022 19:26:23 INFO 140424429369152] Epoch[15] Batch[0] avg_epoch_loss=7.540627\u001b[0m\n",
      "\u001b[34m[05/19/2022 19:26:23 INFO 140424429369152] #quality_metric: host=algo-1, epoch=15, batch=0 train loss <loss>=7.540627479553223\u001b[0m\n",
      "\u001b[34m[05/19/2022 19:26:24 INFO 140424429369152] Epoch[15] Batch[5] avg_epoch_loss=7.543192\u001b[0m\n",
      "\u001b[34m[05/19/2022 19:26:24 INFO 140424429369152] #quality_metric: host=algo-1, epoch=15, batch=5 train loss <loss>=7.543192148208618\u001b[0m\n",
      "\u001b[34m[05/19/2022 19:26:24 INFO 140424429369152] Epoch[15] Batch [5]#011Speed: 619.59 samples/sec#011loss=7.543192\u001b[0m\n",
      "\u001b[34m[05/19/2022 19:26:25 INFO 140424429369152] processed a total of 1241 examples\u001b[0m\n",
      "\u001b[34m#metrics {\"StartTime\": 1652988383.0645597, \"EndTime\": 1652988385.6231394, \"Dimensions\": {\"Algorithm\": \"AWS/DeepAR\", \"Host\": \"algo-1\", \"Operation\": \"training\"}, \"Metrics\": {\"update.time\": {\"sum\": 2558.1142902374268, \"count\": 1, \"min\": 2558.1142902374268, \"max\": 2558.1142902374268}}}\u001b[0m\n",
      "\u001b[34m[05/19/2022 19:26:25 INFO 140424429369152] #throughput_metric: host=algo-1, train throughput=485.0984192807267 records/second\u001b[0m\n",
      "\u001b[34m[05/19/2022 19:26:25 INFO 140424429369152] #progress_metric: host=algo-1, completed 80.0 % of epochs\u001b[0m\n",
      "\u001b[34m[05/19/2022 19:26:25 INFO 140424429369152] #quality_metric: host=algo-1, epoch=15, train loss <loss>=7.527630424499511\u001b[0m\n",
      "\u001b[34m[05/19/2022 19:26:26 INFO 140424429369152] Epoch[16] Batch[0] avg_epoch_loss=7.649434\u001b[0m\n",
      "\u001b[34m[05/19/2022 19:26:26 INFO 140424429369152] #quality_metric: host=algo-1, epoch=16, batch=0 train loss <loss>=7.6494340896606445\u001b[0m\n",
      "\u001b[34m[05/19/2022 19:26:27 INFO 140424429369152] Epoch[16] Batch[5] avg_epoch_loss=7.534247\u001b[0m\n",
      "\u001b[34m[05/19/2022 19:26:27 INFO 140424429369152] #quality_metric: host=algo-1, epoch=16, batch=5 train loss <loss>=7.534246921539307\u001b[0m\n",
      "\u001b[34m[05/19/2022 19:26:27 INFO 140424429369152] Epoch[16] Batch [5]#011Speed: 630.10 samples/sec#011loss=7.534247\u001b[0m\n",
      "\u001b[34m[05/19/2022 19:26:28 INFO 140424429369152] Epoch[16] Batch[10] avg_epoch_loss=7.535925\u001b[0m\n",
      "\u001b[34m[05/19/2022 19:26:28 INFO 140424429369152] #quality_metric: host=algo-1, epoch=16, batch=10 train loss <loss>=7.537939739227295\u001b[0m\n",
      "\u001b[34m[05/19/2022 19:26:28 INFO 140424429369152] Epoch[16] Batch [10]#011Speed: 624.35 samples/sec#011loss=7.537940\u001b[0m\n",
      "\u001b[34m[05/19/2022 19:26:28 INFO 140424429369152] processed a total of 1318 examples\u001b[0m\n",
      "\u001b[34m#metrics {\"StartTime\": 1652988385.6232157, \"EndTime\": 1652988388.3262172, \"Dimensions\": {\"Algorithm\": \"AWS/DeepAR\", \"Host\": \"algo-1\", \"Operation\": \"training\"}, \"Metrics\": {\"update.time\": {\"sum\": 2702.3866176605225, \"count\": 1, \"min\": 2702.3866176605225, \"max\": 2702.3866176605225}}}\u001b[0m\n",
      "\u001b[34m[05/19/2022 19:26:28 INFO 140424429369152] #throughput_metric: host=algo-1, train throughput=487.6963001603954 records/second\u001b[0m\n",
      "\u001b[34m[05/19/2022 19:26:28 INFO 140424429369152] #progress_metric: host=algo-1, completed 85.0 % of epochs\u001b[0m\n",
      "\u001b[34m[05/19/2022 19:26:28 INFO 140424429369152] #quality_metric: host=algo-1, epoch=16, train loss <loss>=7.535925475033847\u001b[0m\n",
      "\u001b[34m[05/19/2022 19:26:28 INFO 140424429369152] Epoch[17] Batch[0] avg_epoch_loss=7.517416\u001b[0m\n",
      "\u001b[34m[05/19/2022 19:26:28 INFO 140424429369152] #quality_metric: host=algo-1, epoch=17, batch=0 train loss <loss>=7.517416477203369\u001b[0m\n",
      "\u001b[34m[05/19/2022 19:26:30 INFO 140424429369152] Epoch[17] Batch[5] avg_epoch_loss=7.494003\u001b[0m\n",
      "\u001b[34m[05/19/2022 19:26:30 INFO 140424429369152] #quality_metric: host=algo-1, epoch=17, batch=5 train loss <loss>=7.494003216425578\u001b[0m\n",
      "\u001b[34m[05/19/2022 19:26:30 INFO 140424429369152] Epoch[17] Batch [5]#011Speed: 592.19 samples/sec#011loss=7.494003\u001b[0m\n",
      "\u001b[34m[05/19/2022 19:26:30 INFO 140424429369152] processed a total of 1244 examples\u001b[0m\n",
      "\u001b[34m#metrics {\"StartTime\": 1652988388.3262966, \"EndTime\": 1652988390.8897371, \"Dimensions\": {\"Algorithm\": \"AWS/DeepAR\", \"Host\": \"algo-1\", \"Operation\": \"training\"}, \"Metrics\": {\"update.time\": {\"sum\": 2563.063144683838, \"count\": 1, \"min\": 2563.063144683838, \"max\": 2563.063144683838}}}\u001b[0m\n",
      "\u001b[34m[05/19/2022 19:26:30 INFO 140424429369152] #throughput_metric: host=algo-1, train throughput=485.33381652334987 records/second\u001b[0m\n",
      "\u001b[34m[05/19/2022 19:26:30 INFO 140424429369152] #progress_metric: host=algo-1, completed 90.0 % of epochs\u001b[0m\n",
      "\u001b[34m[05/19/2022 19:26:30 INFO 140424429369152] #quality_metric: host=algo-1, epoch=17, train loss <loss>=7.468998813629151\u001b[0m\n",
      "\u001b[34m[05/19/2022 19:26:31 INFO 140424429369152] Epoch[18] Batch[0] avg_epoch_loss=7.480132\u001b[0m\n",
      "\u001b[34m[05/19/2022 19:26:31 INFO 140424429369152] #quality_metric: host=algo-1, epoch=18, batch=0 train loss <loss>=7.480132102966309\u001b[0m\n",
      "\u001b[34m[05/19/2022 19:26:32 INFO 140424429369152] Epoch[18] Batch[5] avg_epoch_loss=7.452446\u001b[0m\n",
      "\u001b[34m[05/19/2022 19:26:32 INFO 140424429369152] #quality_metric: host=algo-1, epoch=18, batch=5 train loss <loss>=7.452445904413859\u001b[0m\n",
      "\u001b[34m[05/19/2022 19:26:32 INFO 140424429369152] Epoch[18] Batch [5]#011Speed: 620.06 samples/sec#011loss=7.452446\u001b[0m\n",
      "\u001b[34m[05/19/2022 19:26:33 INFO 140424429369152] Epoch[18] Batch[10] avg_epoch_loss=7.440744\u001b[0m\n",
      "\u001b[34m[05/19/2022 19:26:33 INFO 140424429369152] #quality_metric: host=algo-1, epoch=18, batch=10 train loss <loss>=7.42670087814331\u001b[0m\n",
      "\u001b[34m[05/19/2022 19:26:33 INFO 140424429369152] Epoch[18] Batch [10]#011Speed: 629.12 samples/sec#011loss=7.426701\u001b[0m\n",
      "\u001b[34m[05/19/2022 19:26:33 INFO 140424429369152] processed a total of 1281 examples\u001b[0m\n",
      "\u001b[34m#metrics {\"StartTime\": 1652988390.8898075, \"EndTime\": 1652988393.6140008, \"Dimensions\": {\"Algorithm\": \"AWS/DeepAR\", \"Host\": \"algo-1\", \"Operation\": \"training\"}, \"Metrics\": {\"update.time\": {\"sum\": 2723.360776901245, \"count\": 1, \"min\": 2723.360776901245, \"max\": 2723.360776901245}}}\u001b[0m\n",
      "\u001b[34m[05/19/2022 19:26:33 INFO 140424429369152] #throughput_metric: host=algo-1, train throughput=470.35534343516844 records/second\u001b[0m\n",
      "\u001b[34m[05/19/2022 19:26:33 INFO 140424429369152] #progress_metric: host=algo-1, completed 95.0 % of epochs\u001b[0m\n",
      "\u001b[34m[05/19/2022 19:26:33 INFO 140424429369152] #quality_metric: host=algo-1, epoch=18, train loss <loss>=7.440743619745428\u001b[0m\n",
      "\u001b[34m[05/19/2022 19:26:34 INFO 140424429369152] Epoch[19] Batch[0] avg_epoch_loss=7.671194\u001b[0m\n",
      "\u001b[34m[05/19/2022 19:26:34 INFO 140424429369152] #quality_metric: host=algo-1, epoch=19, batch=0 train loss <loss>=7.671194076538086\u001b[0m\n",
      "\n",
      "2022-05-19 19:26:45 Uploading - Uploading generated training model\u001b[34m[05/19/2022 19:26:35 INFO 140424429369152] Epoch[19] Batch[5] avg_epoch_loss=7.539432\u001b[0m\n",
      "\u001b[34m[05/19/2022 19:26:35 INFO 140424429369152] #quality_metric: host=algo-1, epoch=19, batch=5 train loss <loss>=7.539432446161906\u001b[0m\n",
      "\u001b[34m[05/19/2022 19:26:35 INFO 140424429369152] Epoch[19] Batch [5]#011Speed: 555.01 samples/sec#011loss=7.539432\u001b[0m\n",
      "\u001b[34m[05/19/2022 19:26:36 INFO 140424429369152] Epoch[19] Batch[10] avg_epoch_loss=7.508689\u001b[0m\n",
      "\u001b[34m[05/19/2022 19:26:36 INFO 140424429369152] #quality_metric: host=algo-1, epoch=19, batch=10 train loss <loss>=7.471797943115234\u001b[0m\n",
      "\u001b[34m[05/19/2022 19:26:36 INFO 140424429369152] Epoch[19] Batch [10]#011Speed: 618.78 samples/sec#011loss=7.471798\u001b[0m\n",
      "\u001b[34m[05/19/2022 19:26:36 INFO 140424429369152] processed a total of 1323 examples\u001b[0m\n",
      "\u001b[34m#metrics {\"StartTime\": 1652988393.6140754, \"EndTime\": 1652988396.6645823, \"Dimensions\": {\"Algorithm\": \"AWS/DeepAR\", \"Host\": \"algo-1\", \"Operation\": \"training\"}, \"Metrics\": {\"update.time\": {\"sum\": 3050.1151084899902, \"count\": 1, \"min\": 3050.1151084899902, \"max\": 3050.1151084899902}}}\u001b[0m\n",
      "\u001b[34m[05/19/2022 19:26:36 INFO 140424429369152] #throughput_metric: host=algo-1, train throughput=433.7249312195565 records/second\u001b[0m\n",
      "\u001b[34m[05/19/2022 19:26:36 INFO 140424429369152] #progress_metric: host=algo-1, completed 100.0 % of epochs\u001b[0m\n",
      "\u001b[34m[05/19/2022 19:26:36 INFO 140424429369152] #quality_metric: host=algo-1, epoch=19, train loss <loss>=7.508689490231601\u001b[0m\n",
      "\u001b[34m[05/19/2022 19:26:36 INFO 140424429369152] Final loss: 7.508689490231601 (occurred at epoch 19)\u001b[0m\n",
      "\u001b[34m[05/19/2022 19:26:36 INFO 140424429369152] #quality_metric: host=algo-1, train final_loss <loss>=7.508689490231601\u001b[0m\n",
      "\u001b[34m[05/19/2022 19:26:36 INFO 140424429369152] Worker algo-1 finished training.\u001b[0m\n",
      "\u001b[34m[05/19/2022 19:26:36 WARNING 140424429369152] wait_for_all_workers will not sync workers since the kv store is not running distributed\u001b[0m\n",
      "\u001b[34m[05/19/2022 19:26:36 INFO 140424429369152] All workers finished. Serializing model for prediction.\u001b[0m\n",
      "\u001b[34m#metrics {\"StartTime\": 1652988396.6646442, \"EndTime\": 1652988396.8715687, \"Dimensions\": {\"Algorithm\": \"AWS/DeepAR\", \"Host\": \"algo-1\", \"Operation\": \"training\"}, \"Metrics\": {\"get_graph.time\": {\"sum\": 205.28650283813477, \"count\": 1, \"min\": 205.28650283813477, \"max\": 205.28650283813477}}}\u001b[0m\n",
      "\u001b[34m[05/19/2022 19:26:36 INFO 140424429369152] Number of GPUs being used: 0\u001b[0m\n",
      "\u001b[34m#metrics {\"StartTime\": 1652988396.8716319, \"EndTime\": 1652988396.9679046, \"Dimensions\": {\"Algorithm\": \"AWS/DeepAR\", \"Host\": \"algo-1\", \"Operation\": \"training\"}, \"Metrics\": {\"finalize.time\": {\"sum\": 301.65696144104004, \"count\": 1, \"min\": 301.65696144104004, \"max\": 301.65696144104004}}}\u001b[0m\n",
      "\u001b[34m[05/19/2022 19:26:36 INFO 140424429369152] Serializing to /opt/ml/model/model_algo-1\u001b[0m\n",
      "\u001b[34m[05/19/2022 19:26:36 INFO 140424429369152] Saved checkpoint to \"/opt/ml/model/model_algo-1-0000.params\"\u001b[0m\n",
      "\u001b[34m#metrics {\"StartTime\": 1652988396.9679852, \"EndTime\": 1652988396.9806187, \"Dimensions\": {\"Algorithm\": \"AWS/DeepAR\", \"Host\": \"algo-1\", \"Operation\": \"training\"}, \"Metrics\": {\"model.serialize.time\": {\"sum\": 12.432575225830078, \"count\": 1, \"min\": 12.432575225830078, \"max\": 12.432575225830078}}}\u001b[0m\n",
      "\u001b[34m[05/19/2022 19:26:36 INFO 140424429369152] Successfully serialized the model for prediction.\u001b[0m\n",
      "\u001b[34m[05/19/2022 19:26:36 INFO 140424429369152] #memory_usage::<batchbuffer> = 32.919921875 mb\u001b[0m\n",
      "\u001b[34m[05/19/2022 19:26:36 INFO 140424429369152] Evaluating model accuracy on testset using 100 samples\u001b[0m\n",
      "\u001b[34m#metrics {\"StartTime\": 1652988396.9806674, \"EndTime\": 1652988396.9858718, \"Dimensions\": {\"Algorithm\": \"AWS/DeepAR\", \"Host\": \"algo-1\", \"Operation\": \"training\"}, \"Metrics\": {\"model.bind.time\": {\"sum\": 0.034809112548828125, \"count\": 1, \"min\": 0.034809112548828125, \"max\": 0.034809112548828125}}}\u001b[0m\n",
      "\u001b[34m#metrics {\"StartTime\": 1652988396.985927, \"EndTime\": 1652988401.1020687, \"Dimensions\": {\"Algorithm\": \"AWS/DeepAR\", \"Host\": \"algo-1\", \"Operation\": \"training\"}, \"Metrics\": {\"model.score.time\": {\"sum\": 4116.281270980835, \"count\": 1, \"min\": 4116.281270980835, \"max\": 4116.281270980835}}}\u001b[0m\n",
      "\u001b[34m[05/19/2022 19:26:41 INFO 140424429369152] #test_score (algo-1, RMSE): 953.1787870069287\u001b[0m\n",
      "\u001b[34m[05/19/2022 19:26:41 INFO 140424429369152] #test_score (algo-1, mean_absolute_QuantileLoss): 14235.995740000406\u001b[0m\n",
      "\u001b[34m[05/19/2022 19:26:41 INFO 140424429369152] #test_score (algo-1, mean_wQuantileLoss): 0.14383135213231768\u001b[0m\n",
      "\u001b[34m[05/19/2022 19:26:41 INFO 140424429369152] #test_score (algo-1, wQuantileLoss[0.1]): 0.10685498469348766\u001b[0m\n",
      "\u001b[34m[05/19/2022 19:26:41 INFO 140424429369152] #test_score (algo-1, wQuantileLoss[0.2]): 0.14312989617552208\u001b[0m\n",
      "\u001b[34m[05/19/2022 19:26:41 INFO 140424429369152] #test_score (algo-1, wQuantileLoss[0.3]): 0.15719334704210844\u001b[0m\n",
      "\u001b[34m[05/19/2022 19:26:41 INFO 140424429369152] #test_score (algo-1, wQuantileLoss[0.4]): 0.16459143493397047\u001b[0m\n",
      "\u001b[34m[05/19/2022 19:26:41 INFO 140424429369152] #test_score (algo-1, wQuantileLoss[0.5]): 0.166094100437854\u001b[0m\n",
      "\u001b[34m[05/19/2022 19:26:41 INFO 140424429369152] #test_score (algo-1, wQuantileLoss[0.6]): 0.16705830476709355\u001b[0m\n",
      "\u001b[34m[05/19/2022 19:26:41 INFO 140424429369152] #test_score (algo-1, wQuantileLoss[0.7]): 0.1521478414133248\u001b[0m\n",
      "\u001b[34m[05/19/2022 19:26:41 INFO 140424429369152] #test_score (algo-1, wQuantileLoss[0.8]): 0.13247242294347442\u001b[0m\n",
      "\u001b[34m[05/19/2022 19:26:41 INFO 140424429369152] #test_score (algo-1, wQuantileLoss[0.9]): 0.10493983678402367\u001b[0m\n",
      "\u001b[34m[05/19/2022 19:26:41 INFO 140424429369152] #quality_metric: host=algo-1, test RMSE <loss>=953.1787870069287\u001b[0m\n",
      "\u001b[34m[05/19/2022 19:26:41 INFO 140424429369152] #quality_metric: host=algo-1, test mean_wQuantileLoss <loss>=0.14383135213231768\u001b[0m\n",
      "\u001b[34m#metrics {\"StartTime\": 1652988401.102149, \"EndTime\": 1652988401.1278448, \"Dimensions\": {\"Algorithm\": \"AWS/DeepAR\", \"Host\": \"algo-1\", \"Operation\": \"training\"}, \"Metrics\": {\"setuptime\": {\"sum\": 7.390737533569336, \"count\": 1, \"min\": 7.390737533569336, \"max\": 7.390737533569336}, \"totaltime\": {\"sum\": 61576.380491256714, \"count\": 1, \"min\": 61576.380491256714, \"max\": 61576.380491256714}}}\u001b[0m\n",
      "\n",
      "2022-05-19 19:27:16 Completed - Training job completed\n",
      "Training seconds: 99\n",
      "Billable seconds: 28\n",
      "Managed Spot Training savings: 71.7%\n"
     ]
    }
   ],
   "source": [
    "deepar.fit(inputs = data_channels)"
   ]
  },
  {
   "cell_type": "markdown",
   "metadata": {},
   "source": [
    "# Deploy e previsões"
   ]
  },
  {
   "cell_type": "code",
   "execution_count": 61,
   "metadata": {},
   "outputs": [
    {
     "name": "stdout",
     "output_type": "stream",
     "text": [
      "Job name:  deepar-bike-2022-05-19-19-15-14-057\n"
     ]
    }
   ],
   "source": [
    "job_name = deepar.latest_training_job.name\n",
    "print('Job name: ', job_name)"
   ]
  },
  {
   "cell_type": "code",
   "execution_count": 62,
   "metadata": {},
   "outputs": [
    {
     "name": "stdout",
     "output_type": "stream",
     "text": [
      "------!"
     ]
    }
   ],
   "source": [
    "endpoint = session.endpoint_from_job(job_name = job_name,\n",
    "                                     initial_instance_count = 1,\n",
    "                                     instance_type = \"ml.m5.large\",\n",
    "                                     image_uri = container,\n",
    "                                     role = role)"
   ]
  },
  {
   "cell_type": "code",
   "execution_count": 63,
   "metadata": {},
   "outputs": [
    {
     "name": "stdout",
     "output_type": "stream",
     "text": [
      "Endpoint:  deepar-bike-2022-05-19-19-15-14-057\n"
     ]
    }
   ],
   "source": [
    "print('Endpoint: ', endpoint)"
   ]
  },
  {
   "cell_type": "code",
   "execution_count": 64,
   "metadata": {},
   "outputs": [],
   "source": [
    "class DeepARPredictor(sagemaker.predictor.Predictor):\n",
    "\n",
    "    def set_prediction_parameters(self, freq, prediction_length):\n",
    "        \"\"\"Set the time frequency and prediction length parameters. \n",
    "          This method **must** be called before being able to use `predict`.\n",
    "        \n",
    "        Parameters:\n",
    "        freq -- string indicating the time frequency\n",
    "        prediction_length -- integer, number of predicted time points\n",
    "        \n",
    "        Return value: none.\n",
    "        \"\"\"\n",
    "        self.freq = freq\n",
    "        self.prediction_length = prediction_length\n",
    "        \n",
    "    def predict(self, ts, cat=None, dynamic_feat=None, \n",
    "                encoding=\"utf-8\", num_samples=100, quantiles=[\"0.1\", \"0.5\", \"0.9\"]):\n",
    "        \"\"\"Requests the prediction of for the time series listed in `ts`, \n",
    "           each with the (optional) corresponding category listed in `cat`.\n",
    "        \n",
    "        Parameters:\n",
    "        ts -- list of `pandas.Series` objects, the time series to predict\n",
    "        cat -- list of integers (default: None)\n",
    "        encoding -- string, encoding to use for the request (default: \"utf-8\")\n",
    "        num_samples -- integer, number of samples to compute at prediction time (default: 100)\n",
    "        quantiles -- list of strings specifying the quantiles to compute (default: [\"0.1\", \"0.5\", \"0.9\"])\n",
    "        \n",
    "        Return value: list of `pandas.DataFrame` objects, each containing the predictions\n",
    "        \"\"\"\n",
    "        prediction_times = [x.index[-1] + datetime.timedelta(hours=1) for x in ts] \n",
    "        \n",
    "        req = self.__encode_request(ts, cat, dynamic_feat, encoding, num_samples, quantiles)\n",
    "        res = super(DeepARPredictor, self).predict(req)\n",
    "        return self.__decode_response(res, prediction_times, encoding)\n",
    "    \n",
    "    def __encode_request(self, ts, cat, dynamic_feat, encoding, num_samples, quantiles):\n",
    "        \n",
    "        instances = [series_to_obj(ts[k]) for k in range(len(ts))]\n",
    "        \n",
    "        configuration = {\"num_samples\": num_samples, \"output_types\": [\"quantiles\"], \"quantiles\": quantiles}\n",
    "        http_request_data = {\"instances\": instances, \"configuration\": configuration}\n",
    "        return json.dumps(http_request_data).encode(encoding)\n",
    "    \n",
    "    def __decode_response(self, response, prediction_times, encoding):\n",
    "        response_data = json.loads(response.decode(encoding))\n",
    "        list_of_df = []\n",
    "        for k in range(len(prediction_times)):\n",
    "            prediction_index = pd.date_range(start=prediction_times[k], freq=self.freq, periods=self.prediction_length)\n",
    "            list_of_df.append(pd.DataFrame(data=response_data['predictions'][k]['quantiles'], index=prediction_index))\n",
    "        return list_of_df"
   ]
  },
  {
   "cell_type": "code",
   "execution_count": 65,
   "metadata": {},
   "outputs": [],
   "source": [
    "predictor = DeepARPredictor(endpoint_name = 'deepar-bike-2022-05-19-19-15-14-057',\n",
    "                            sagemaker_session = session)\n",
    "predictor.set_prediction_parameters(freq, prediction_length)\n",
    "predictor.serializer.content_type = \"application/json\""
   ]
  },
  {
   "cell_type": "code",
   "execution_count": 68,
   "metadata": {},
   "outputs": [],
   "source": [
    "previsoes = predictor.predict(serie_temporal_treinamento)"
   ]
  },
  {
   "cell_type": "code",
   "execution_count": 70,
   "metadata": {},
   "outputs": [
    {
     "data": {
      "text/plain": [
       "30"
      ]
     },
     "execution_count": 70,
     "metadata": {},
     "output_type": "execute_result"
    }
   ],
   "source": [
    "len(previsoes[0])"
   ]
  },
  {
   "cell_type": "code",
   "execution_count": 71,
   "metadata": {},
   "outputs": [
    {
     "data": {
      "text/plain": [
       "[                             0.1          0.5          0.9\n",
       " 2012-11-19 01:00:00    81.751160  1021.147034  1941.947632\n",
       " 2012-11-20 01:00:00  -477.450104  -126.183731   200.116821\n",
       " 2012-11-21 01:00:00  -192.595276   -62.932251   102.896500\n",
       " 2012-11-22 01:00:00   -83.179741   -10.409641   100.315605\n",
       " 2012-11-23 01:00:00  -117.356873   -38.689064    32.051506\n",
       " 2012-11-24 01:00:00  -120.325974   -45.842602    30.433727\n",
       " 2012-11-25 01:00:00   -71.074921     8.277226   105.337250\n",
       " 2012-11-26 01:00:00  -110.271332   -50.417408    40.498543\n",
       " 2012-11-27 01:00:00  -226.430984   -61.401958    66.499580\n",
       " 2012-11-28 01:00:00  -182.769867   -40.222404   144.569168\n",
       " 2012-11-29 01:00:00   -82.768921   285.667725   774.222046\n",
       " 2012-11-30 01:00:00  1024.545654  2135.741211  3839.138916\n",
       " 2012-12-01 01:00:00  2883.889648  4239.021484  5993.821777\n",
       " 2012-12-02 01:00:00  2838.771240  5567.348633  7744.334961\n",
       " 2012-12-03 01:00:00  3737.095947  5737.732910  7799.645508\n",
       " 2012-12-04 01:00:00  4021.275391  5699.877930  6996.214355\n",
       " 2012-12-05 01:00:00  4028.331299  5529.660156  6724.604004\n",
       " 2012-12-06 01:00:00  4658.131836  5640.213379  7340.486816\n",
       " 2012-12-07 01:00:00  4400.713379  5621.302246  7204.938477\n",
       " 2012-12-08 01:00:00  4487.339844  5593.937012  6657.020996\n",
       " 2012-12-09 01:00:00  4685.892578  5710.781738  6917.207520\n",
       " 2012-12-10 01:00:00  4780.791016  5814.346191  6873.307129\n",
       " 2012-12-11 01:00:00  4682.760254  5631.159180  7008.041992\n",
       " 2012-12-12 01:00:00  4747.140625  5810.919922  7114.795898\n",
       " 2012-12-13 01:00:00  4787.459961  5948.392090  7101.114746\n",
       " 2012-12-14 01:00:00  4505.422363  5705.535645  6812.600586\n",
       " 2012-12-15 01:00:00  4486.506836  5719.681641  7035.645996\n",
       " 2012-12-16 01:00:00  4723.630859  5766.337402  7069.052246\n",
       " 2012-12-17 01:00:00  3612.868164  5775.592285  7542.102539\n",
       " 2012-12-18 01:00:00  2061.799805  4414.260254  6524.545898]"
      ]
     },
     "execution_count": 71,
     "metadata": {},
     "output_type": "execute_result"
    }
   ],
   "source": [
    "previsoes"
   ]
  },
  {
   "cell_type": "code",
   "execution_count": 75,
   "metadata": {},
   "outputs": [
    {
     "data": {
      "image/png": "[encoded data removed]",
      "text/plain": [
       "<Figure size 864x432 with 1 Axes>"
      ]
     },
     "metadata": {
      "needs_background": "light"
     },
     "output_type": "display_data"
    }
   ],
   "source": [
    "for k in range(len(previsoes)):\n",
    "    plt.figure(figsize=(12,6))\n",
    "    previsoes[k]['0.5'].plot(label = 'Mediana', color = 'red')\n",
    "    #serie_temporal_teste[k].plot(label = 'Alvo')\n",
    "    serie_temporal_teste[k][-prediction_length - context_length:].plot(label = 'Alvo')\n",
    "    p10 = previsoes[k]['0.1']\n",
    "    p90 = previsoes[k]['0.9']\n",
    "    plt.fill_between(p10.index, p10, p90, color = 'y', alpha = 0.5, label = 'Intervalo de confiança')\n",
    "    plt.legend()\n",
    "    plt.show()"
   ]
  },
  {
   "cell_type": "code",
   "execution_count": 77,
   "metadata": {},
   "outputs": [
    {
     "data": {
      "text/plain": [
       "30"
      ]
     },
     "execution_count": 77,
     "metadata": {},
     "output_type": "execute_result"
    }
   ],
   "source": [
    "df_teste = base.iloc[689:,:]\n",
    "len(df_teste)"
   ]
  },
  {
   "cell_type": "code",
   "execution_count": 78,
   "metadata": {},
   "outputs": [
    {
     "data": {
      "text/html": [
       "<div>\n",
       "<style scoped>\n",
       "    .dataframe tbody tr th:only-of-type {\n",
       "        vertical-align: middle;\n",
       "    }\n",
       "\n",
       "    .dataframe tbody tr th {\n",
       "        vertical-align: top;\n",
       "    }\n",
       "\n",
       "    .dataframe thead th {\n",
       "        text-align: right;\n",
       "    }\n",
       "</style>\n",
       "<table border=\"1\" class=\"dataframe\">\n",
       "  <thead>\n",
       "    <tr style=\"text-align: right;\">\n",
       "      <th></th>\n",
       "      <th>count</th>\n",
       "    </tr>\n",
       "    <tr>\n",
       "      <th>datetime</th>\n",
       "      <th></th>\n",
       "    </tr>\n",
       "  </thead>\n",
       "  <tbody>\n",
       "    <tr>\n",
       "      <th>2012-11-20</th>\n",
       "      <td>0</td>\n",
       "    </tr>\n",
       "    <tr>\n",
       "      <th>2012-11-21</th>\n",
       "      <td>0</td>\n",
       "    </tr>\n",
       "    <tr>\n",
       "      <th>2012-11-22</th>\n",
       "      <td>0</td>\n",
       "    </tr>\n",
       "    <tr>\n",
       "      <th>2012-11-23</th>\n",
       "      <td>0</td>\n",
       "    </tr>\n",
       "    <tr>\n",
       "      <th>2012-11-24</th>\n",
       "      <td>0</td>\n",
       "    </tr>\n",
       "    <tr>\n",
       "      <th>2012-11-25</th>\n",
       "      <td>0</td>\n",
       "    </tr>\n",
       "    <tr>\n",
       "      <th>2012-11-26</th>\n",
       "      <td>0</td>\n",
       "    </tr>\n",
       "    <tr>\n",
       "      <th>2012-11-27</th>\n",
       "      <td>0</td>\n",
       "    </tr>\n",
       "    <tr>\n",
       "      <th>2012-11-28</th>\n",
       "      <td>0</td>\n",
       "    </tr>\n",
       "    <tr>\n",
       "      <th>2012-11-29</th>\n",
       "      <td>0</td>\n",
       "    </tr>\n",
       "    <tr>\n",
       "      <th>2012-11-30</th>\n",
       "      <td>0</td>\n",
       "    </tr>\n",
       "    <tr>\n",
       "      <th>2012-12-01</th>\n",
       "      <td>5191</td>\n",
       "    </tr>\n",
       "    <tr>\n",
       "      <th>2012-12-02</th>\n",
       "      <td>4649</td>\n",
       "    </tr>\n",
       "    <tr>\n",
       "      <th>2012-12-03</th>\n",
       "      <td>6234</td>\n",
       "    </tr>\n",
       "    <tr>\n",
       "      <th>2012-12-04</th>\n",
       "      <td>6606</td>\n",
       "    </tr>\n",
       "    <tr>\n",
       "      <th>2012-12-05</th>\n",
       "      <td>5729</td>\n",
       "    </tr>\n",
       "    <tr>\n",
       "      <th>2012-12-06</th>\n",
       "      <td>5375</td>\n",
       "    </tr>\n",
       "    <tr>\n",
       "      <th>2012-12-07</th>\n",
       "      <td>5008</td>\n",
       "    </tr>\n",
       "    <tr>\n",
       "      <th>2012-12-08</th>\n",
       "      <td>5582</td>\n",
       "    </tr>\n",
       "    <tr>\n",
       "      <th>2012-12-09</th>\n",
       "      <td>3228</td>\n",
       "    </tr>\n",
       "    <tr>\n",
       "      <th>2012-12-10</th>\n",
       "      <td>5170</td>\n",
       "    </tr>\n",
       "    <tr>\n",
       "      <th>2012-12-11</th>\n",
       "      <td>5501</td>\n",
       "    </tr>\n",
       "    <tr>\n",
       "      <th>2012-12-12</th>\n",
       "      <td>5319</td>\n",
       "    </tr>\n",
       "    <tr>\n",
       "      <th>2012-12-13</th>\n",
       "      <td>5532</td>\n",
       "    </tr>\n",
       "    <tr>\n",
       "      <th>2012-12-14</th>\n",
       "      <td>5611</td>\n",
       "    </tr>\n",
       "    <tr>\n",
       "      <th>2012-12-15</th>\n",
       "      <td>5047</td>\n",
       "    </tr>\n",
       "    <tr>\n",
       "      <th>2012-12-16</th>\n",
       "      <td>3786</td>\n",
       "    </tr>\n",
       "    <tr>\n",
       "      <th>2012-12-17</th>\n",
       "      <td>4585</td>\n",
       "    </tr>\n",
       "    <tr>\n",
       "      <th>2012-12-18</th>\n",
       "      <td>5557</td>\n",
       "    </tr>\n",
       "    <tr>\n",
       "      <th>2012-12-19</th>\n",
       "      <td>5267</td>\n",
       "    </tr>\n",
       "  </tbody>\n",
       "</table>\n",
       "</div>"
      ],
      "text/plain": [
       "            count\n",
       "datetime         \n",
       "2012-11-20      0\n",
       "2012-11-21      0\n",
       "2012-11-22      0\n",
       "2012-11-23      0\n",
       "2012-11-24      0\n",
       "2012-11-25      0\n",
       "2012-11-26      0\n",
       "2012-11-27      0\n",
       "2012-11-28      0\n",
       "2012-11-29      0\n",
       "2012-11-30      0\n",
       "2012-12-01   5191\n",
       "2012-12-02   4649\n",
       "2012-12-03   6234\n",
       "2012-12-04   6606\n",
       "2012-12-05   5729\n",
       "2012-12-06   5375\n",
       "2012-12-07   5008\n",
       "2012-12-08   5582\n",
       "2012-12-09   3228\n",
       "2012-12-10   5170\n",
       "2012-12-11   5501\n",
       "2012-12-12   5319\n",
       "2012-12-13   5532\n",
       "2012-12-14   5611\n",
       "2012-12-15   5047\n",
       "2012-12-16   3786\n",
       "2012-12-17   4585\n",
       "2012-12-18   5557\n",
       "2012-12-19   5267"
      ]
     },
     "execution_count": 78,
     "metadata": {},
     "output_type": "execute_result"
    }
   ],
   "source": [
    "df_teste"
   ]
  },
  {
   "cell_type": "code",
   "execution_count": 79,
   "metadata": {},
   "outputs": [
    {
     "data": {
      "text/plain": [
       "array([1021.14703369, -126.18373108,  -62.93225098,  -10.40964127,\n",
       "        -38.68906403,  -45.84260178,    8.27722645,  -50.41740799,\n",
       "        -61.40195847,  -40.22240448,  285.66772461, 2135.74121094,\n",
       "       4239.02148438, 5567.34863281, 5737.73291016, 5699.87792969,\n",
       "       5529.66015625, 5640.21337891, 5621.30224609, 5593.93701172,\n",
       "       5710.78173828, 5814.34619141, 5631.15917969, 5810.91992188,\n",
       "       5948.39208984, 5705.53564453, 5719.68164062, 5766.33740234,\n",
       "       5775.59228516, 4414.26025391])"
      ]
     },
     "execution_count": 79,
     "metadata": {},
     "output_type": "execute_result"
    }
   ],
   "source": [
    "previsoes2 = previsoes[0]['0.5'].values\n",
    "previsoes2"
   ]
  },
  {
   "cell_type": "code",
   "execution_count": 80,
   "metadata": {},
   "outputs": [
    {
     "data": {
      "text/plain": [
       "array([   0,    0,    0,    0,    0,    0,    0,    0,    0,    0,    0,\n",
       "       5191, 4649, 6234, 6606, 5729, 5375, 5008, 5582, 3228, 5170, 5501,\n",
       "       5319, 5532, 5611, 5047, 3786, 4585, 5557, 5267])"
      ]
     },
     "execution_count": 80,
     "metadata": {},
     "output_type": "execute_result"
    }
   ],
   "source": [
    "esperado = df_teste['count'].values\n",
    "esperado"
   ]
  },
  {
   "cell_type": "code",
   "execution_count": 81,
   "metadata": {},
   "outputs": [
    {
     "name": "stdout",
     "output_type": "stream",
     "text": [
      "MAE:  553.3355836550468 \n",
      "MSE:  830120.1140067634\n"
     ]
    }
   ],
   "source": [
    "from sklearn.metrics import mean_absolute_error, mean_squared_error\n",
    "mae = mean_absolute_error(esperado, previsoes2)\n",
    "mse = mean_squared_error(esperado, previsoes2)\n",
    "print('MAE: ', mae, '\\nMSE: ', mse)"
   ]
  },
  {
   "cell_type": "code",
   "execution_count": null,
   "metadata": {},
   "outputs": [],
   "source": []
  }
 ],
 "metadata": {
  "instance_type": "ml.t3.medium",
  "kernelspec": {
   "display_name": "Python 3 (Data Science)",
   "language": "python",
   "name": "python3__SAGEMAKER_INTERNAL__arn:aws:sagemaker:sa-east-1:782484402741:image/datascience-1.0"
  },
  "language_info": {
   "codemirror_mode": {
    "name": "ipython",
    "version": 3
   },
   "file_extension": ".py",
   "mimetype": "text/x-python",
   "name": "python",
   "nbconvert_exporter": "python",
   "pygments_lexer": "ipython3",
   "version": "3.7.10"
  }
 },
 "nbformat": 4,
 "nbformat_minor": 4
}
