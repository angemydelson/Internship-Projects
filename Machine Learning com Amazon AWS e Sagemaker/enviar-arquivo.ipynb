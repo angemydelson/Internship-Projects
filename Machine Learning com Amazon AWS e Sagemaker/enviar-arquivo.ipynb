{
 "cells": [
  {
   "cell_type": "code",
   "execution_count": 2,
   "metadata": {},
   "outputs": [],
   "source": [
    "# https://docs.aws.amazon.com/pythonsdk/?id=docs_gateway\n",
    "import boto3\n",
    "from sagemaker.s3 import S3Uploader"
   ]
  },
  {
   "cell_type": "code",
   "execution_count": 3,
   "metadata": {},
   "outputs": [],
   "source": [
    "session = boto3.Session()"
   ]
  },
  {
   "cell_type": "code",
   "execution_count": 4,
   "metadata": {},
   "outputs": [
    {
     "data": {
      "text/plain": [
       "'sa-east-1'"
      ]
     },
     "execution_count": 4,
     "metadata": {},
     "output_type": "execute_result"
    }
   ],
   "source": [
    "session.region_name"
   ]
  },
  {
   "cell_type": "code",
   "execution_count": 6,
   "metadata": {},
   "outputs": [
    {
     "data": {
      "text/plain": [
       "{'ResponseMetadata': {'RequestId': 'Z44G1NF52V5QDD63',\n",
       "  'HostId': '4aHtAGVLIw9FQabtnWJPguQveuWibIw7zsRLrxXvV6rEMnBJuoqajB3Z8+/bYHnrONgra/Dcrf4=',\n",
       "  'HTTPStatusCode': 200,\n",
       "  'HTTPHeaders': {'x-amz-id-2': '4aHtAGVLIw9FQabtnWJPguQveuWibIw7zsRLrxXvV6rEMnBJuoqajB3Z8+/bYHnrONgra/Dcrf4=',\n",
       "   'x-amz-request-id': 'Z44G1NF52V5QDD63',\n",
       "   'date': 'Tue, 10 May 2022 16:36:06 GMT',\n",
       "   'location': 'http://cursoawssagemaker.s3.amazonaws.com/',\n",
       "   'server': 'AmazonS3',\n",
       "   'content-length': '0'},\n",
       "  'RetryAttempts': 0},\n",
       " 'Location': 'http://cursoawssagemaker.s3.amazonaws.com/'}"
      ]
     },
     "execution_count": 6,
     "metadata": {},
     "output_type": "execute_result"
    }
   ],
   "source": [
    "bucket = 'cursoawssagemaker'\n",
    "session.client('s3').create_bucket(Bucket=bucket, \n",
    "    CreateBucketConfiguration={\"LocationConstraint\": session.region_name})"
   ]
  },
  {
   "cell_type": "code",
   "execution_count": 7,
   "metadata": {},
   "outputs": [],
   "source": [
    "subpasta = \"arquivos\""
   ]
  },
  {
   "cell_type": "code",
   "execution_count": 8,
   "metadata": {},
   "outputs": [
    {
     "name": "stdout",
     "output_type": "stream",
     "text": [
      "s3://cursoawssagemaker/arquivos\n"
     ]
    }
   ],
   "source": [
    "caminho = \"s3://{}/{}\".format(bucket, subpasta)\n",
    "print(caminho)"
   ]
  },
  {
   "cell_type": "code",
   "execution_count": 9,
   "metadata": {},
   "outputs": [
    {
     "name": "stdout",
     "output_type": "stream",
     "text": [
      "s3://cursoawssagemaker/arquivos/digit.png\n"
     ]
    }
   ],
   "source": [
    "s3_imagem = S3Uploader.upload(\"digit.png\", caminho)\n",
    "print(s3_imagem)"
   ]
  },
  {
   "cell_type": "code",
   "execution_count": 10,
   "metadata": {},
   "outputs": [
    {
     "name": "stdout",
     "output_type": "stream",
     "text": [
      "s3://cursoawssagemaker/arquivos/house_prices.csv\n"
     ]
    }
   ],
   "source": [
    "s3_base = S3Uploader.upload(\"house_prices.csv\", caminho)\n",
    "print(s3_base)"
   ]
  },
  {
   "cell_type": "code",
   "execution_count": null,
   "metadata": {},
   "outputs": [],
   "source": []
  }
 ],
 "metadata": {
  "instance_type": "ml.t3.medium",
  "kernelspec": {
   "display_name": "Python 3 (Data Science)",
   "language": "python",
   "name": "python3__SAGEMAKER_INTERNAL__arn:aws:sagemaker:sa-east-1:782484402741:image/datascience-1.0"
  },
  "language_info": {
   "codemirror_mode": {
    "name": "ipython",
    "version": 3
   },
   "file_extension": ".py",
   "mimetype": "text/x-python",
   "name": "python",
   "nbconvert_exporter": "python",
   "pygments_lexer": "ipython3",
   "version": "3.7.10"
  }
 },
 "nbformat": 4,
 "nbformat_minor": 4
}
